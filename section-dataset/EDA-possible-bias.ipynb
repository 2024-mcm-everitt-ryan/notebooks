{
 "cells": [
  {
   "cell_type": "code",
   "id": "initial_id",
   "metadata": {
    "collapsed": true,
    "ExecuteTime": {
     "end_time": "2024-07-28T12:02:17.134407Z",
     "start_time": "2024-07-28T12:02:17.053425Z"
    }
   },
   "source": [
    "from huggingface_hub import login\n",
    "import os\n",
    "\n",
    "login(token=os.getenv(\"HF_TOKEN\"))\n",
    "\n",
    "#from huggingface_hub import notebook_login\n",
    "#notebook_login()"
   ],
   "outputs": [
    {
     "data": {
      "text/plain": [
       "VBox(children=(HTML(value='<center> <img\\nsrc=https://huggingface.co/front/assets/huggingface_logo-noborder.sv…"
      ],
      "application/vnd.jupyter.widget-view+json": {
       "version_major": 2,
       "version_minor": 0,
       "model_id": "cf2259e7d2b04a6091828f3c1d33e9f7"
      }
     },
     "metadata": {},
     "output_type": "display_data"
    }
   ],
   "execution_count": 1
  },
  {
   "metadata": {
    "ExecuteTime": {
     "end_time": "2024-07-28T12:04:42.188729Z",
     "start_time": "2024-07-28T12:04:42.186432Z"
    }
   },
   "cell_type": "code",
   "source": [
    "hf_site_id = '2024-mcm-everitt-ryan'\n",
    "dataset_id = f'{hf_site_id}/possible-bias'"
   ],
   "id": "e236250cd8f3ea6d",
   "outputs": [],
   "execution_count": 1
  },
  {
   "metadata": {
    "ExecuteTime": {
     "end_time": "2024-07-28T12:05:18.524176Z",
     "start_time": "2024-07-28T12:04:42.189785Z"
    }
   },
   "cell_type": "code",
   "source": [
    "from datasets import load_dataset\n",
    "\n",
    "dataset = load_dataset(dataset_id)\n",
    "df = dataset['train'].to_pandas()"
   ],
   "id": "59139cb6a5381609",
   "outputs": [
    {
     "data": {
      "text/plain": [
       "Resolving data files:   0%|          | 0/45 [00:00<?, ?it/s]"
      ],
      "application/vnd.jupyter.widget-view+json": {
       "version_major": 2,
       "version_minor": 0,
       "model_id": "d7a57faddeae4c22acbbcb653cb561e9"
      }
     },
     "metadata": {},
     "output_type": "display_data"
    },
    {
     "data": {
      "text/plain": [
       "Resolving data files:   0%|          | 0/45 [00:00<?, ?it/s]"
      ],
      "application/vnd.jupyter.widget-view+json": {
       "version_major": 2,
       "version_minor": 0,
       "model_id": "a9938e3894c64a739e5f36eda39e3f3a"
      }
     },
     "metadata": {},
     "output_type": "display_data"
    },
    {
     "data": {
      "text/plain": [
       "Loading dataset shards:   0%|          | 0/44 [00:00<?, ?it/s]"
      ],
      "application/vnd.jupyter.widget-view+json": {
       "version_major": 2,
       "version_minor": 0,
       "model_id": "7bdaf8debfb04106a2bf73e6f731722c"
      }
     },
     "metadata": {},
     "output_type": "display_data"
    }
   ],
   "execution_count": 2
  },
  {
   "metadata": {
    "ExecuteTime": {
     "end_time": "2024-07-28T12:05:18.529025Z",
     "start_time": "2024-07-28T12:05:18.525435Z"
    }
   },
   "cell_type": "code",
   "source": [
    "print(f\"Column Names: {df.columns}\")\n",
    "print(f\"Columns: {len(df.columns)}\")\n",
    "print(f\"Rows: {len(df)}\")"
   ],
   "id": "8e2ba7da8d6b1600",
   "outputs": [
    {
     "name": "stdout",
     "output_type": "stream",
     "text": [
      "Column Names: Index(['document_id', 'phrase_index', 'phrase_series', 'source', 'country',\n",
      "       'company', 'position', 'terms_count_total', 'domain_terms',\n",
      "       'provisional_terms', 'synthetic_terms', 'terms_count_age',\n",
      "       'terms_list_age', 'reasons_list_age', 'suggestions_list_age',\n",
      "       'terms_count_disability', 'terms_list_disability',\n",
      "       'reasons_list_disability', 'suggestions_list_disability',\n",
      "       'terms_count_general', 'terms_list_general', 'reasons_list_general',\n",
      "       'suggestions_list_general', 'terms_count_masculine',\n",
      "       'terms_list_masculine', 'reasons_list_masculine',\n",
      "       'suggestions_list_masculine', 'terms_count_feminine',\n",
      "       'terms_list_feminine', 'reasons_list_feminine',\n",
      "       'suggestions_list_feminine', 'terms_count_racial', 'terms_list_racial',\n",
      "       'reasons_list_racial', 'suggestions_list_racial',\n",
      "       'terms_count_sexuality', 'terms_list_sexuality',\n",
      "       'reasons_list_sexuality', 'suggestions_list_sexuality',\n",
      "       'phrase_character_count', 'phrase_word_count', 'phrase_max_word_count',\n",
      "       'text', 'html'],\n",
      "      dtype='object')\n",
      "Columns: 44\n",
      "Rows: 2519045\n"
     ]
    }
   ],
   "execution_count": 3
  },
  {
   "metadata": {
    "ExecuteTime": {
     "end_time": "2024-07-28T12:05:19.788076Z",
     "start_time": "2024-07-28T12:05:18.529700Z"
    }
   },
   "cell_type": "code",
   "source": [
    "index0_df = df[df['phrase_index'] == 0]\n",
    "\n",
    "print(f\"Documents: {index0_df.shape[0]}\")\n",
    "print(f\"Phrases: {df.shape[0]}\")\n",
    "print(f\"Countries: {len(df['country'].unique())}\")\n",
    "print(f\"Websites: {len(df['source'].unique())}\")\n",
    "print(f\"Companies: {len(df['company'].unique())}\")\n",
    "print(f\"Roles: {len(df['position'].unique())}\")"
   ],
   "id": "eadbb8b7bcf5be6",
   "outputs": [
    {
     "name": "stdout",
     "output_type": "stream",
     "text": [
      "Documents: 1693642\n",
      "Phrases: 2519045\n",
      "Countries: 81\n",
      "Websites: 177\n",
      "Companies: 231559\n",
      "Roles: 787692\n"
     ]
    }
   ],
   "execution_count": 4
  },
  {
   "metadata": {
    "ExecuteTime": {
     "end_time": "2024-07-28T12:05:19.791605Z",
     "start_time": "2024-07-28T12:05:19.789126Z"
    }
   },
   "cell_type": "code",
   "source": [
    "text_col = 'text'\n",
    "terms_count_cols = [col for col in df.columns if col.startswith('terms_count_')]\n",
    "terms_list_cols = [col for col in df.columns if col.startswith('terms_list_')]\n",
    "print(f'terms_count_cols: {len(terms_count_cols)}')\n",
    "print(f'terms_list_cols: {len(terms_list_cols)}')"
   ],
   "id": "3391966c47bb457e",
   "outputs": [
    {
     "name": "stdout",
     "output_type": "stream",
     "text": [
      "terms_count_cols: 8\n",
      "terms_list_cols: 7\n"
     ]
    }
   ],
   "execution_count": 5
  },
  {
   "metadata": {
    "ExecuteTime": {
     "end_time": "2024-07-28T12:05:19.831662Z",
     "start_time": "2024-07-28T12:05:19.792196Z"
    }
   },
   "cell_type": "code",
   "source": "index0_df['phrase_series'].describe(percentiles=[0.90]).loc[['min','max','mean', '90%']]",
   "id": "cd6290ab7a29519b",
   "outputs": [
    {
     "data": {
      "text/plain": [
       "min      1.000000\n",
       "max     17.000000\n",
       "mean     1.550825\n",
       "90%      2.000000\n",
       "Name: phrase_series, dtype: float64"
      ]
     },
     "execution_count": 6,
     "metadata": {},
     "output_type": "execute_result"
    }
   ],
   "execution_count": 6
  },
  {
   "metadata": {
    "ExecuteTime": {
     "end_time": "2024-07-28T12:05:19.967204Z",
     "start_time": "2024-07-28T12:05:19.832474Z"
    }
   },
   "cell_type": "code",
   "source": [
    "word_char_stats = df[[ 'phrase_character_count', 'phrase_word_count']].describe().loc[['min','max','mean', 'std','25%','50%','75%']].T\n",
    "word_char_stats.sort_values(by='max', ascending=False)"
   ],
   "id": "5823262ed5e5f549",
   "outputs": [
    {
     "data": {
      "text/plain": [
       "                         min     max         mean         std     25%     50%  \\\n",
       "phrase_character_count  20.0  3000.0  1870.074252  796.946528  1222.0  2104.0   \n",
       "phrase_word_count        4.0   400.0   281.238015  117.278435   186.0   319.0   \n",
       "\n",
       "                           75%  \n",
       "phrase_character_count  2565.0  \n",
       "phrase_word_count        389.0  "
      ],
      "text/html": [
       "<div>\n",
       "<style scoped>\n",
       "    .dataframe tbody tr th:only-of-type {\n",
       "        vertical-align: middle;\n",
       "    }\n",
       "\n",
       "    .dataframe tbody tr th {\n",
       "        vertical-align: top;\n",
       "    }\n",
       "\n",
       "    .dataframe thead th {\n",
       "        text-align: right;\n",
       "    }\n",
       "</style>\n",
       "<table border=\"1\" class=\"dataframe\">\n",
       "  <thead>\n",
       "    <tr style=\"text-align: right;\">\n",
       "      <th></th>\n",
       "      <th>min</th>\n",
       "      <th>max</th>\n",
       "      <th>mean</th>\n",
       "      <th>std</th>\n",
       "      <th>25%</th>\n",
       "      <th>50%</th>\n",
       "      <th>75%</th>\n",
       "    </tr>\n",
       "  </thead>\n",
       "  <tbody>\n",
       "    <tr>\n",
       "      <th>phrase_character_count</th>\n",
       "      <td>20.0</td>\n",
       "      <td>3000.0</td>\n",
       "      <td>1870.074252</td>\n",
       "      <td>796.946528</td>\n",
       "      <td>1222.0</td>\n",
       "      <td>2104.0</td>\n",
       "      <td>2565.0</td>\n",
       "    </tr>\n",
       "    <tr>\n",
       "      <th>phrase_word_count</th>\n",
       "      <td>4.0</td>\n",
       "      <td>400.0</td>\n",
       "      <td>281.238015</td>\n",
       "      <td>117.278435</td>\n",
       "      <td>186.0</td>\n",
       "      <td>319.0</td>\n",
       "      <td>389.0</td>\n",
       "    </tr>\n",
       "  </tbody>\n",
       "</table>\n",
       "</div>"
      ]
     },
     "execution_count": 7,
     "metadata": {},
     "output_type": "execute_result"
    }
   ],
   "execution_count": 7
  },
  {
   "metadata": {
    "ExecuteTime": {
     "end_time": "2024-07-28T12:05:20.327121Z",
     "start_time": "2024-07-28T12:05:19.968175Z"
    }
   },
   "cell_type": "code",
   "source": [
    "terms_count_stats = df[terms_count_cols].describe().loc[['min','max','mean', 'std','25%','50%','75%']].T\n",
    "terms_count_stats.sort_values(by='max', ascending=False)"
   ],
   "id": "6d4f42859e62e60f",
   "outputs": [
    {
     "data": {
      "text/plain": [
       "                        min   max      mean       std  25%  50%   75%\n",
       "terms_count_total       1.0  39.0  7.565196  4.562500  4.0  7.0  11.0\n",
       "terms_count_masculine   0.0  28.0  4.003326  2.808236  2.0  4.0   6.0\n",
       "terms_count_disability  0.0  15.0  0.322236  0.762076  0.0  0.0   0.0\n",
       "terms_count_feminine    0.0  13.0  2.134888  1.771144  1.0  2.0   3.0\n",
       "terms_count_general     0.0  10.0  0.924530  0.978374  0.0  1.0   1.0\n",
       "terms_count_age         0.0   5.0  0.121491  0.350114  0.0  0.0   0.0\n",
       "terms_count_racial      0.0   5.0  0.043106  0.210739  0.0  0.0   0.0\n",
       "terms_count_sexuality   0.0   4.0  0.015619  0.130660  0.0  0.0   0.0"
      ],
      "text/html": [
       "<div>\n",
       "<style scoped>\n",
       "    .dataframe tbody tr th:only-of-type {\n",
       "        vertical-align: middle;\n",
       "    }\n",
       "\n",
       "    .dataframe tbody tr th {\n",
       "        vertical-align: top;\n",
       "    }\n",
       "\n",
       "    .dataframe thead th {\n",
       "        text-align: right;\n",
       "    }\n",
       "</style>\n",
       "<table border=\"1\" class=\"dataframe\">\n",
       "  <thead>\n",
       "    <tr style=\"text-align: right;\">\n",
       "      <th></th>\n",
       "      <th>min</th>\n",
       "      <th>max</th>\n",
       "      <th>mean</th>\n",
       "      <th>std</th>\n",
       "      <th>25%</th>\n",
       "      <th>50%</th>\n",
       "      <th>75%</th>\n",
       "    </tr>\n",
       "  </thead>\n",
       "  <tbody>\n",
       "    <tr>\n",
       "      <th>terms_count_total</th>\n",
       "      <td>1.0</td>\n",
       "      <td>39.0</td>\n",
       "      <td>7.565196</td>\n",
       "      <td>4.562500</td>\n",
       "      <td>4.0</td>\n",
       "      <td>7.0</td>\n",
       "      <td>11.0</td>\n",
       "    </tr>\n",
       "    <tr>\n",
       "      <th>terms_count_masculine</th>\n",
       "      <td>0.0</td>\n",
       "      <td>28.0</td>\n",
       "      <td>4.003326</td>\n",
       "      <td>2.808236</td>\n",
       "      <td>2.0</td>\n",
       "      <td>4.0</td>\n",
       "      <td>6.0</td>\n",
       "    </tr>\n",
       "    <tr>\n",
       "      <th>terms_count_disability</th>\n",
       "      <td>0.0</td>\n",
       "      <td>15.0</td>\n",
       "      <td>0.322236</td>\n",
       "      <td>0.762076</td>\n",
       "      <td>0.0</td>\n",
       "      <td>0.0</td>\n",
       "      <td>0.0</td>\n",
       "    </tr>\n",
       "    <tr>\n",
       "      <th>terms_count_feminine</th>\n",
       "      <td>0.0</td>\n",
       "      <td>13.0</td>\n",
       "      <td>2.134888</td>\n",
       "      <td>1.771144</td>\n",
       "      <td>1.0</td>\n",
       "      <td>2.0</td>\n",
       "      <td>3.0</td>\n",
       "    </tr>\n",
       "    <tr>\n",
       "      <th>terms_count_general</th>\n",
       "      <td>0.0</td>\n",
       "      <td>10.0</td>\n",
       "      <td>0.924530</td>\n",
       "      <td>0.978374</td>\n",
       "      <td>0.0</td>\n",
       "      <td>1.0</td>\n",
       "      <td>1.0</td>\n",
       "    </tr>\n",
       "    <tr>\n",
       "      <th>terms_count_age</th>\n",
       "      <td>0.0</td>\n",
       "      <td>5.0</td>\n",
       "      <td>0.121491</td>\n",
       "      <td>0.350114</td>\n",
       "      <td>0.0</td>\n",
       "      <td>0.0</td>\n",
       "      <td>0.0</td>\n",
       "    </tr>\n",
       "    <tr>\n",
       "      <th>terms_count_racial</th>\n",
       "      <td>0.0</td>\n",
       "      <td>5.0</td>\n",
       "      <td>0.043106</td>\n",
       "      <td>0.210739</td>\n",
       "      <td>0.0</td>\n",
       "      <td>0.0</td>\n",
       "      <td>0.0</td>\n",
       "    </tr>\n",
       "    <tr>\n",
       "      <th>terms_count_sexuality</th>\n",
       "      <td>0.0</td>\n",
       "      <td>4.0</td>\n",
       "      <td>0.015619</td>\n",
       "      <td>0.130660</td>\n",
       "      <td>0.0</td>\n",
       "      <td>0.0</td>\n",
       "      <td>0.0</td>\n",
       "    </tr>\n",
       "  </tbody>\n",
       "</table>\n",
       "</div>"
      ]
     },
     "execution_count": 8,
     "metadata": {},
     "output_type": "execute_result"
    }
   ],
   "execution_count": 8
  },
  {
   "metadata": {
    "ExecuteTime": {
     "end_time": "2024-07-28T12:05:20.460946Z",
     "start_time": "2024-07-28T12:05:20.328050Z"
    }
   },
   "cell_type": "code",
   "source": [
    "label_counts = df[terms_count_cols].count().to_dict()\n",
    "label_counts = {k.replace('terms_count_', ''): v for k, v in label_counts.items()}\n",
    "\n",
    "df_terms = df[terms_count_cols].copy()\n",
    "df_terms.rename(columns={col: col.replace('terms_count_', '') for col in df_terms.columns}, inplace=True)\n",
    "df_terms.head(3)"
   ],
   "id": "885f0b0bdd85df03",
   "outputs": [
    {
     "data": {
      "text/plain": [
       "   total  age  disability  general  masculine  feminine  racial  sexuality\n",
       "0     10    0           0        1          4         5       0          0\n",
       "1      6    0           2        1          3         0       0          0\n",
       "2     10    0           3        2          3         2       0          0"
      ],
      "text/html": [
       "<div>\n",
       "<style scoped>\n",
       "    .dataframe tbody tr th:only-of-type {\n",
       "        vertical-align: middle;\n",
       "    }\n",
       "\n",
       "    .dataframe tbody tr th {\n",
       "        vertical-align: top;\n",
       "    }\n",
       "\n",
       "    .dataframe thead th {\n",
       "        text-align: right;\n",
       "    }\n",
       "</style>\n",
       "<table border=\"1\" class=\"dataframe\">\n",
       "  <thead>\n",
       "    <tr style=\"text-align: right;\">\n",
       "      <th></th>\n",
       "      <th>total</th>\n",
       "      <th>age</th>\n",
       "      <th>disability</th>\n",
       "      <th>general</th>\n",
       "      <th>masculine</th>\n",
       "      <th>feminine</th>\n",
       "      <th>racial</th>\n",
       "      <th>sexuality</th>\n",
       "    </tr>\n",
       "  </thead>\n",
       "  <tbody>\n",
       "    <tr>\n",
       "      <th>0</th>\n",
       "      <td>10</td>\n",
       "      <td>0</td>\n",
       "      <td>0</td>\n",
       "      <td>1</td>\n",
       "      <td>4</td>\n",
       "      <td>5</td>\n",
       "      <td>0</td>\n",
       "      <td>0</td>\n",
       "    </tr>\n",
       "    <tr>\n",
       "      <th>1</th>\n",
       "      <td>6</td>\n",
       "      <td>0</td>\n",
       "      <td>2</td>\n",
       "      <td>1</td>\n",
       "      <td>3</td>\n",
       "      <td>0</td>\n",
       "      <td>0</td>\n",
       "      <td>0</td>\n",
       "    </tr>\n",
       "    <tr>\n",
       "      <th>2</th>\n",
       "      <td>10</td>\n",
       "      <td>0</td>\n",
       "      <td>3</td>\n",
       "      <td>2</td>\n",
       "      <td>3</td>\n",
       "      <td>2</td>\n",
       "      <td>0</td>\n",
       "      <td>0</td>\n",
       "    </tr>\n",
       "  </tbody>\n",
       "</table>\n",
       "</div>"
      ]
     },
     "execution_count": 9,
     "metadata": {},
     "output_type": "execute_result"
    }
   ],
   "execution_count": 9
  },
  {
   "metadata": {
    "ExecuteTime": {
     "end_time": "2024-07-28T12:05:20.466554Z",
     "start_time": "2024-07-28T12:05:20.461853Z"
    }
   },
   "cell_type": "code",
   "source": [
    "total_terms = df_terms['total'].sum()\n",
    "label_term_counts = label_counts.copy()\n",
    "del label_term_counts['total']\n",
    "total_terms"
   ],
   "id": "8d450c97a5bf97d9",
   "outputs": [
    {
     "data": {
      "text/plain": [
       "19057068"
      ]
     },
     "execution_count": 10,
     "metadata": {},
     "output_type": "execute_result"
    }
   ],
   "execution_count": 10
  },
  {
   "metadata": {
    "ExecuteTime": {
     "end_time": "2024-07-28T12:06:30.576125Z",
     "start_time": "2024-07-28T12:06:30.374559Z"
    }
   },
   "cell_type": "code",
   "source": [
    "import matplotlib.pyplot as plt\n",
    "\n",
    "df_category_terms = df_terms.drop(columns=['total'])\n",
    "df_category_terms[label_term_counts.keys()].sum()\n",
    "\n",
    "df_terms_sum = df_category_terms[label_term_counts.keys()].sum()\n",
    "df_terms_sum_sorted = df_terms_sum.sort_values(ascending=True)\n",
    "\n",
    "plt.figure(figsize=(8, 4))\n",
    "ax = df_terms_sum_sorted.plot.barh(color='#027EB5')\n",
    "ax.xaxis.set_major_formatter(plt.FuncFormatter(lambda x, loc: \"{:,}\".format(int(x / 1e6))))\n",
    "\n",
    "\n",
    "ax.xaxis.set_tick_params(labelsize=20)\n",
    "ax.yaxis.set_tick_params(labelsize=20) \n",
    "\n",
    "for i in range(len(df_terms_sum_sorted)):\n",
    "    ax.text(10700000, i,\n",
    "            '%.2f M' % (df_terms_sum_sorted.iloc[i] / 1e6),\n",
    "            fontsize=20,\n",
    "            va='center')\n",
    "\n",
    "#total_values = df_terms_sum_sorted.sum(axis=1)\n",
    "\n",
    "\n",
    "#plt.title('Potential Bias Terms (in Millions)')\n",
    "plt.show()\n"
   ],
   "id": "b15cf05354023220",
   "outputs": [
    {
     "data": {
      "text/plain": [
       "<Figure size 576x288 with 1 Axes>"
      ],
      "image/png": "[encoded data removed]"
     },
     "metadata": {},
     "output_type": "display_data"
    }
   ],
   "execution_count": 20
  },
  {
   "metadata": {
    "ExecuteTime": {
     "end_time": "2024-07-28T12:05:20.866846Z",
     "start_time": "2024-07-28T12:05:20.864522Z"
    }
   },
   "cell_type": "code",
   "source": [
    "import pandas as pd\n",
    "\n",
    "\n",
    "def value_stats(dataframe, column, format_counts=True):\n",
    "    counts = dataframe[column].value_counts()\n",
    "    percentages = (dataframe[column].value_counts(normalize=True) * 100).round(2)\n",
    "\n",
    "    dataframe = pd.DataFrame({'Count': counts, 'Percentage': percentages.astype(str) + '%'})\n",
    "    \n",
    "    if format_counts:\n",
    "        dataframe['Count'] = dataframe['Count'].apply('{:,}'.format)\n",
    "    return dataframe\n"
   ],
   "id": "fcfbbb6e940c95b9",
   "outputs": [],
   "execution_count": 12
  },
  {
   "metadata": {
    "ExecuteTime": {
     "end_time": "2024-07-28T12:05:20.969280Z",
     "start_time": "2024-07-28T12:05:20.867740Z"
    }
   },
   "cell_type": "code",
   "source": "value_stats(index0_df, 'source')",
   "id": "43dc4cbf1474abf4",
   "outputs": [
    {
     "data": {
      "text/plain": [
       "                        Count Percentage\n",
       "source                                  \n",
       "reed_uk               186,501     11.01%\n",
       "britishjobs_uk        169,192      9.99%\n",
       "careerbuilder_us      158,210      9.34%\n",
       "aarp_us               139,678      8.25%\n",
       "seek_au               127,567      7.53%\n",
       "...                       ...        ...\n",
       "efinancialcareers_ie        1       0.0%\n",
       "eures_be                    1       0.0%\n",
       "simplyhired_ar              1       0.0%\n",
       "stepstone_be                1       0.0%\n",
       "stepstone_nl                1       0.0%\n",
       "\n",
       "[177 rows x 2 columns]"
      ],
      "text/html": [
       "<div>\n",
       "<style scoped>\n",
       "    .dataframe tbody tr th:only-of-type {\n",
       "        vertical-align: middle;\n",
       "    }\n",
       "\n",
       "    .dataframe tbody tr th {\n",
       "        vertical-align: top;\n",
       "    }\n",
       "\n",
       "    .dataframe thead th {\n",
       "        text-align: right;\n",
       "    }\n",
       "</style>\n",
       "<table border=\"1\" class=\"dataframe\">\n",
       "  <thead>\n",
       "    <tr style=\"text-align: right;\">\n",
       "      <th></th>\n",
       "      <th>Count</th>\n",
       "      <th>Percentage</th>\n",
       "    </tr>\n",
       "    <tr>\n",
       "      <th>source</th>\n",
       "      <th></th>\n",
       "      <th></th>\n",
       "    </tr>\n",
       "  </thead>\n",
       "  <tbody>\n",
       "    <tr>\n",
       "      <th>reed_uk</th>\n",
       "      <td>186,501</td>\n",
       "      <td>11.01%</td>\n",
       "    </tr>\n",
       "    <tr>\n",
       "      <th>britishjobs_uk</th>\n",
       "      <td>169,192</td>\n",
       "      <td>9.99%</td>\n",
       "    </tr>\n",
       "    <tr>\n",
       "      <th>careerbuilder_us</th>\n",
       "      <td>158,210</td>\n",
       "      <td>9.34%</td>\n",
       "    </tr>\n",
       "    <tr>\n",
       "      <th>aarp_us</th>\n",
       "      <td>139,678</td>\n",
       "      <td>8.25%</td>\n",
       "    </tr>\n",
       "    <tr>\n",
       "      <th>seek_au</th>\n",
       "      <td>127,567</td>\n",
       "      <td>7.53%</td>\n",
       "    </tr>\n",
       "    <tr>\n",
       "      <th>...</th>\n",
       "      <td>...</td>\n",
       "      <td>...</td>\n",
       "    </tr>\n",
       "    <tr>\n",
       "      <th>efinancialcareers_ie</th>\n",
       "      <td>1</td>\n",
       "      <td>0.0%</td>\n",
       "    </tr>\n",
       "    <tr>\n",
       "      <th>eures_be</th>\n",
       "      <td>1</td>\n",
       "      <td>0.0%</td>\n",
       "    </tr>\n",
       "    <tr>\n",
       "      <th>simplyhired_ar</th>\n",
       "      <td>1</td>\n",
       "      <td>0.0%</td>\n",
       "    </tr>\n",
       "    <tr>\n",
       "      <th>stepstone_be</th>\n",
       "      <td>1</td>\n",
       "      <td>0.0%</td>\n",
       "    </tr>\n",
       "    <tr>\n",
       "      <th>stepstone_nl</th>\n",
       "      <td>1</td>\n",
       "      <td>0.0%</td>\n",
       "    </tr>\n",
       "  </tbody>\n",
       "</table>\n",
       "<p>177 rows × 2 columns</p>\n",
       "</div>"
      ]
     },
     "execution_count": 13,
     "metadata": {},
     "output_type": "execute_result"
    }
   ],
   "execution_count": 13
  },
  {
   "metadata": {
    "ExecuteTime": {
     "end_time": "2024-07-28T12:05:20.987634Z",
     "start_time": "2024-07-28T12:05:20.970320Z"
    }
   },
   "cell_type": "code",
   "source": "value_stats(index0_df, 'phrase_series')",
   "id": "8719ee6edf9694e0",
   "outputs": [
    {
     "data": {
      "text/plain": [
       "                 Count Percentage\n",
       "phrase_series                    \n",
       "1              944,943     55.79%\n",
       "2              601,323      35.5%\n",
       "3              122,139      7.21%\n",
       "4               17,869      1.06%\n",
       "5                5,059       0.3%\n",
       "6                1,210      0.07%\n",
       "7                  604      0.04%\n",
       "8                  283      0.02%\n",
       "9                  156      0.01%\n",
       "10                  33       0.0%\n",
       "11                  14       0.0%\n",
       "12                   4       0.0%\n",
       "17                   2       0.0%\n",
       "13                   1       0.0%\n",
       "15                   1       0.0%\n",
       "16                   1       0.0%"
      ],
      "text/html": [
       "<div>\n",
       "<style scoped>\n",
       "    .dataframe tbody tr th:only-of-type {\n",
       "        vertical-align: middle;\n",
       "    }\n",
       "\n",
       "    .dataframe tbody tr th {\n",
       "        vertical-align: top;\n",
       "    }\n",
       "\n",
       "    .dataframe thead th {\n",
       "        text-align: right;\n",
       "    }\n",
       "</style>\n",
       "<table border=\"1\" class=\"dataframe\">\n",
       "  <thead>\n",
       "    <tr style=\"text-align: right;\">\n",
       "      <th></th>\n",
       "      <th>Count</th>\n",
       "      <th>Percentage</th>\n",
       "    </tr>\n",
       "    <tr>\n",
       "      <th>phrase_series</th>\n",
       "      <th></th>\n",
       "      <th></th>\n",
       "    </tr>\n",
       "  </thead>\n",
       "  <tbody>\n",
       "    <tr>\n",
       "      <th>1</th>\n",
       "      <td>944,943</td>\n",
       "      <td>55.79%</td>\n",
       "    </tr>\n",
       "    <tr>\n",
       "      <th>2</th>\n",
       "      <td>601,323</td>\n",
       "      <td>35.5%</td>\n",
       "    </tr>\n",
       "    <tr>\n",
       "      <th>3</th>\n",
       "      <td>122,139</td>\n",
       "      <td>7.21%</td>\n",
       "    </tr>\n",
       "    <tr>\n",
       "      <th>4</th>\n",
       "      <td>17,869</td>\n",
       "      <td>1.06%</td>\n",
       "    </tr>\n",
       "    <tr>\n",
       "      <th>5</th>\n",
       "      <td>5,059</td>\n",
       "      <td>0.3%</td>\n",
       "    </tr>\n",
       "    <tr>\n",
       "      <th>6</th>\n",
       "      <td>1,210</td>\n",
       "      <td>0.07%</td>\n",
       "    </tr>\n",
       "    <tr>\n",
       "      <th>7</th>\n",
       "      <td>604</td>\n",
       "      <td>0.04%</td>\n",
       "    </tr>\n",
       "    <tr>\n",
       "      <th>8</th>\n",
       "      <td>283</td>\n",
       "      <td>0.02%</td>\n",
       "    </tr>\n",
       "    <tr>\n",
       "      <th>9</th>\n",
       "      <td>156</td>\n",
       "      <td>0.01%</td>\n",
       "    </tr>\n",
       "    <tr>\n",
       "      <th>10</th>\n",
       "      <td>33</td>\n",
       "      <td>0.0%</td>\n",
       "    </tr>\n",
       "    <tr>\n",
       "      <th>11</th>\n",
       "      <td>14</td>\n",
       "      <td>0.0%</td>\n",
       "    </tr>\n",
       "    <tr>\n",
       "      <th>12</th>\n",
       "      <td>4</td>\n",
       "      <td>0.0%</td>\n",
       "    </tr>\n",
       "    <tr>\n",
       "      <th>17</th>\n",
       "      <td>2</td>\n",
       "      <td>0.0%</td>\n",
       "    </tr>\n",
       "    <tr>\n",
       "      <th>13</th>\n",
       "      <td>1</td>\n",
       "      <td>0.0%</td>\n",
       "    </tr>\n",
       "    <tr>\n",
       "      <th>15</th>\n",
       "      <td>1</td>\n",
       "      <td>0.0%</td>\n",
       "    </tr>\n",
       "    <tr>\n",
       "      <th>16</th>\n",
       "      <td>1</td>\n",
       "      <td>0.0%</td>\n",
       "    </tr>\n",
       "  </tbody>\n",
       "</table>\n",
       "</div>"
      ]
     },
     "execution_count": 14,
     "metadata": {},
     "output_type": "execute_result"
    }
   ],
   "execution_count": 14
  },
  {
   "metadata": {
    "ExecuteTime": {
     "end_time": "2024-07-28T12:05:21.069385Z",
     "start_time": "2024-07-28T12:05:20.988909Z"
    }
   },
   "cell_type": "code",
   "source": "value_stats(index0_df, 'country')",
   "id": "f9316ed76c5694dc",
   "outputs": [
    {
     "data": {
      "text/plain": [
       "           Count Percentage\n",
       "country                    \n",
       "US       643,648      38.0%\n",
       "UK       594,561     35.11%\n",
       "AU       128,427      7.58%\n",
       "IE       102,314      6.04%\n",
       "CA        34,297      2.03%\n",
       "...          ...        ...\n",
       "BZ            23       0.0%\n",
       "KG            15       0.0%\n",
       "AZ            15       0.0%\n",
       "IR            13       0.0%\n",
       "GE             8       0.0%\n",
       "\n",
       "[81 rows x 2 columns]"
      ],
      "text/html": [
       "<div>\n",
       "<style scoped>\n",
       "    .dataframe tbody tr th:only-of-type {\n",
       "        vertical-align: middle;\n",
       "    }\n",
       "\n",
       "    .dataframe tbody tr th {\n",
       "        vertical-align: top;\n",
       "    }\n",
       "\n",
       "    .dataframe thead th {\n",
       "        text-align: right;\n",
       "    }\n",
       "</style>\n",
       "<table border=\"1\" class=\"dataframe\">\n",
       "  <thead>\n",
       "    <tr style=\"text-align: right;\">\n",
       "      <th></th>\n",
       "      <th>Count</th>\n",
       "      <th>Percentage</th>\n",
       "    </tr>\n",
       "    <tr>\n",
       "      <th>country</th>\n",
       "      <th></th>\n",
       "      <th></th>\n",
       "    </tr>\n",
       "  </thead>\n",
       "  <tbody>\n",
       "    <tr>\n",
       "      <th>US</th>\n",
       "      <td>643,648</td>\n",
       "      <td>38.0%</td>\n",
       "    </tr>\n",
       "    <tr>\n",
       "      <th>UK</th>\n",
       "      <td>594,561</td>\n",
       "      <td>35.11%</td>\n",
       "    </tr>\n",
       "    <tr>\n",
       "      <th>AU</th>\n",
       "      <td>128,427</td>\n",
       "      <td>7.58%</td>\n",
       "    </tr>\n",
       "    <tr>\n",
       "      <th>IE</th>\n",
       "      <td>102,314</td>\n",
       "      <td>6.04%</td>\n",
       "    </tr>\n",
       "    <tr>\n",
       "      <th>CA</th>\n",
       "      <td>34,297</td>\n",
       "      <td>2.03%</td>\n",
       "    </tr>\n",
       "    <tr>\n",
       "      <th>...</th>\n",
       "      <td>...</td>\n",
       "      <td>...</td>\n",
       "    </tr>\n",
       "    <tr>\n",
       "      <th>BZ</th>\n",
       "      <td>23</td>\n",
       "      <td>0.0%</td>\n",
       "    </tr>\n",
       "    <tr>\n",
       "      <th>KG</th>\n",
       "      <td>15</td>\n",
       "      <td>0.0%</td>\n",
       "    </tr>\n",
       "    <tr>\n",
       "      <th>AZ</th>\n",
       "      <td>15</td>\n",
       "      <td>0.0%</td>\n",
       "    </tr>\n",
       "    <tr>\n",
       "      <th>IR</th>\n",
       "      <td>13</td>\n",
       "      <td>0.0%</td>\n",
       "    </tr>\n",
       "    <tr>\n",
       "      <th>GE</th>\n",
       "      <td>8</td>\n",
       "      <td>0.0%</td>\n",
       "    </tr>\n",
       "  </tbody>\n",
       "</table>\n",
       "<p>81 rows × 2 columns</p>\n",
       "</div>"
      ]
     },
     "execution_count": 15,
     "metadata": {},
     "output_type": "execute_result"
    }
   ],
   "execution_count": 15
  },
  {
   "metadata": {},
   "cell_type": "code",
   "source": "value_stats(index0_df, 'company')",
   "id": "61fa50217f092ce7",
   "outputs": [],
   "execution_count": null
  },
  {
   "metadata": {},
   "cell_type": "code",
   "source": "",
   "id": "40fd690bac101ec8",
   "outputs": [],
   "execution_count": null
  }
 ],
 "metadata": {
  "kernelspec": {
   "display_name": "Python 3",
   "language": "python",
   "name": "python3"
  },
  "language_info": {
   "codemirror_mode": {
    "name": "ipython",
    "version": 2
   },
   "file_extension": ".py",
   "mimetype": "text/x-python",
   "name": "python",
   "nbconvert_exporter": "python",
   "pygments_lexer": "ipython2",
   "version": "2.7.6"
  }
 },
 "nbformat": 4,
 "nbformat_minor": 5
}

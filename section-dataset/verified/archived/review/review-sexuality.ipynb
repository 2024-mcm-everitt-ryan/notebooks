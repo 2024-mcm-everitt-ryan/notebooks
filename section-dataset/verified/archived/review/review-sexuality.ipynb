{
 "cells": [
  {
   "metadata": {
    "ExecuteTime": {
     "end_time": "2024-07-03T13:11:10.453465Z",
     "start_time": "2024-07-03T13:11:10.448702Z"
    }
   },
   "cell_type": "code",
   "source": "category = 'sexuality'",
   "id": "7087896ead77ebe3",
   "execution_count": 1,
   "outputs": []
  },
  {
   "cell_type": "code",
   "id": "initial_id",
   "metadata": {
    "collapsed": true,
    "ExecuteTime": {
     "end_time": "2024-07-03T13:11:11.353312Z",
     "start_time": "2024-07-03T13:11:10.605227Z"
    }
   },
   "source": [
    "import os\n",
    "import pandas as pd\n",
    "import json\n",
    "\n",
    "df = {}\n",
    "\n",
    "all_dataframes = []\n",
    "for type in ['train', 'val', 'test']:\n",
    "    dataframes = []\n",
    "    for file_name in os.listdir(f'../{type}'):\n",
    "        if file_name.endswith('.json'):\n",
    "            file_name, file_extension = os.path.splitext(file_name)\n",
    "            base_path = os.path.join('..', type, file_name)\n",
    "\n",
    "            with open(f'{base_path}.json', 'r') as json_file:\n",
    "                data = json.load(json_file)\n",
    "\n",
    "            if data['synthetic'] and data['label_sexuality']:\n",
    "\n",
    "                # Use the contents of the text file instead of the json file\n",
    "                if os.path.isfile(f'{base_path}.txt'):\n",
    "                    with open(f'{base_path}.txt', 'r') as file:\n",
    "                        data['text'] = file.read().strip()\n",
    "\n",
    "                dataframe = pd.json_normalize(data)\n",
    "                dataframes.append(dataframe)\n",
    "                all_dataframes.append(dataframe)\n",
    "\n",
    "    df[type] = pd.concat(dataframes, ignore_index=True)\n",
    "\n",
    "full_df = pd.concat(all_dataframes, ignore_index=True)\n",
    "\n",
    "full_df\n",
    "\n"
   ],
   "execution_count": 2,
   "outputs": []
  },
  {
   "metadata": {
    "ExecuteTime": {
     "end_time": "2024-07-03T13:11:11.367118Z",
     "start_time": "2024-07-03T13:11:11.354217Z"
    }
   },
   "cell_type": "code",
   "source": [
    "full_df = full_df[full_df['synthetic'] == True]\n",
    "full_df = full_df[full_df[f'label_{category}'] == True]\n",
    "full_df = full_df[full_df['id'].astype(str).str.contains('negative')]\n",
    "full_df"
   ],
   "id": "b7043f005a655df6",
   "execution_count": 3,
   "outputs": []
  },
  {
   "metadata": {
    "ExecuteTime": {
     "end_time": "2024-07-03T13:11:11.385624Z",
     "start_time": "2024-07-03T13:11:11.367752Z"
    }
   },
   "cell_type": "code",
   "source": [
    "with open(f'review-{category}-negative.txt', 'w') as f:\n",
    "    for index, record in full_df.iterrows():\n",
    "        id = record['id']\n",
    "        analysis = record[f'analysis_{category}']\n",
    "        bias = record[f'label_{category}']\n",
    "        text = record['text']\n",
    "        f.write(f\"\\n====================================\\nBias: {bias} || {id}\\n{analysis}\\n------------------------------\\n\\n{text}\\n\\n\")\n"
   ],
   "id": "bdf1736ba8945b6c",
   "execution_count": 4,
   "outputs": []
  },
  {
   "metadata": {
    "ExecuteTime": {
     "end_time": "2024-07-03T13:11:11.387878Z",
     "start_time": "2024-07-03T13:11:11.386559Z"
    }
   },
   "cell_type": "code",
   "source": "",
   "id": "ef8c16d4aa8a266d",
   "execution_count": 4,
   "outputs": []
  },
  {
   "metadata": {
    "ExecuteTime": {
     "end_time": "2024-07-03T13:11:11.638250Z",
     "start_time": "2024-07-03T13:11:11.636850Z"
    }
   },
   "cell_type": "code",
   "source": "",
   "id": "808f08b0e0498efb",
   "execution_count": 4,
   "outputs": []
  },
  {
   "metadata": {},
   "cell_type": "code",
   "execution_count": null,
   "source": "",
   "id": "de27acb877ad4bf7",
   "outputs": []
  }
 ],
 "metadata": {
  "kernelspec": {
   "display_name": "Python 3",
   "language": "python",
   "name": "python3"
  },
  "language_info": {
   "codemirror_mode": {
    "name": "ipython",
    "version": 2
   },
   "file_extension": ".py",
   "mimetype": "text/x-python",
   "name": "python",
   "nbconvert_exporter": "python",
   "pygments_lexer": "ipython2",
   "version": "2.7.6"
  }
 },
 "nbformat": 4,
 "nbformat_minor": 5
}

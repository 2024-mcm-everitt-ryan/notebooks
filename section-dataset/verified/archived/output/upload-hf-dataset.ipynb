{
 "cells": [
  {
   "metadata": {},
   "cell_type": "markdown",
   "source": "# This uploads the final dataset to Hugging Face (public)",
   "id": "ea813a1e3099aa5c"
  },
  {
   "metadata": {
    "ExecuteTime": {
     "end_time": "2024-07-03T20:34:15.874686Z",
     "start_time": "2024-07-03T20:34:15.268088Z"
    }
   },
   "cell_type": "code",
   "source": [
    "import pandas as pd \n",
    "from sklearn.model_selection import train_test_split\n",
    "\n",
    "train_df = pd.concat([\n",
    "    pd.read_parquet('verified-train.parquet'),\n",
    "    pd.read_parquet('verified-val.parquet')\n",
    "])\n",
    "\n",
    "train_df, val_df = train_test_split(train_df, test_size=0.2, random_state=2024)\n",
    "test_df = pd.read_parquet('verified-test.parquet')\n"
   ],
   "id": "3bdcfcee1ba63f6f",
   "execution_count": 1,
   "outputs": []
  },
  {
   "metadata": {
    "ExecuteTime": {
     "end_time": "2024-07-03T20:34:26.361656Z",
     "start_time": "2024-07-03T20:34:26.359863Z"
    }
   },
   "cell_type": "code",
   "source": "",
   "id": "c6b48d446809391a",
   "execution_count": 1,
   "outputs": []
  },
  {
   "metadata": {
    "ExecuteTime": {
     "end_time": "2024-07-03T20:34:27.230176Z",
     "start_time": "2024-07-03T20:34:27.228374Z"
    }
   },
   "cell_type": "code",
   "source": [
    "#import ace_tools as tools; tools.display_dataframe_to_user(name=\"Training DataFrame\", dataframe=train_df)\n",
    "#tools.display_dataframe_to_user(name=\"Validation DataFrame\", dataframe=val_df)"
   ],
   "id": "fec01ec1a94138ac",
   "execution_count": 2,
   "outputs": []
  },
  {
   "metadata": {
    "ExecuteTime": {
     "end_time": "2024-07-03T20:34:28.135009Z",
     "start_time": "2024-07-03T20:34:27.811061Z"
    }
   },
   "cell_type": "code",
   "source": [
    "from datasets import load_dataset, DatasetDict, Dataset\n",
    "\n",
    "ds = DatasetDict({\n",
    "    'train': Dataset.from_pandas(train_df).remove_columns(['__index_level_0__']),\n",
    "    'val': Dataset.from_pandas(val_df).remove_columns(['__index_level_0__']),\n",
    "    'test': Dataset.from_pandas(test_df),\n",
    "})\n",
    "\n",
    "\n",
    "ds"
   ],
   "id": "3c2abbc524105619",
   "execution_count": 3,
   "outputs": []
  },
  {
   "metadata": {
    "ExecuteTime": {
     "end_time": "2024-07-03T20:34:29.060804Z",
     "start_time": "2024-07-03T20:34:29.058073Z"
    }
   },
   "cell_type": "code",
   "source": "hf_token_file = '/home/teveritt/HuggingFace-API-DCU-AI.write.key'",
   "id": "d1aaf9e63051c1a1",
   "execution_count": 4,
   "outputs": []
  },
  {
   "metadata": {
    "ExecuteTime": {
     "end_time": "2024-07-03T20:34:40.677796Z",
     "start_time": "2024-07-03T20:34:36.036822Z"
    }
   },
   "cell_type": "code",
   "source": [
    "\n",
    "from huggingface_hub import login\n",
    "\n",
    "hf_site_id ='2024-mcm-everitt-ryan'\n",
    "dataset_name = 'job-bias-synthetic-human-verified'\n",
    "\n",
    "with open(hf_token_file, 'r') as file:\n",
    "    hf_token = file.read().strip().replace('\\n','')\n",
    "\n",
    "\n",
    "repo_id = f'{hf_site_id}/{dataset_name}'\n",
    "\n",
    "#print('Logging into Hugging Face')\n",
    "#login(hf_token, add_to_git_credential=True)\n",
    "\n",
    "\n",
    "print(f'Uploading dataset to {repo_id}...')\n",
    "ds.push_to_hub(repo_id,  private=False, token=hf_token)\n"
   ],
   "id": "d62153682306623a",
   "execution_count": 5,
   "outputs": []
  },
  {
   "metadata": {},
   "cell_type": "code",
   "execution_count": null,
   "source": "",
   "id": "c5f38b7ee5d1853a",
   "outputs": []
  }
 ],
 "metadata": {
  "kernelspec": {
   "display_name": "Python 3",
   "language": "python",
   "name": "python3"
  },
  "language_info": {
   "codemirror_mode": {
    "name": "ipython",
    "version": 2
   },
   "file_extension": ".py",
   "mimetype": "text/x-python",
   "name": "python",
   "nbconvert_exporter": "python",
   "pygments_lexer": "ipython2",
   "version": "2.7.6"
  }
 },
 "nbformat": 4,
 "nbformat_minor": 5
}

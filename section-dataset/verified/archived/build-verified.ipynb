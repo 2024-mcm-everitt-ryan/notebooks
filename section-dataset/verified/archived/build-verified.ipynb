{
 "cells": [
  {
   "metadata": {},
   "cell_type": "code",
   "outputs": [],
   "execution_count": null,
   "source": [
    "input_dir = 'rebalanced/input'\n",
    "output_dir = 'rebalanced/output'"
   ],
   "id": "3280185a9b9c49a7"
  },
  {
   "cell_type": "code",
   "id": "initial_id",
   "metadata": {
    "collapsed": true,
    "ExecuteTime": {
     "end_time": "2024-07-14T10:25:10.229120Z",
     "start_time": "2024-07-14T10:25:07.389599Z"
    }
   },
   "source": [
    "import os\n",
    "import pandas as pd\n",
    "import json\n",
    "\n",
    "df = {}\n",
    "\n",
    "all_dataframes = []\n",
    "for type in ['train','val', 'test']:\n",
    "    dataframes = []\n",
    "    for file_name in os.listdir(type):\n",
    "        if file_name.endswith('.json'):\n",
    "            file_name, file_extension = os.path.splitext(file_name)\n",
    "            base_path = os.path.join(type, file_name)\n",
    "\n",
    "\n",
    "            with open(f'{base_path}.json', 'r') as json_file:\n",
    "                data = json.load(json_file)\n",
    "            \n",
    "            # Use the contents of the text file instead of the json file\n",
    "            if os.path.isfile(f'{base_path}.txt'):\n",
    "                    with open(f'{base_path}.txt', 'r') as file:\n",
    "                        data['text'] = file.read().strip()\n",
    "            \n",
    "            dataframe = pd.json_normalize(data)\n",
    "            dataframes.append(dataframe)\n",
    "            all_dataframes.append(dataframe)\n",
    "\n",
    "    df[type] = pd.concat(dataframes, ignore_index=True)\n",
    "    \n",
    "\n",
    "full_df = pd.concat(all_dataframes, ignore_index=True) \n",
    "\n",
    "label_columns = [col for col in full_df.columns if col.startswith('label_')]\n",
    "analysis_columns = [col for col in full_df.columns if col.startswith('analysis_')]\n",
    "categories = [col.replace('label_', '') for col in label_columns]\n",
    "text_column = 'text'\n",
    "\n",
    "print(f\"Categories: {categories}\")\n",
    "print(f\"Labels: {label_columns}\")\n",
    "print(f\"Analysis: {analysis_columns}\")\n",
    "print(f\"Input: {text_column}\")\n",
    "\n",
    "for type, dataframe in df.items():\n",
    "    print(f\"\\nRows ({type}): {len(dataframe)}\")\n",
    "    for category in categories:\n",
    "        label = f\"label_{category}\"\n",
    "        bias = len(dataframe[dataframe[label] == True])\n",
    "        unbiased = len(dataframe[dataframe[label] == False])\n",
    "        print(f\"\\t{category}: {bias} biased, {unbiased} unbiased\")\n",
    "    \n",
    "    non_neutral = dataframe[label_columns].apply(lambda x: any([i for i in x]), axis=1).sum()\n",
    "    neutral = dataframe[label_columns].apply(lambda x: all([not i for i in x]), axis=1).sum()\n",
    "    print(f'\\tHas at least one bias category: {non_neutral} ({non_neutral/len(dataframe):.2%})')\n",
    "    print(f'\\tHas no bias categories: {neutral} ({neutral/len(dataframe):.2%})')\n",
    "\n",
    "non_neutral = full_df[label_columns].apply(lambda x: any([i for i in x]), axis=1).sum()\n",
    "neutral = full_df[label_columns].apply(lambda x: all([not i for i in x]), axis=1).sum()\n",
    "\n",
    "print(f'\\nFULL-DATASET Rows: {len(full_df)}')\n",
    "print(f'FULL-DATASET Has at least one bias category: {non_neutral} ({non_neutral/len(full_df):.2%})')\n",
    "print(f'FULL-DATASET Has no bias categories: {neutral} ({neutral/len(full_df):.2%})')\n"
   ],
   "outputs": [
    {
     "name": "stdout",
     "output_type": "stream",
     "text": [
      "Categories: ['age', 'disability', 'masculine', 'feminine', 'racial', 'sexuality', 'general']\n",
      "Labels: ['label_age', 'label_disability', 'label_masculine', 'label_feminine', 'label_racial', 'label_sexuality', 'label_general']\n",
      "Analysis: ['analysis_age', 'analysis_disability', 'analysis_masculine', 'analysis_feminine', 'analysis_racial', 'analysis_sexuality', 'analysis_general']\n",
      "Input: text\n",
      "\n",
      "Rows (train): 520\n",
      "\tage: 40 biased, 480 unbiased\n",
      "\tdisability: 41 biased, 479 unbiased\n",
      "\tmasculine: 38 biased, 482 unbiased\n",
      "\tfeminine: 39 biased, 481 unbiased\n",
      "\tracial: 39 biased, 481 unbiased\n",
      "\tsexuality: 39 biased, 481 unbiased\n",
      "\tgeneral: 41 biased, 479 unbiased\n",
      "\tHas at least one bias category: 250 (48.08%)\n",
      "\tHas no bias categories: 270 (51.92%)\n",
      "\n",
      "Rows (val): 1050\n",
      "\tage: 80 biased, 970 unbiased\n",
      "\tdisability: 81 biased, 969 unbiased\n",
      "\tmasculine: 81 biased, 969 unbiased\n",
      "\tfeminine: 79 biased, 971 unbiased\n",
      "\tracial: 77 biased, 973 unbiased\n",
      "\tsexuality: 81 biased, 969 unbiased\n",
      "\tgeneral: 81 biased, 969 unbiased\n",
      "\tHas at least one bias category: 510 (48.57%)\n",
      "\tHas no bias categories: 540 (51.43%)\n",
      "\n",
      "Rows (test): 1046\n",
      "\tage: 81 biased, 965 unbiased\n",
      "\tdisability: 81 biased, 965 unbiased\n",
      "\tmasculine: 79 biased, 967 unbiased\n",
      "\tfeminine: 76 biased, 970 unbiased\n",
      "\tracial: 78 biased, 968 unbiased\n",
      "\tsexuality: 81 biased, 965 unbiased\n",
      "\tgeneral: 82 biased, 964 unbiased\n",
      "\tHas at least one bias category: 504 (48.18%)\n",
      "\tHas no bias categories: 542 (51.82%)\n",
      "\n",
      "FULL-DATASET Rows: 2616\n",
      "FULL-DATASET Has at least one bias category: 1264 (48.32%)\n",
      "FULL-DATASET Has no bias categories: 1352 (51.68%)\n"
     ]
    }
   ],
   "execution_count": 1
  },
  {
   "metadata": {},
   "cell_type": "markdown",
   "source": "# Plot Functions",
   "id": "3f60d66043cc0a0d"
  },
  {
   "metadata": {
    "ExecuteTime": {
     "end_time": "2024-07-03T20:33:35.518231Z",
     "start_time": "2024-07-03T20:33:35.243639Z"
    }
   },
   "cell_type": "code",
   "source": [
    "import matplotlib.pyplot as plt\n",
    "import pandas as pd\n",
    "import json\n",
    "\n",
    "\n",
    "def plot_by_category(dataframe, x_ideal=200):\n",
    "    melted_df = dataframe.melt(id_vars='synthetic', value_vars=label_columns, var_name='categories')\n",
    "    melted_df = melted_df[melted_df['value'] == 1]\n",
    "    \n",
    "    \n",
    "    real_df = dataframe[dataframe['synthetic'] == False]\n",
    "    synthetic_df = dataframe[dataframe['synthetic'] == True]\n",
    "    \n",
    "    non_neutral_real = real_df[label_columns].apply(lambda x: any([i for i in x]), axis=1).sum()\n",
    "    neutral_real = real_df[label_columns].apply(lambda x: all([not i for i in x]), axis=1).sum()\n",
    "    \n",
    "    non_neutral_synthetic = synthetic_df[label_columns].apply(lambda x: any([i for i in x]), axis=1).sum()\n",
    "    neutral_synthetic = synthetic_df[label_columns].apply(lambda x: all([not i for i in x]), axis=1).sum()\n",
    "    \n",
    "    total_real_str = '{:,.0f}'.format(non_neutral_real + neutral_real)\n",
    "    total_synthetic_str = '{:,.0f}'.format(non_neutral_synthetic + neutral_synthetic)\n",
    "    \n",
    "    pivot_df = melted_df.pivot_table(index='categories', columns='synthetic', aggfunc='size', fill_value=0)\n",
    "    pivot_df.index = pivot_df.index.str.replace('label_', '')\n",
    "    pivot_df = pivot_df.sort_values(by=False, ascending=True)\n",
    "    pivot_df = pivot_df.rename(columns={True: 'Synthetic', False: 'Real'})\n",
    "    \n",
    "    plt.figure(figsize=(20, 20))\n",
    "    bar_plot = pivot_df.plot(kind='barh', stacked=True, color=['#6495ED', '#FFA500'])\n",
    "    \n",
    "    plt.title('Verified Biased Job Descriptions', fontsize=18)\n",
    "    plt.xlabel('', fontsize=16)\n",
    "    plt.ylabel('', fontsize=16)\n",
    "    plt.yticks(fontsize=16)\n",
    "    plt.xticks(fontsize=16)\n",
    "    \n",
    "    plt.legend([f'{total_real_str} Real', f'{total_synthetic_str} Synthetic'],loc='center left', bbox_to_anchor=(1, 0.5), fontsize=16, title='')\n",
    "    \n",
    "    # Add values onto the chart\n",
    "    #for rect in bar_plot.patches:\n",
    "    #    width = rect.get_width()\n",
    "    #    if width > 0:\n",
    "    #        y = rect.get_y() + rect.get_height() / 2\n",
    "    #        x = rect.get_x() + width / 2\n",
    "    #        bar_plot.text(x, y, str(int(width)), va='center', fontsize=16) \n",
    "    \n",
    "    for rect in bar_plot.patches:\n",
    "        width, height = rect.get_width(), rect.get_height()\n",
    "        x, y = rect.get_xy()\n",
    "        bar_plot.text(width / 2 + x, y + height / 2,\n",
    "                      '{:.0f}'.format(width),\n",
    "                      ha='center',\n",
    "                      va='center',\n",
    "                      color='black',\n",
    "                      fontsize=18)\n",
    "    \n",
    "    \n",
    "    # Set x limit 25% more than max value\n",
    "    plt.xlim(0, pivot_df.values.max() * 1.25)\n",
    "    \n",
    "    \n",
    "    # Draw a vertical line at x = 200\n",
    "    plt.axvline(x=x_ideal, color=\"red\", linestyle='--')\n",
    "    \n",
    "    plt.show()\n",
    "\n",
    "\n",
    "def plot_neutral_vs_bias(dataframe):\n",
    "    real_df = dataframe[dataframe['synthetic'] == False]\n",
    "    synthetic_df = dataframe[dataframe['synthetic'] == True]\n",
    "    \n",
    "    non_neutral_real = real_df[label_columns].apply(lambda x: any([i for i in x]), axis=1).sum()\n",
    "    neutral_real = real_df[label_columns].apply(lambda x: all([not i for i in x]), axis=1).sum()\n",
    "    \n",
    "    non_neutral_synthetic = synthetic_df[label_columns].apply(lambda x: any([i for i in x]), axis=1).sum()\n",
    "    neutral_synthetic = synthetic_df[label_columns].apply(lambda x: all([not i for i in x]), axis=1).sum()\n",
    "    \n",
    "    #print(f'non neutral synthetic: {non_neutral_synthetic}')\n",
    "    #print(f'non neutral real: {non_neutral_real}')\n",
    "    #print(f'neutral synthetic: {neutral_synthetic}')\n",
    "    #print(f'neutral real: {neutral_real}')\n",
    "    \n",
    "    total_real_str = '{:,.0f}'.format(non_neutral_real + neutral_real)\n",
    "    total_synthetic_str = '{:,.0f}'.format(non_neutral_synthetic + neutral_synthetic)\n",
    "    neutral_str = '{:,.0f} Neutral'.format(neutral_synthetic + neutral_real)\n",
    "    bias_cont_str = '{:,.0f} Bias'.format(non_neutral_synthetic + non_neutral_real)\n",
    "    total_str = '{:,.0f}'.format(non_neutral_synthetic + neutral_synthetic + neutral_real + non_neutral_real)\n",
    "    \n",
    "    data = {'Category': [bias_cont_str, bias_cont_str, neutral_str, neutral_str],\n",
    "            'Count': [non_neutral_synthetic, non_neutral_real, neutral_synthetic, neutral_real],\n",
    "            'synthetic': ['Synthetic', 'Real', 'Synthetic', 'Real']}\n",
    "    synth_df = pd.DataFrame(data)\n",
    "    \n",
    "    \n",
    "    plt.figure(figsize=(20, 10))\n",
    "    \n",
    "    bar_plot = synth_df['Count'].groupby([synth_df['Category'], synth_df['synthetic']]).sum().unstack().plot.barh(\n",
    "        stacked=True, color=['#6495ED', '#FFA500'])\n",
    "    \n",
    "    plt.title(f'{total_str} Verified Job Descriptions', fontsize=18)\n",
    "    plt.xlabel('', fontsize=16)\n",
    "    plt.ylabel('', fontsize=16)\n",
    "    plt.yticks(fontsize=16)\n",
    "    plt.xticks(fontsize=16)\n",
    "    plt.legend([f'{total_real_str} Real', f'{total_synthetic_str} Synthetic'],loc='center left', bbox_to_anchor=(1, 0.5), fontsize=16, title='')\n",
    "    \n",
    "    patches = bar_plot.patches\n",
    "    values = [non_neutral_real,neutral_real,non_neutral_synthetic,neutral_synthetic]\n",
    "    \n",
    "    # Display values for each segment\n",
    "    for patch, value in zip(patches, values):\n",
    "        width, height = patch.get_width(), patch.get_height()\n",
    "        x, y = patch.get_xy()\n",
    "        bar_plot.text(width / 2 + x, y + height / 2,\n",
    "                      '{:,.0f}'.format(value),\n",
    "                      ha='center',\n",
    "                      va='center',\n",
    "                      color='black',\n",
    "                      fontsize=18)\n",
    "    \n",
    "    plt.show()\n",
    "\n",
    "\n",
    "def plot_by_models(dataframe):\n",
    "    dataframe = dataframe[dataframe['synthetic'] == True]\n",
    "\n",
    "    models = {}\n",
    "    \n",
    "    for meta in dataframe['metadata']:\n",
    "        meta = json.loads(meta)\n",
    "        model_name = meta['model']\n",
    "        model_name = model_name.split(':')[-1]\n",
    "        if model_name not in models:\n",
    "            models[model_name] = 1\n",
    "        else:\n",
    "            models[model_name] += 1\n",
    "\n",
    "\n",
    "    dataframe = pd.DataFrame(list(models.items()), columns=['Model', 'Count'])\n",
    "    \n",
    "    #model_names = dataframe['Model']\n",
    "    model_counts = dataframe['Count']\n",
    "    \n",
    "    plt.figure(figsize=(10, 5))\n",
    "    \n",
    "    bar_plot = dataframe['Count'].groupby(dataframe['Model']).sum().plot.barh(color='#6495ED')\n",
    "    \n",
    "    plt.title('Verified Synthetic Job Descriptions', fontsize=18)\n",
    "    plt.xlabel('', fontsize=16)\n",
    "    plt.ylabel('', fontsize=16)\n",
    "    plt.yticks(fontsize=16)\n",
    "    plt.xticks(fontsize=16)\n",
    "    \n",
    "    patches = bar_plot.patches\n",
    "    \n",
    "    # Display values for each segment\n",
    "    for patch, count in zip(patches, model_counts):\n",
    "        width, height = patch.get_width(), patch.get_height()\n",
    "        x, y = patch.get_xy()\n",
    "        bar_plot.text(width / 2 + x, y + height / 2,\n",
    "                      '{:,.0f}'.format(count),\n",
    "                      ha='center',\n",
    "                      va='center',\n",
    "                      color='black',\n",
    "                      fontsize=18)\n",
    "    plt.show()"
   ],
   "id": "d29ac108eee59701",
   "execution_count": 2,
   "outputs": []
  },
  {
   "metadata": {
    "ExecuteTime": {
     "end_time": "2024-07-03T20:33:35.522621Z",
     "start_time": "2024-07-03T20:33:35.518959Z"
    }
   },
   "cell_type": "code",
   "source": "df['train'].columns",
   "id": "76e5227cd4e98ef5",
   "execution_count": 3,
   "outputs": []
  },
  {
   "metadata": {
    "ExecuteTime": {
     "end_time": "2024-07-03T20:33:35.624444Z",
     "start_time": "2024-07-03T20:33:35.523465Z"
    }
   },
   "cell_type": "code",
   "source": [
    "df['train'].to_parquet(f'output/verified-train.parquet')\n",
    "df['val'].to_parquet(f'output/verified-val.parquet')\n",
    "df['test'].to_parquet(f'output/verified-test.parquet')"
   ],
   "id": "7fce948e8ed5d824",
   "execution_count": 4,
   "outputs": []
  },
  {
   "metadata": {},
   "cell_type": "markdown",
   "source": "# Full Dataset",
   "id": "2e6430d0dbbc490d"
  },
  {
   "metadata": {
    "ExecuteTime": {
     "end_time": "2024-07-03T20:33:35.819789Z",
     "start_time": "2024-07-03T20:33:35.625306Z"
    }
   },
   "cell_type": "code",
   "source": "plot_by_category(full_df, 200)",
   "id": "6b491b705fa2428f",
   "execution_count": 5,
   "outputs": []
  },
  {
   "metadata": {
    "ExecuteTime": {
     "end_time": "2024-07-03T20:33:37.578038Z",
     "start_time": "2024-07-03T20:33:37.500734Z"
    }
   },
   "cell_type": "code",
   "source": "plot_neutral_vs_bias(full_df)",
   "id": "e8f40655dabd6c57",
   "execution_count": 6,
   "outputs": []
  },
  {
   "metadata": {
    "ExecuteTime": {
     "end_time": "2024-07-03T20:33:38.018069Z",
     "start_time": "2024-07-03T20:33:37.937649Z"
    }
   },
   "cell_type": "code",
   "source": "plot_by_models(full_df)",
   "id": "8150eb131fc66835",
   "execution_count": 7,
   "outputs": []
  },
  {
   "metadata": {},
   "cell_type": "markdown",
   "source": "# Train Dataset",
   "id": "3e766326043ac5b4"
  },
  {
   "metadata": {
    "ExecuteTime": {
     "end_time": "2024-07-03T20:33:38.458302Z",
     "start_time": "2024-07-03T20:33:38.349983Z"
    }
   },
   "cell_type": "code",
   "source": "plot_by_category(df['train'], 40)",
   "id": "b5356b7dfcc8afbe",
   "execution_count": 8,
   "outputs": []
  },
  {
   "metadata": {
    "ExecuteTime": {
     "end_time": "2024-07-03T20:33:38.762821Z",
     "start_time": "2024-07-03T20:33:38.760350Z"
    }
   },
   "cell_type": "code",
   "source": "#plot_neutral_vs_bias(df['train'])",
   "id": "27e4024d4db0d057",
   "execution_count": 9,
   "outputs": []
  },
  {
   "metadata": {
    "ExecuteTime": {
     "end_time": "2024-07-03T20:33:39.273164Z",
     "start_time": "2024-07-03T20:33:39.270676Z"
    }
   },
   "cell_type": "code",
   "source": "#plot_by_models(df['train'])",
   "id": "49dd7cd43f8ef3e0",
   "execution_count": 10,
   "outputs": []
  },
  {
   "metadata": {},
   "cell_type": "markdown",
   "source": "# Val Dataset",
   "id": "1ab21ea53dcce086"
  },
  {
   "metadata": {
    "ExecuteTime": {
     "end_time": "2024-07-03T20:33:39.981315Z",
     "start_time": "2024-07-03T20:33:39.869218Z"
    }
   },
   "cell_type": "code",
   "source": "plot_by_category(df['val'], 80)",
   "id": "2c4c3325c9dd45fe",
   "execution_count": 11,
   "outputs": []
  },
  {
   "metadata": {
    "ExecuteTime": {
     "end_time": "2024-07-03T20:33:40.432252Z",
     "start_time": "2024-07-03T20:33:40.430333Z"
    }
   },
   "cell_type": "code",
   "source": "#plot_neutral_vs_bias(df['val'])",
   "id": "72016e4df675da51",
   "execution_count": 12,
   "outputs": []
  },
  {
   "metadata": {
    "ExecuteTime": {
     "end_time": "2024-07-03T20:33:41.075065Z",
     "start_time": "2024-07-03T20:33:41.073157Z"
    }
   },
   "cell_type": "code",
   "source": "#plot_by_models(df['val'])",
   "id": "ac1be79817f5bd31",
   "execution_count": 13,
   "outputs": []
  },
  {
   "metadata": {},
   "cell_type": "markdown",
   "source": "# Test Dataset",
   "id": "dc2635a3f587f21"
  },
  {
   "metadata": {
    "ExecuteTime": {
     "end_time": "2024-07-03T20:33:41.707936Z",
     "start_time": "2024-07-03T20:33:41.587184Z"
    }
   },
   "cell_type": "code",
   "source": "plot_by_category(df['test'], 80)",
   "id": "9c5c684babd4432e",
   "execution_count": 14,
   "outputs": []
  },
  {
   "metadata": {
    "ExecuteTime": {
     "end_time": "2024-07-03T20:33:42.611157Z",
     "start_time": "2024-07-03T20:33:42.609205Z"
    }
   },
   "cell_type": "code",
   "source": "#plot_neutral_vs_bias(df['test'])",
   "id": "af80c43b6ca77267",
   "execution_count": 15,
   "outputs": []
  },
  {
   "metadata": {
    "ExecuteTime": {
     "end_time": "2024-07-01T08:07:58.021029Z",
     "start_time": "2024-07-01T08:07:58.017416Z"
    }
   },
   "cell_type": "code",
   "source": "#plot_by_models(df['test'])",
   "id": "630e517b4bc4ef61",
   "execution_count": 78,
   "outputs": []
  },
  {
   "metadata": {
    "ExecuteTime": {
     "end_time": "2024-07-01T08:07:58.023040Z",
     "start_time": "2024-07-01T08:07:58.021566Z"
    }
   },
   "cell_type": "code",
   "source": "",
   "id": "7f39bac1d87e4f5a",
   "execution_count": 78,
   "outputs": []
  }
 ],
 "metadata": {
  "kernelspec": {
   "display_name": "Python 3",
   "language": "python",
   "name": "python3"
  },
  "language_info": {
   "codemirror_mode": {
    "name": "ipython",
    "version": 2
   },
   "file_extension": ".py",
   "mimetype": "text/x-python",
   "name": "python",
   "nbconvert_exporter": "python",
   "pygments_lexer": "ipython2",
   "version": "2.7.6"
  }
 },
 "nbformat": 4,
 "nbformat_minor": 5
}

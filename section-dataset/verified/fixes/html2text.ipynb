{
 "cells": [
  {
   "metadata": {
    "ExecuteTime": {
     "end_time": "2024-06-30T20:42:23.217926Z",
     "start_time": "2024-06-30T20:42:21.685428Z"
    }
   },
   "cell_type": "code",
   "source": [
    "import os\n",
    "import html2text\n",
    "h = html2text.HTML2Text()\n",
    "h.ignore_links = True\n",
    "\n",
    "for type in ['train','val', 'test']:\n",
    "    dataframes = []\n",
    "    for file_name in os.listdir(type):\n",
    "        file_name, file_extension = os.path.splitext(file_name)\n",
    "        base_path = os.path.join(type, file_name)\n",
    "        if os.path.isfile(f'{base_path}.txt'):\n",
    "                print(f'Processing {base_path}.txt')\n",
    "                with open(f'{base_path}.txt', 'r') as file:\n",
    "                    text = file.read().strip()\n",
    "                    output = []\n",
    "                    for line in text.split('\\n'):\n",
    "                        line = line.replace('<br>', '\\n')\n",
    "                        line = line.replace('<br/>', '\\n')\n",
    "                        line = line.replace('<li>', '- ')\n",
    "                        for i in range(1,5):\n",
    "                            line = line.replace(f'<h{i}>', '')\n",
    "                            line = line.replace(f':</h{i}>', ':')\n",
    "                            if ':' in line:\n",
    "                                line = line.replace(f'</h{i}>', '')\n",
    "                            else:\n",
    "                                line = line.replace(f'</h{i}>', ':')\n",
    "                        line = line.replace('<ul>', '')\n",
    "                        line = line.replace('</ul>', '')\n",
    "                        line = line.replace('</li>', '')\n",
    "                        line = line.replace('<p>', '')\n",
    "                        line = line.replace('</p>', '')\n",
    "                        line = line.replace('\\n\\n\\n', '\\n\\n')\n",
    "                        \n",
    "                        output.append(line)\n",
    "                with open(f'{base_path}.txt', 'w') as f:\n",
    "                    f.write('\\n'.join(output))\n",
    "                            \n",
    "        #break\n",
    "    #break\n",
    "                \n"
   ],
   "id": "initial_id",
   "execution_count": 13,
   "outputs": []
  },
  {
   "metadata": {},
   "cell_type": "code",
   "execution_count": null,
   "source": "",
   "id": "9defa6c77a609906",
   "outputs": []
  }
 ],
 "metadata": {
  "kernelspec": {
   "display_name": "Python 3 (DCU AI)",
   "language": "python",
   "name": "venv"
  },
  "language_info": {
   "codemirror_mode": {
    "name": "ipython",
    "version": 2
   },
   "file_extension": ".py",
   "mimetype": "text/x-python",
   "name": "python",
   "nbconvert_exporter": "python",
   "pygments_lexer": "ipython2",
   "version": "2.7.6"
  }
 },
 "nbformat": 4,
 "nbformat_minor": 5
}

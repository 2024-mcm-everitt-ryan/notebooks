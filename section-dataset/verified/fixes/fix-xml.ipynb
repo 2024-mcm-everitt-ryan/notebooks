{
 "cells": [
  {
   "metadata": {
    "ExecuteTime": {
     "end_time": "2024-06-30T21:07:54.043356Z",
     "start_time": "2024-06-30T21:07:54.040968Z"
    }
   },
   "cell_type": "code",
   "source": [
    "from openai import OpenAI\n",
    "\n",
    "def read_file(file_path):\n",
    "    with open(file_path, 'r') as file:\n",
    "        content = file.read()\n",
    "    return content.rstrip('\\n')\n",
    "\n",
    "\n",
    "def openai_chat(messages):\n",
    "    client = OpenAI(api_key=read_file(\"/home/teveritt/OpenAI-API-DCU-AI.key\"))\n",
    "\n",
    "    return client.chat.completions.create(\n",
    "        model='gpt-4o',\n",
    "        temperature=0.0,\n",
    "        messages=messages,\n",
    "        stream=False,\n",
    "        max_tokens=1525\n",
    "    )"
   ],
   "id": "583dc0a2795b5042",
   "execution_count": 9,
   "outputs": []
  },
  {
   "metadata": {
    "ExecuteTime": {
     "end_time": "2024-06-30T21:12:09.074642Z",
     "start_time": "2024-06-30T21:12:09.068915Z"
    }
   },
   "cell_type": "code",
   "source": [
    "def fix_xml(text):\n",
    "    m = [\n",
    "        {\n",
    "            \"role\": \"system\",\n",
    "            \"content\": \"\"\"\n",
    "This GPT will convert XML job postings to plain text. Examples:\n",
    "    - <company>Company Name: Replace with \"Company Name\"\n",
    "    - <company name=\"Company Name\">: Replace with \"Company Name\"\n",
    "    - <item>...</item>: Replace with \"- ...\"\n",
    "    - <role>...</role>: Replace with \"Role: ...\"\n",
    "    - <description>...</description>: Replace with \"Description: ...\"\n",
    "    - <job type>Full-Time</job>: Replace with \"Job Type: Full-Time\"\n",
    "    - <h>...</h>: Replace with \"...\"\n",
    "    - <p>...</p>: Replace with \"...\"\n",
    "\n",
    "\n",
    "Apply these replacements to any job posting provided and don't alter anything else.\n",
    "If there is nothing to convert, then respond with <SKIP>.\n",
    "\"\"\"\n",
    "        }, {\n",
    "            \"role\": \"user\",\n",
    "            \"content\": text\n",
    "        }\n",
    "    ]\n",
    "    output = openai_chat(m)\n",
    "    content = output.choices[0].message.content.strip()\n",
    "    content = content.replace('***', '')\n",
    "    content = content.replace('**', '')\n",
    "    content = content.replace('*', '-')\n",
    "    return content"
   ],
   "id": "d7bd1353a5f05890",
   "execution_count": 13,
   "outputs": []
  },
  {
   "metadata": {
    "ExecuteTime": {
     "end_time": "2024-06-30T21:12:37.052751Z",
     "start_time": "2024-06-30T21:12:10.070092Z"
    }
   },
   "cell_type": "code",
   "source": [
    "import os\n",
    "\n",
    "with open('processed-xml.txt', 'r') as file:\n",
    "    processed = set()\n",
    "    for line in file.readlines():\n",
    "        processed.add(line.strip().replace('\\n',''))\n",
    "\n",
    "processed = list(processed)\n",
    "processed.sort()\n",
    "print(f'Processed: {processed}')\n",
    "\n",
    "for type in ['train','val', 'test']:\n",
    "    dataframes = []\n",
    "    for file_name in os.listdir(type):\n",
    "        file_name, file_extension = os.path.splitext(file_name)\n",
    "        base_path = os.path.join(type, file_name)\n",
    "        if f'{base_path}.txt' in processed:\n",
    "            print(f'Already processed {base_path}.txt')\n",
    "        else:\n",
    "            if file_name.startswith('Synthetic'):\n",
    "                if os.path.isfile(f'{base_path}.txt'):\n",
    "                        print(f'Processing {base_path}.txt')\n",
    "                        with open(f'{base_path}.txt', 'r') as file:\n",
    "                            text = file.read().strip()\n",
    "                        if '<' in text:\n",
    "                            text = fix_xml(text)\n",
    "                            if text == '<SKIP>':\n",
    "                                print(f'Skipping {base_path}.txt')\n",
    "                            else:\n",
    "                                print(f'Cleaning {base_path}.txt')\n",
    "                                with open(f'{base_path}.txt', 'w') as f:\n",
    "                                    f.write(text)\n",
    "                            \n",
    "                            processed.append(f'{base_path}.txt')\n",
    "                            with open('processed-xml.txt', 'w') as file:\n",
    "                                for item in processed:\n",
    "                                    file.write('%s\\n' % item)\n",
    "                            \n",
    "        #break\n",
    "    #break\n",
    "                \n"
   ],
   "id": "initial_id",
   "execution_count": 14,
   "outputs": []
  },
  {
   "metadata": {},
   "cell_type": "code",
   "execution_count": null,
   "source": "",
   "id": "9defa6c77a609906",
   "outputs": []
  }
 ],
 "metadata": {
  "kernelspec": {
   "display_name": "Python 3",
   "language": "python",
   "name": "python3"
  },
  "language_info": {
   "codemirror_mode": {
    "name": "ipython",
    "version": 2
   },
   "file_extension": ".py",
   "mimetype": "text/x-python",
   "name": "python",
   "nbconvert_exporter": "python",
   "pygments_lexer": "ipython2",
   "version": "2.7.6"
  }
 },
 "nbformat": 4,
 "nbformat_minor": 5
}

{
 "cells": [
  {
   "metadata": {
    "ExecuteTime": {
     "end_time": "2024-06-29T22:30:58.835556Z",
     "start_time": "2024-06-29T22:30:58.831813Z"
    }
   },
   "cell_type": "code",
   "source": [
    "from openai import OpenAI\n",
    "\n",
    "def read_file(file_path):\n",
    "    with open(file_path, 'r') as file:\n",
    "        content = file.read()\n",
    "    return content.rstrip('\\n')\n",
    "\n",
    "\n",
    "def openai_chat(messages):\n",
    "    client = OpenAI(api_key=read_file(\"/home/teveritt/OpenAI-API-DCU-AI.key\"))\n",
    "\n",
    "    return client.chat.completions.create(\n",
    "        model='gpt-4o',\n",
    "        temperature=0.0,\n",
    "        messages=messages,\n",
    "        stream=False,\n",
    "        max_tokens=1525\n",
    "    )"
   ],
   "id": "583dc0a2795b5042",
   "execution_count": 6,
   "outputs": []
  },
  {
   "metadata": {
    "ExecuteTime": {
     "end_time": "2024-06-29T22:45:53.329328Z",
     "start_time": "2024-06-29T22:45:53.326396Z"
    }
   },
   "cell_type": "code",
   "source": [
    "def fix_gdpr(text):\n",
    "    m = [\n",
    "        {\n",
    "            \"role\": \"system\",\n",
    "            \"content\": \"\"\"\n",
    "This GPT will anonymise job postings by removing and replacing personally identifiable information (PII) with specific placeholders. Replace the following PII with the given placeholders:\n",
    "\n",
    "    - Person's name (Not Company/Employer): Replace with \"[Name Redacted]\"\n",
    "    - Addresses: Replace with \"[Address Redacted]\"\n",
    "    - Phone Numbers: Replace with \"[Phone Number Redacted]\"\n",
    "    - Phone Number Extension: Replace with \"[Extension Redacted]\"\n",
    "    - Email Addresses: Replace with \"[Email Redacted]\"\n",
    "    - IP Addresses: Replace with \"[IP Address Redacted]\"\n",
    "    - URL: Replace with \"[URL Redacted]\"\n",
    "\n",
    "Ensure that all PII is thoroughly and consistently anonymised. Here are some examples:\n",
    "\n",
    "    - Original: \"We are seeking a Software Engineer. Please contact John Doe at john.doe@example.com. Our office is located at 1234 Elm Street, London. For more information, call +44 1234 567890 ext. 1234. Visit us online at ourdomain.com from IP 192.168.1.1.\"\n",
    "    - Anonymised: \"We are seeking a Software Engineer. Please contact [Name Redacted] at [Email Redacted]. Our office is located at [Address Redacted]. For more information, call [Phone Number Redacted] ext. [Extension Redacted]. Visit us online at [URL Redacted] from [IP Address Redacted]. \"\n",
    "\n",
    "Apply these replacements to any job posting provided and don't alter anything else.\n",
    "If there is nothing to anonymise, then respond with <SKIP>.\n",
    "\"\"\"\n",
    "        }, {\n",
    "            \"role\": \"user\",\n",
    "            \"content\": text\n",
    "        }\n",
    "    ]\n",
    "    output = openai_chat(m)\n",
    "    content = output.choices[0].message.content.strip()\n",
    "    content = content.replace('***', '')\n",
    "    content = content.replace('**', '')\n",
    "    content = content.replace('*', '-')\n",
    "    return content"
   ],
   "id": "d7bd1353a5f05890",
   "execution_count": 19,
   "outputs": []
  },
  {
   "metadata": {
    "ExecuteTime": {
     "end_time": "2024-06-29T23:06:26.509685Z",
     "start_time": "2024-06-29T22:45:54.332193Z"
    }
   },
   "cell_type": "code",
   "source": [
    "import os\n",
    "\n",
    "with open('processed-gdpr.txt', 'r') as file:\n",
    "    processed = set()\n",
    "    for line in file.readlines():\n",
    "        processed.add(line.strip().replace('\\n',''))\n",
    "\n",
    "processed = list(processed)\n",
    "processed.sort()\n",
    "print(f'Processed: {processed}')\n",
    "\n",
    "for type in ['train','val', 'test']:\n",
    "    dataframes = []\n",
    "    for file_name in os.listdir(type):\n",
    "        file_name, file_extension = os.path.splitext(file_name)\n",
    "        base_path = os.path.join(type, file_name)\n",
    "        if f'{base_path}.txt' in processed:\n",
    "            print(f'Already processed {base_path}.txt')\n",
    "        else:\n",
    "            if file_name.startswith('Kaggle'):\n",
    "                if os.path.isfile(f'{base_path}.txt'):\n",
    "                        print(f'Processing {base_path}.txt')\n",
    "                        with open(f'{base_path}.txt', 'r') as file:\n",
    "                            text = file.read().strip()\n",
    "                            text = fix_gdpr(text)\n",
    "                        if text == '<SKIP>':\n",
    "                            print(f'Skipping {base_path}.txt')\n",
    "                        else:\n",
    "                            print(f'Cleaning {base_path}.txt')\n",
    "                            with open(f'{base_path}.txt', 'w') as f:\n",
    "                                f.write(text)\n",
    "                            \n",
    "                        processed.append(f'{base_path}.txt')\n",
    "                        with open('processed-gdpr.txt', 'w') as file:\n",
    "                            for item in processed:\n",
    "                                file.write('%s\\n' % item)\n",
    "                            \n",
    "        #break\n",
    "    #break\n",
    "                \n"
   ],
   "id": "initial_id",
   "execution_count": 20,
   "outputs": []
  },
  {
   "metadata": {},
   "cell_type": "code",
   "execution_count": null,
   "source": "",
   "id": "9defa6c77a609906",
   "outputs": []
  }
 ],
 "metadata": {
  "kernelspec": {
   "display_name": "Python 3",
   "language": "python",
   "name": "python3"
  },
  "language_info": {
   "codemirror_mode": {
    "name": "ipython",
    "version": 2
   },
   "file_extension": ".py",
   "mimetype": "text/x-python",
   "name": "python",
   "nbconvert_exporter": "python",
   "pygments_lexer": "ipython2",
   "version": "2.7.6"
  }
 },
 "nbformat": 4,
 "nbformat_minor": 5
}

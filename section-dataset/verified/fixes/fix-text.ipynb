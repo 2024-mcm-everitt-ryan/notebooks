{
 "cells": [
  {
   "metadata": {
    "ExecuteTime": {
     "end_time": "2024-06-29T20:06:40.978421Z",
     "start_time": "2024-06-29T20:06:40.547625Z"
    }
   },
   "cell_type": "code",
   "source": [
    "from openai import OpenAI\n",
    "\n",
    "def read_file(file_path):\n",
    "    with open(file_path, 'r') as file:\n",
    "        content = file.read()\n",
    "    return content.rstrip('\\n')\n",
    "\n",
    "\n",
    "def openai_chat(messages):\n",
    "    client = OpenAI(api_key=read_file(\"/home/teveritt/OpenAI-API-DCU-AI.key\"))\n",
    "\n",
    "    return client.chat.completions.create(\n",
    "        model='gpt-4o',\n",
    "        temperature=0.0,\n",
    "        messages=messages,\n",
    "        stream=False,\n",
    "        max_tokens=1525\n",
    "    )"
   ],
   "id": "583dc0a2795b5042",
   "execution_count": 7,
   "outputs": []
  },
  {
   "metadata": {
    "ExecuteTime": {
     "end_time": "2024-06-29T20:40:20.920430Z",
     "start_time": "2024-06-29T20:40:20.917946Z"
    }
   },
   "cell_type": "code",
   "source": [
    "def fix_text(text):\n",
    "    m = [\n",
    "        {\n",
    "            \"role\": \"system\",\n",
    "            \"content\": \"This GPT is a job description fixer that restructures provided text without altering the words, grammar, or their meanings. It preserves British and American spellings.  The focus is only to fix the spacing, separators, and list items. Nothing else.  It removes characters that are noise and not part of the context.\"\n",
    "        }, {\n",
    "            \"role\": \"user\",\n",
    "            \"content\": text\n",
    "        }\n",
    "    ]\n",
    "    output = openai_chat(m)\n",
    "    content = output.choices[0].message.content.strip()\n",
    "    content = content.replace('***', '')\n",
    "    content = content.replace('**', '')\n",
    "    content = content.replace('*', '-')\n",
    "    return content"
   ],
   "id": "d7bd1353a5f05890",
   "execution_count": 34,
   "outputs": []
  },
  {
   "metadata": {
    "ExecuteTime": {
     "end_time": "2024-06-29T22:14:07.642352Z",
     "start_time": "2024-06-29T22:14:07.537370Z"
    }
   },
   "cell_type": "code",
   "source": [
    "import os\n",
    "\n",
    "with open('processed-fix-text.txt', 'r') as file:\n",
    "    processed = set()\n",
    "    for line in file.readlines():\n",
    "        processed.add(line.strip().replace('\\n',''))\n",
    "\n",
    "processed = list(processed)\n",
    "processed.sort()\n",
    "print(f'Processed: {processed}')\n",
    "\n",
    "for type in ['train','val', 'test']:\n",
    "    dataframes = []\n",
    "    for file_name in os.listdir(type):\n",
    "        file_name, file_extension = os.path.splitext(file_name)\n",
    "        base_path = os.path.join(type, file_name)\n",
    "        if f'{base_path}.txt' in processed:\n",
    "            print(f'Already processed {base_path}.txt')\n",
    "        else:\n",
    "            if file_name.startswith('Kaggle'):\n",
    "                if os.path.isfile(f'{base_path}.txt'):\n",
    "                        print(f'Processing {base_path}.txt')\n",
    "                        with open(f'{base_path}.txt', 'r') as file:\n",
    "                            text = file.read().strip()\n",
    "                            text = fix_text(text)\n",
    "                        with open(f'{base_path}.txt', 'w') as f:\n",
    "                            f.write(text)\n",
    "                        \n",
    "                        processed.append(f'{base_path}.txt')\n",
    "                        with open('processed-fix-text.txt', 'w') as file:\n",
    "                            for item in processed:\n",
    "                                file.write('%s\\n' % item)\n",
    "                            \n",
    "        #break\n",
    "    #break\n",
    "                \n"
   ],
   "id": "initial_id",
   "execution_count": 51,
   "outputs": []
  },
  {
   "metadata": {},
   "cell_type": "code",
   "execution_count": null,
   "source": "",
   "id": "9defa6c77a609906",
   "outputs": []
  }
 ],
 "metadata": {
  "kernelspec": {
   "display_name": "Python 3",
   "language": "python",
   "name": "python3"
  },
  "language_info": {
   "codemirror_mode": {
    "name": "ipython",
    "version": 2
   },
   "file_extension": ".py",
   "mimetype": "text/x-python",
   "name": "python",
   "nbconvert_exporter": "python",
   "pygments_lexer": "ipython2",
   "version": "2.7.6"
  }
 },
 "nbformat": 4,
 "nbformat_minor": 5
}

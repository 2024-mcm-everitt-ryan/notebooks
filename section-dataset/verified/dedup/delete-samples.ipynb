{
 "cells": [
  {
   "cell_type": "code",
   "id": "initial_id",
   "metadata": {
    "collapsed": true,
    "ExecuteTime": {
     "end_time": "2024-07-03T01:09:37.439493Z",
     "start_time": "2024-07-03T01:09:37.420056Z"
    }
   },
   "source": [
    "import pandas as pd\n",
    "\n",
    "df = pd.concat([\n",
    "    pd.read_csv('train_dup_ids.csv'),\n",
    "    pd.read_csv('test_dup_ids.csv')\n",
    "])\n",
    "\n",
    "ids = df['id'].unique()\n",
    "\n",
    "print(f'Duplicated samples to delete: {len(ids)}')"
   ],
   "outputs": [
    {
     "name": "stdout",
     "output_type": "stream",
     "text": [
      "Duplicated samples to delete: 32\n"
     ]
    }
   ],
   "execution_count": 6
  },
  {
   "metadata": {
    "ExecuteTime": {
     "end_time": "2024-07-03T01:20:15.786586Z",
     "start_time": "2024-07-03T01:20:15.764537Z"
    }
   },
   "cell_type": "code",
   "source": [
    "import os\n",
    "\n",
    "to_delete = []\n",
    "to_delete_basepaths = []\n",
    "for type in ['train','val','test']:\n",
    "    for id in ids:\n",
    "        id = id.replace('::','__')\n",
    "        id = id.replace(':negative:','_negative_')\n",
    "        id = id.replace(':neutral:','_neutral_')\n",
    "        id = id.replace(':positive:','_positive_')\n",
    "        base_path = f'../{type}/{id}'\n",
    "        json_file = f'{base_path}.json'\n",
    "        txt_file = f'{base_path}.txt'\n",
    "        if os.path.isfile(json_file):\n",
    "            to_delete.append(json_file)\n",
    "        if os.path.isfile(txt_file):\n",
    "            to_delete.append(txt_file)\n",
    "            \n",
    "        if os.path.isfile(json_file) or os.path.isfile(txt_file):\n",
    "            to_delete_basepaths.append(base_path)\n",
    "            \n",
    "print(f'Base paths to delete: {len(to_delete_basepaths)}')\n",
    "print(f'Files to delete: {len(to_delete)}')"
   ],
   "id": "1eac3a18df1fed6d",
   "outputs": [
    {
     "name": "stdout",
     "output_type": "stream",
     "text": [
      "Base paths to delete: 11\n",
      "Files to delete: 22\n"
     ]
    }
   ],
   "execution_count": 15
  },
  {
   "metadata": {
    "ExecuteTime": {
     "end_time": "2024-07-03T01:20:29.793982Z",
     "start_time": "2024-07-03T01:20:29.791349Z"
    }
   },
   "cell_type": "code",
   "source": "to_delete_basepaths",
   "id": "5aa2ab72c28595bc",
   "outputs": [
    {
     "data": {
      "text/plain": [
       "['../train/Kaggle__techmap__61451a523bf28a6d30e93086__linkedin_ro__0',\n",
       " '../train/Kaggle__techmap__6156167aa6740c534abc6931__monster_ca__1',\n",
       " '../train/Kaggle__techmap__61493b1de48deb575b2ab76a__reed_uk__1',\n",
       " '../val/Kaggle__techmap__6155ba4e4db0014f79b759b8__monster_ie__0',\n",
       " '../val/Kaggle__techmap__612f448041083c5b6da08cb7__linkedin_cn__1',\n",
       " '../val/Kaggle__techmap__614e284c48f252376a32cfdd__britishjobs_uk__10',\n",
       " '../val/Kaggle__techmap__615e790f177c9668cd9ef16b__linkedin_kr__0',\n",
       " '../val/Kaggle__techmap__613466ed398a857709741e22__monsterasia_hk__1',\n",
       " '../test/Kaggle__techmap__614b9c2e0617597446c781a5__monster2_nl__2',\n",
       " '../test/Kaggle__techmap__6154fe199130512381200e9d__cvlibrary_uk__3',\n",
       " '../test/Kaggle__techmap__61491b3f99c63a0f7b4792d0__linkedin_ie__2']"
      ]
     },
     "execution_count": 16,
     "metadata": {},
     "output_type": "execute_result"
    }
   ],
   "execution_count": 16
  },
  {
   "metadata": {
    "ExecuteTime": {
     "end_time": "2024-07-03T01:15:43.185078Z",
     "start_time": "2024-07-03T01:15:43.181944Z"
    }
   },
   "cell_type": "code",
   "source": [
    "# Should always be twice the amount (json and txt files)\n",
    "to_delete"
   ],
   "id": "ca76b1ea964d323c",
   "outputs": [
    {
     "data": {
      "text/plain": [
       "['../train/Kaggle__techmap__61451a523bf28a6d30e93086__linkedin_ro__0.json',\n",
       " '../train/Kaggle__techmap__61451a523bf28a6d30e93086__linkedin_ro__0.txt',\n",
       " '../train/Kaggle__techmap__6156167aa6740c534abc6931__monster_ca__1.json',\n",
       " '../train/Kaggle__techmap__6156167aa6740c534abc6931__monster_ca__1.txt',\n",
       " '../train/Kaggle__techmap__61493b1de48deb575b2ab76a__reed_uk__1.json',\n",
       " '../train/Kaggle__techmap__61493b1de48deb575b2ab76a__reed_uk__1.txt',\n",
       " '../val/Kaggle__techmap__6155ba4e4db0014f79b759b8__monster_ie__0.json',\n",
       " '../val/Kaggle__techmap__6155ba4e4db0014f79b759b8__monster_ie__0.txt',\n",
       " '../val/Kaggle__techmap__612f448041083c5b6da08cb7__linkedin_cn__1.json',\n",
       " '../val/Kaggle__techmap__612f448041083c5b6da08cb7__linkedin_cn__1.txt',\n",
       " '../val/Kaggle__techmap__614e284c48f252376a32cfdd__britishjobs_uk__10.json',\n",
       " '../val/Kaggle__techmap__614e284c48f252376a32cfdd__britishjobs_uk__10.txt',\n",
       " '../val/Kaggle__techmap__615e790f177c9668cd9ef16b__linkedin_kr__0.json',\n",
       " '../val/Kaggle__techmap__615e790f177c9668cd9ef16b__linkedin_kr__0.txt',\n",
       " '../val/Kaggle__techmap__613466ed398a857709741e22__monsterasia_hk__1.json',\n",
       " '../val/Kaggle__techmap__613466ed398a857709741e22__monsterasia_hk__1.txt',\n",
       " '../test/Kaggle__techmap__614b9c2e0617597446c781a5__monster2_nl__2.json',\n",
       " '../test/Kaggle__techmap__614b9c2e0617597446c781a5__monster2_nl__2.txt',\n",
       " '../test/Kaggle__techmap__6154fe199130512381200e9d__cvlibrary_uk__3.json',\n",
       " '../test/Kaggle__techmap__6154fe199130512381200e9d__cvlibrary_uk__3.txt',\n",
       " '../test/Kaggle__techmap__61491b3f99c63a0f7b4792d0__linkedin_ie__2.json',\n",
       " '../test/Kaggle__techmap__61491b3f99c63a0f7b4792d0__linkedin_ie__2.txt']"
      ]
     },
     "execution_count": 12,
     "metadata": {},
     "output_type": "execute_result"
    }
   ],
   "execution_count": 12
  },
  {
   "metadata": {},
   "cell_type": "code",
   "outputs": [],
   "execution_count": null,
   "source": "",
   "id": "7a40d8636b88b2a2"
  }
 ],
 "metadata": {
  "kernelspec": {
   "display_name": "Python 3",
   "language": "python",
   "name": "python3"
  },
  "language_info": {
   "codemirror_mode": {
    "name": "ipython",
    "version": 2
   },
   "file_extension": ".py",
   "mimetype": "text/x-python",
   "name": "python",
   "nbconvert_exporter": "python",
   "pygments_lexer": "ipython2",
   "version": "2.7.6"
  }
 },
 "nbformat": 4,
 "nbformat_minor": 5
}

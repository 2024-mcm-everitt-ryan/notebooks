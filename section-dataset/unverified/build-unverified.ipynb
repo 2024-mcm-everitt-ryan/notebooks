{
 "cells": [
  {
   "metadata": {
    "ExecuteTime": {
     "end_time": "2024-07-03T20:36:12.467497Z",
     "start_time": "2024-07-03T20:36:12.463289Z"
    }
   },
   "cell_type": "code",
   "source": [
    "\n",
    "import pandas as pd\n",
    "\n",
    "\n",
    "def analyse_dataframe(dataframe):\n",
    "    label_columns = [col for col in dataframe.columns if col.startswith('label_')]\n",
    "    analysis_columns = [col for col in dataframe.columns if col.startswith('analysis_')]\n",
    "    categories = [col.replace('label_', '') for col in label_columns]\n",
    "    text_column = 'text'\n",
    "\n",
    "    print(f\"Categories: {categories}\")\n",
    "    print(f\"Labels: {label_columns}\")\n",
    "    print(f\"Analysis: {analysis_columns}\")\n",
    "    print(f\"Input: {text_column}\")\n",
    "\n",
    "    non_neutral = dataframe[label_columns].apply(lambda x: any([i for i in x]), axis=1).sum()\n",
    "    neutral = dataframe[label_columns].apply(lambda x: all([not i for i in x]), axis=1).sum()\n",
    "\n",
    "    print(f'\\nRows: {len(dataframe)}')\n",
    "    print(f'Has at least one bias category: {non_neutral} ({non_neutral / len(dataframe):.2%})')\n",
    "    print(f'Has no bias categories: {neutral} ({neutral / len(dataframe):.2%})')\n",
    "\n"
   ],
   "id": "bf6d3b41f6a5dd16",
   "execution_count": 2,
   "outputs": []
  },
  {
   "metadata": {
    "ExecuteTime": {
     "end_time": "2024-07-01T21:58:35.722269Z",
     "start_time": "2024-07-01T21:58:35.721018Z"
    }
   },
   "cell_type": "code",
   "source": "",
   "id": "19b9c660d7eb0da8",
   "execution_count": 1,
   "outputs": []
  },
  {
   "metadata": {},
   "cell_type": "markdown",
   "source": "# job-bias-synthetic-human-benchmark",
   "id": "7fdd67f7fd028c4d"
  },
  {
   "cell_type": "code",
   "id": "initial_id",
   "metadata": {
    "collapsed": true,
    "ExecuteTime": {
     "end_time": "2024-07-01T15:01:22.054873Z",
     "start_time": "2024-07-01T15:01:21.677770Z"
    }
   },
   "source": [
    "df_synthetic_taxonomy = pd.read_parquet('input/synthetic-biased-job-descriptions.parquet')\n",
    "analyse_dataframe(df_synthetic_taxonomy)\n",
    "df_synthetic_taxonomy"
   ],
   "execution_count": 35,
   "outputs": []
  },
  {
   "metadata": {
    "ExecuteTime": {
     "end_time": "2024-07-01T15:00:06.731829Z",
     "start_time": "2024-07-01T15:00:06.727070Z"
    }
   },
   "cell_type": "code",
   "source": [
    "import json\n",
    "\n",
    "def create_meta(row):\n",
    "    meta = {\n",
    "        'model': 'meta-llama/Meta-Llama-3-70B-Instruct',\n",
    "        'timestamp': row['document_id'].split(':')[-2],\n",
    "        'inference_time': row['inference_time'],\n",
    "        'prompt_tokens': row['prompt_tokens'],\n",
    "        'completion_tokens': row['completion_tokens'],\n",
    "        'total_tokens': row['total_tokens'],\n",
    "        'temperature': 0.8,\n",
    "        # 'seed': 2024,\n",
    "        'input': row['input'],\n",
    "        'output': row['output'],\n",
    "    }\n",
    "    return json.dumps(meta)"
   ],
   "id": "1c7a6c9f354ebb4d",
   "execution_count": 32,
   "outputs": []
  },
  {
   "metadata": {
    "ExecuteTime": {
     "end_time": "2024-07-01T15:02:49.316342Z",
     "start_time": "2024-07-01T15:02:48.930218Z"
    }
   },
   "cell_type": "code",
   "source": [
    "df_synthetic_taxonomy['metadata'] = df_synthetic_taxonomy.apply(create_meta, axis=1)\n",
    "df_synthetic_taxonomy.rename(columns={'document_id': 'id'}, inplace=True)\n",
    "df_synthetic_taxonomy['verified'] = False\n",
    "df_synthetic_taxonomy['synthetic'] = True\n",
    "df_synthetic_taxonomy = df_synthetic_taxonomy[['id', 'label_age', 'analysis_age', 'label_disability',\n",
    "       'analysis_disability', 'label_masculine', 'analysis_masculine',\n",
    "       'label_feminine', 'analysis_feminine', 'label_racial',\n",
    "       'analysis_racial', 'label_sexuality', 'analysis_sexuality',\n",
    "       'label_general', 'analysis_general', 'verified', 'synthetic', 'text',\n",
    "       'metadata']]\n",
    "\n",
    "df_synthetic_taxonomy"
   ],
   "id": "82bb4cc016731e37",
   "execution_count": 37,
   "outputs": []
  },
  {
   "metadata": {
    "ExecuteTime": {
     "end_time": "2024-07-01T15:44:14.072166Z",
     "start_time": "2024-07-01T15:44:13.565860Z"
    }
   },
   "cell_type": "code",
   "source": "df_synthetic_taxonomy.to_parquet('output/unverified-train-taxonomy.parquet')",
   "id": "7b0822943b23de69",
   "execution_count": 40,
   "outputs": []
  },
  {
   "metadata": {
    "ExecuteTime": {
     "end_time": "2024-07-01T14:40:47.407793Z",
     "start_time": "2024-07-01T14:40:47.403787Z"
    }
   },
   "cell_type": "code",
   "source": [
    "import json\n",
    "\n",
    "json.loads(df_synthetic_taxonomy.head(1)['notes'].values[0])"
   ],
   "id": "dc760d6999cc543b",
   "execution_count": 14,
   "outputs": []
  },
  {
   "metadata": {
    "ExecuteTime": {
     "end_time": "2024-07-01T14:39:54.139461Z",
     "start_time": "2024-07-01T14:39:54.135918Z"
    }
   },
   "cell_type": "code",
   "source": "df_synthetic_taxonomy.columns",
   "id": "55ca4c4064c21adf",
   "execution_count": 12,
   "outputs": []
  },
  {
   "metadata": {},
   "cell_type": "markdown",
   "source": "# Feminine Bias",
   "id": "3f60d66043cc0a0d"
  },
  {
   "metadata": {
    "ExecuteTime": {
     "end_time": "2024-07-01T23:25:04.368479Z",
     "start_time": "2024-07-01T23:25:04.366415Z"
    }
   },
   "cell_type": "code",
   "source": [
    "import json\n",
    "\n",
    "def create_meta_gender(row):\n",
    "    meta = {\n",
    "       # 'document_id': row['document_id'],\n",
    "        'position': row['position'],\n",
    "        'inference_time': row['inference_time'],\n",
    "        'model': 'gpt-4o-2024-05-13',\n",
    "        'prompt_tokens': row['prompt_tokens'],\n",
    "        'completion_tokens': row['completion_tokens'],\n",
    "        'total_tokens': row['total_tokens'],\n",
    "        'input': row['input'],\n",
    "        'output': row['output'],\n",
    "    }\n",
    "    return json.dumps(meta)"
   ],
   "id": "92599ca92821e0b3",
   "execution_count": 12,
   "outputs": []
  },
  {
   "metadata": {
    "ExecuteTime": {
     "end_time": "2024-07-01T23:25:04.766240Z",
     "start_time": "2024-07-01T23:25:04.734230Z"
    }
   },
   "cell_type": "code",
   "source": [
    "import pandas as pd\n",
    "\n",
    "df_feminine_bias = pd.read_parquet('input/feminine-bias.parquet')\n",
    "\n",
    "analyse_dataframe(df_feminine_bias)\n",
    "\n",
    "df_feminine_bias['text'] = df_feminine_bias['text'].str.replace('***', '', regex=False)\n",
    "df_feminine_bias['text'] = df_feminine_bias['text'].str.replace('**', '', regex=False)\n",
    "df_feminine_bias['text'] = df_feminine_bias['text'].str.replace('*', '-', regex=False)\n",
    "\n",
    "\n",
    "df_feminine_bias['metadata'] = df_feminine_bias.apply(create_meta_gender, axis=1)\n",
    "df_feminine_bias['verified'] = False\n",
    "df_feminine_bias['synthetic'] = True\n",
    "\n",
    "df_feminine_bias.rename(columns={'document_id': 'id'}, inplace=True)\n",
    "\n",
    "df_feminine_bias = df_feminine_bias[['id', 'label_age', 'analysis_age', 'label_disability',\n",
    "       'analysis_disability', 'label_masculine', 'analysis_masculine',\n",
    "       'label_feminine', 'analysis_feminine', 'label_racial',\n",
    "       'analysis_racial', 'label_sexuality', 'analysis_sexuality',\n",
    "       'label_general', 'analysis_general', 'verified', 'synthetic', 'text',\n",
    "       'metadata']]\n",
    "\n",
    "df_feminine_bias"
   ],
   "id": "d29ac108eee59701",
   "execution_count": 13,
   "outputs": []
  },
  {
   "metadata": {
    "ExecuteTime": {
     "end_time": "2024-07-01T23:27:49.216015Z",
     "start_time": "2024-07-01T23:27:49.207322Z"
    }
   },
   "cell_type": "code",
   "source": "df_feminine_bias.to_parquet('output/unverified-train-gpt4-feminine.parquet')",
   "id": "7d61d2ca78f86cea",
   "execution_count": 17,
   "outputs": []
  },
  {
   "metadata": {},
   "cell_type": "markdown",
   "source": "# Masculine",
   "id": "867fc07c0fb3ce81"
  },
  {
   "metadata": {
    "ExecuteTime": {
     "end_time": "2024-07-01T23:27:00.696085Z",
     "start_time": "2024-07-01T23:27:00.659512Z"
    }
   },
   "cell_type": "code",
   "source": [
    "import pandas as pd\n",
    "\n",
    "df_masculine_bias = pd.read_parquet('input/masculine-bias.parquet')\n",
    "\n",
    "analyse_dataframe(df_masculine_bias)\n",
    "\n",
    "df_masculine_bias['text'] = df_masculine_bias['text'].str.replace('***', '', regex=False)\n",
    "df_masculine_bias['text'] = df_masculine_bias['text'].str.replace('**', '', regex=False)\n",
    "df_masculine_bias['text'] = df_masculine_bias['text'].str.replace('*', '-', regex=False)\n",
    "\n",
    "\n",
    "df_masculine_bias['metadata'] = df_masculine_bias.apply(create_meta_gender, axis=1)\n",
    "df_masculine_bias['verified'] = False\n",
    "df_masculine_bias['synthetic'] = True\n",
    "\n",
    "df_masculine_bias.rename(columns={'document_id': 'id'}, inplace=True)\n",
    "\n",
    "df_masculine_bias = df_masculine_bias[['id', 'label_age', 'analysis_age', 'label_disability',\n",
    "       'analysis_disability', 'label_masculine', 'analysis_masculine',\n",
    "       'label_feminine', 'analysis_feminine', 'label_racial',\n",
    "       'analysis_racial', 'label_sexuality', 'analysis_sexuality',\n",
    "       'label_general', 'analysis_general', 'verified', 'synthetic', 'text',\n",
    "       'metadata']]\n",
    "\n",
    "df_masculine_bias"
   ],
   "id": "7fce948e8ed5d824",
   "execution_count": 16,
   "outputs": []
  },
  {
   "metadata": {
    "ExecuteTime": {
     "end_time": "2024-07-01T23:28:07.635484Z",
     "start_time": "2024-07-01T23:28:07.623306Z"
    }
   },
   "cell_type": "code",
   "source": "df_masculine_bias.to_parquet('output/unverified-train-gpt4-masculine.parquet')",
   "id": "e67fdd24700e4e5",
   "execution_count": 18,
   "outputs": []
  },
  {
   "metadata": {},
   "cell_type": "markdown",
   "source": "# GPT4 Labelled",
   "id": "2e6430d0dbbc490d"
  },
  {
   "metadata": {
    "ExecuteTime": {
     "end_time": "2024-07-01T22:15:57.256670Z",
     "start_time": "2024-07-01T22:15:57.078414Z"
    }
   },
   "cell_type": "code",
   "source": [
    "import pandas as pd\n",
    "import glob\n",
    "\n",
    "# Get the list of all parquet files in directory\n",
    "files = glob.glob('input/gpt4o/*.parquet.snappy')\n",
    "\n",
    "df_gp4_turbo_labelled = []\n",
    "\n",
    "for file in files:\n",
    "    df = pd.read_parquet(file)\n",
    "    df_gp4_turbo_labelled.append(df)\n",
    "\n",
    "df_gp4_turbo_labelled = pd.concat(df_gp4_turbo_labelled, ignore_index=True)\n",
    "analyse_dataframe(df_gp4_turbo_labelled)\n",
    "df_gp4_turbo_labelled"
   ],
   "id": "6b491b705fa2428f",
   "execution_count": 18,
   "outputs": []
  },
  {
   "metadata": {
    "ExecuteTime": {
     "end_time": "2024-07-01T22:15:58.033923Z",
     "start_time": "2024-07-01T22:15:58.030901Z"
    }
   },
   "cell_type": "code",
   "source": [
    "import json\n",
    "\n",
    "def create_id_gpt4_turbo_labelled(row):\n",
    "    return f\"{row['document_id']}:{row['phrase_index']}\"\n",
    "    \n",
    "def create_meta_gpt4_turbo_labelled(row):\n",
    "    meta = {\n",
    "        'document_id': row['document_id'],\n",
    "        'phrase_index': row['phrase_index'],\n",
    "        'phrase_series': row['phrase_series'],\n",
    "        'source': row['source'],\n",
    "        'country': row['country'],\n",
    "        'company': row['company'],\n",
    "        'position': row['position'],\n",
    "        'original': row['html'],\n",
    "        'model': row['llm_model_name'],\n",
    "        #'timestamp': row['document_id'].split(':')[-2],\n",
    "        'inference_time': row['llm_inference_time'],\n",
    "        'prompt_tokens': row['llm_input_token_count'],\n",
    "        'completion_tokens': row['llm_output_token_count'],\n",
    "        'total_tokens': row['llm_total_token_count'],\n",
    "        'temperature': 0.8,\n",
    "        # 'seed': 2024,\n",
    "        #'input': row['input'],\n",
    "        'output': row['llm_output'],\n",
    "    }\n",
    "    return json.dumps(meta)"
   ],
   "id": "e8f40655dabd6c57",
   "execution_count": 19,
   "outputs": []
  },
  {
   "metadata": {
    "ExecuteTime": {
     "end_time": "2024-07-01T22:15:58.933140Z",
     "start_time": "2024-07-01T22:15:58.843366Z"
    }
   },
   "cell_type": "code",
   "source": [
    "df_gp4_turbo_labelled['id'] = df_gp4_turbo_labelled.apply(create_id_gpt4_turbo_labelled, axis=1)\n",
    "df_gp4_turbo_labelled['metadata'] = df_gp4_turbo_labelled.apply(create_meta_gpt4_turbo_labelled, axis=1)\n",
    "df_gp4_turbo_labelled['verified'] = False\n",
    "df_gp4_turbo_labelled['synthetic'] = False\n",
    "label_columns = [col for col in df_gp4_turbo_labelled.columns if col.startswith('label_')]\n",
    "categories = [col.replace('label_', '') for col in label_columns]\n",
    "for category in categories:\n",
    "    df_gp4_turbo_labelled[f'analysis_{category}'] = None\n",
    "    \n",
    "df_gp4_turbo_labelled = df_gp4_turbo_labelled[['id', 'label_age', 'analysis_age', 'label_disability',\n",
    "       'analysis_disability', 'label_masculine', 'analysis_masculine',\n",
    "       'label_feminine', 'analysis_feminine', 'label_racial',\n",
    "       'analysis_racial', 'label_sexuality', 'analysis_sexuality',\n",
    "       'label_general', 'analysis_general', 'verified', 'synthetic', 'text',\n",
    "       'metadata']]\n",
    "\n",
    "df_gp4_turbo_labelled"
   ],
   "id": "8150eb131fc66835",
   "execution_count": 20,
   "outputs": []
  },
  {
   "metadata": {
    "ExecuteTime": {
     "end_time": "2024-07-01T22:22:56.221651Z",
     "start_time": "2024-07-01T22:22:56.208988Z"
    }
   },
   "cell_type": "code",
   "source": "df_gp4_turbo_labelled.value_counts('label_age')",
   "id": "361dcd3c4b5d20d7",
   "execution_count": 23,
   "outputs": []
  },
  {
   "metadata": {
    "ExecuteTime": {
     "end_time": "2024-07-01T22:16:59.065358Z",
     "start_time": "2024-07-01T22:16:58.935239Z"
    }
   },
   "cell_type": "code",
   "source": "df_gp4_turbo_labelled.to_parquet('output/unverified-train-gpt4-labelled.parquet')",
   "id": "7f39bac1d87e4f5a",
   "execution_count": 22,
   "outputs": []
  },
  {
   "metadata": {},
   "cell_type": "markdown",
   "source": "# LLama3",
   "id": "5af4ecf6e782932e"
  },
  {
   "metadata": {
    "ExecuteTime": {
     "end_time": "2024-07-01T22:30:21.782036Z",
     "start_time": "2024-07-01T22:30:21.133728Z"
    }
   },
   "cell_type": "code",
   "source": [
    "import pandas as pd\n",
    "import glob\n",
    "\n",
    "# Get the list of all parquet files in directory\n",
    "files = glob.glob('input/llama3/*.parquet')\n",
    "\n",
    "df_llama3_labelled = []\n",
    "\n",
    "for file in files:\n",
    "    df = pd.read_parquet(file)\n",
    "    df_llama3_labelled.append(df)\n",
    "\n",
    "df_llama3_labelled = pd.concat(df_llama3_labelled, ignore_index=True)\n",
    "analyse_dataframe(df_llama3_labelled)\n",
    "df_llama3_labelled"
   ],
   "id": "34daf64d902ce885",
   "execution_count": 25,
   "outputs": []
  },
  {
   "metadata": {},
   "cell_type": "markdown",
   "source": "",
   "id": "34dc7fa79bea9590"
  },
  {
   "metadata": {
    "ExecuteTime": {
     "end_time": "2024-07-01T22:34:00.888079Z",
     "start_time": "2024-07-01T22:34:00.885075Z"
    }
   },
   "cell_type": "code",
   "source": [
    "import json\n",
    "\n",
    "def create_meta_llama3_labelled(row):\n",
    "    meta = json.loads(row['notes'])\n",
    "    meta['document_id'] = row['document_id']\n",
    "    meta['source'] = row['source']\n",
    "    meta['country'] = row['country']\n",
    "    meta['company'] = row['company']\n",
    "    meta['position'] = row['position']\n",
    "    meta['original'] = row['original']\n",
    "    \n",
    "    return json.dumps(meta)"
   ],
   "id": "549a0de437af6e44",
   "execution_count": 26,
   "outputs": []
  },
  {
   "metadata": {
    "ExecuteTime": {
     "end_time": "2024-07-01T22:35:35.338335Z",
     "start_time": "2024-07-01T22:35:34.886238Z"
    }
   },
   "cell_type": "code",
   "source": [
    "df_llama3_labelled['metadata'] = df_llama3_labelled.apply(create_meta_llama3_labelled, axis=1)\n",
    "df_llama3_labelled['verified'] = False\n",
    "df_llama3_labelled['synthetic'] = False\n",
    "\n",
    "df_llama3_labelled = df_llama3_labelled[['id', 'label_age', 'analysis_age', 'label_disability',\n",
    "       'analysis_disability', 'label_masculine', 'analysis_masculine',\n",
    "       'label_feminine', 'analysis_feminine', 'label_racial',\n",
    "       'analysis_racial', 'label_sexuality', 'analysis_sexuality',\n",
    "       'label_general', 'analysis_general', 'verified', 'synthetic', 'text',\n",
    "       'metadata']]\n",
    "\n",
    "df_llama3_labelled"
   ],
   "id": "7f1008fa8e89a791",
   "execution_count": 29,
   "outputs": []
  },
  {
   "metadata": {
    "ExecuteTime": {
     "end_time": "2024-07-01T22:36:03.810343Z",
     "start_time": "2024-07-01T22:36:03.194888Z"
    }
   },
   "cell_type": "code",
   "source": "df_llama3_labelled.to_parquet('output/unverified-train-llama3-labelled.parquet')",
   "id": "5ed91bd357572474",
   "execution_count": 30,
   "outputs": []
  },
  {
   "metadata": {},
   "cell_type": "markdown",
   "source": "# Polarity synthetics",
   "id": "8ae7656cf3f8e197"
  },
  {
   "metadata": {
    "ExecuteTime": {
     "end_time": "2024-07-03T20:36:23.832819Z",
     "start_time": "2024-07-03T20:36:23.829279Z"
    }
   },
   "cell_type": "code",
   "source": [
    "import json\n",
    "\n",
    "def create_meta_polarity(row):\n",
    "    meta = {\n",
    "       # 'document_id': row['document_id'],\n",
    "        'position': row['position'],\n",
    "        'inference_time': row['inference_time'],\n",
    "        'model': 'gpt-4o-2024-05-13',\n",
    "        'prompt_tokens': row['prompt_tokens'],\n",
    "        'completion_tokens': row['completion_tokens'],\n",
    "        'total_tokens': row['total_tokens'],\n",
    "        'input': row['input'],\n",
    "        'output': row['output'],\n",
    "    }\n",
    "    return json.dumps(meta)\n",
    "import re\n",
    "\n",
    "\n",
    "def replace_asterisks(row):\n",
    "    text = row['text']\n",
    "    text = re.sub(r'\\*{2,}', '', text)\n",
    "    text = re.sub(r'\\*', '-', text)\n",
    "    return text\n"
   ],
   "id": "ac52a395d239e6d4",
   "execution_count": 3,
   "outputs": []
  },
  {
   "metadata": {
    "ExecuteTime": {
     "end_time": "2024-07-03T20:37:53.285746Z",
     "start_time": "2024-07-03T20:37:53.107746Z"
    }
   },
   "cell_type": "code",
   "source": [
    "import pandas as pd\n",
    "\n",
    "df_polarity_synthetics = pd.read_parquet('input/polarity-synthetic.parquet')\n",
    "analyse_dataframe(df_polarity_synthetics)\n",
    "df_polarity_synthetics"
   ],
   "id": "d3da06d5a98394d5",
   "execution_count": 5,
   "outputs": []
  },
  {
   "metadata": {
    "ExecuteTime": {
     "end_time": "2024-07-03T20:38:00.619590Z",
     "start_time": "2024-07-03T20:38:00.425732Z"
    }
   },
   "cell_type": "code",
   "source": [
    "\n",
    "df_polarity_synthetics['metadata'] = df_polarity_synthetics.apply(create_meta_polarity, axis=1)\n",
    "df_polarity_synthetics['text'] = df_polarity_synthetics.apply(replace_asterisks, axis=1)\n",
    "df_polarity_synthetics['verified'] = False\n",
    "df_polarity_synthetics['synthetic'] = True\n",
    "\n",
    "df_polarity_synthetics = df_polarity_synthetics[['id', 'label_age', 'analysis_age', 'label_disability',\n",
    "       'analysis_disability', 'label_masculine', 'analysis_masculine',\n",
    "       'label_feminine', 'analysis_feminine', 'label_racial',\n",
    "       'analysis_racial', 'label_sexuality', 'analysis_sexuality',\n",
    "       'label_general', 'analysis_general', 'verified', 'synthetic', 'text',\n",
    "       'metadata']]\n",
    "\n",
    "df_polarity_synthetics"
   ],
   "id": "1d4fb7418aaf6dc0",
   "execution_count": 6,
   "outputs": []
  },
  {
   "metadata": {
    "ExecuteTime": {
     "end_time": "2024-07-03T20:38:02.751491Z",
     "start_time": "2024-07-03T20:38:02.552910Z"
    }
   },
   "cell_type": "code",
   "source": "df_polarity_synthetics.to_parquet('output/unverified-train-mixed-polarity-synthetic.parquet')",
   "id": "107b42515fb872f5",
   "execution_count": 7,
   "outputs": []
  },
  {
   "metadata": {},
   "cell_type": "code",
   "execution_count": null,
   "source": "",
   "id": "6a699d73efb3e5dd",
   "outputs": []
  }
 ],
 "metadata": {
  "kernelspec": {
   "display_name": "Python 3",
   "language": "python",
   "name": "python3"
  },
  "language_info": {
   "codemirror_mode": {
    "name": "ipython",
    "version": 2
   },
   "file_extension": ".py",
   "mimetype": "text/x-python",
   "name": "python",
   "nbconvert_exporter": "python",
   "pygments_lexer": "ipython2",
   "version": "2.7.6"
  }
 },
 "nbformat": 4,
 "nbformat_minor": 5
}

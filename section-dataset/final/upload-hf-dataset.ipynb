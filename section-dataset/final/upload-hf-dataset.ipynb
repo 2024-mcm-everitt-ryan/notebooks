{
 "cells": [
  {
   "metadata": {},
   "cell_type": "markdown",
   "source": "# This uploads the final dataset to Hugging Face (public)",
   "id": "ea813a1e3099aa5c"
  },
  {
   "metadata": {
    "ExecuteTime": {
     "end_time": "2024-07-14T18:06:18.358099Z",
     "start_time": "2024-07-14T18:06:16.416896Z"
    }
   },
   "cell_type": "code",
   "source": [
    "from datasets import load_dataset, DatasetDict\n",
    "\n",
    "ds = DatasetDict({\n",
    "    'train': load_dataset('parquet', split='train', data_files=f'final-train.parquet').remove_columns(['__index_level_0__']),\n",
    "    'val': load_dataset('parquet', split='train', data_files=f'final-val.parquet').remove_columns(['__index_level_0__']),\n",
    "    'test': load_dataset('parquet', split='train', data_files=f'final-test.parquet').remove_columns(['__index_level_0__']),\n",
    "})\n",
    "\n",
    "ds"
   ],
   "id": "3c2abbc524105619",
   "outputs": [
    {
     "data": {
      "text/plain": [
       "DatasetDict({\n",
       "    train: Dataset({\n",
       "        features: ['id', 'label_age', 'analysis_age', 'label_disability', 'analysis_disability', 'label_feminine', 'analysis_feminine', 'label_general', 'analysis_general', 'label_masculine', 'analysis_masculine', 'label_neutral', 'analysis_neutral', 'label_racial', 'analysis_racial', 'label_sexuality', 'analysis_sexuality', 'verified', 'synthetic', 'text', 'metadata'],\n",
       "        num_rows: 4609\n",
       "    })\n",
       "    val: Dataset({\n",
       "        features: ['id', 'label_age', 'analysis_age', 'label_disability', 'analysis_disability', 'label_feminine', 'analysis_feminine', 'label_general', 'analysis_general', 'label_masculine', 'analysis_masculine', 'label_neutral', 'analysis_neutral', 'label_racial', 'analysis_racial', 'label_sexuality', 'analysis_sexuality', 'verified', 'synthetic', 'text', 'metadata'],\n",
       "        num_rows: 593\n",
       "    })\n",
       "    test: Dataset({\n",
       "        features: ['id', 'label_age', 'analysis_age', 'label_disability', 'analysis_disability', 'label_feminine', 'analysis_feminine', 'label_general', 'analysis_general', 'label_masculine', 'analysis_masculine', 'label_neutral', 'analysis_neutral', 'label_racial', 'analysis_racial', 'label_sexuality', 'analysis_sexuality', 'verified', 'synthetic', 'text', 'metadata'],\n",
       "        num_rows: 584\n",
       "    })\n",
       "})"
      ]
     },
     "execution_count": 1,
     "metadata": {},
     "output_type": "execute_result"
    }
   ],
   "execution_count": 1
  },
  {
   "metadata": {
    "ExecuteTime": {
     "end_time": "2024-07-14T18:06:20.541047Z",
     "start_time": "2024-07-14T18:06:20.538572Z"
    }
   },
   "cell_type": "code",
   "source": "hf_token_file = '/home/teveritt/HuggingFace-API-DCU-AI.write.key'",
   "id": "47137534b83e657",
   "outputs": [],
   "execution_count": 2
  },
  {
   "metadata": {
    "ExecuteTime": {
     "end_time": "2024-07-14T18:06:26.493466Z",
     "start_time": "2024-07-14T18:06:21.456969Z"
    }
   },
   "cell_type": "code",
   "source": [
    "\n",
    "from huggingface_hub import login\n",
    "\n",
    "hf_site_id ='2024-mcm-everitt-ryan'\n",
    "dataset_name = 'job-bias-synthetic-human-benchmark-v2'\n",
    "\n",
    "with open(hf_token_file, 'r') as file:\n",
    "    hf_token = file.read().strip().replace('\\n','')\n",
    "\n",
    "\n",
    "repo_id = f'{hf_site_id}/{dataset_name}'\n",
    "\n",
    "print('Logging into Hugging Face')\n",
    "login(hf_token, add_to_git_credential=True)\n",
    "\n",
    "\n",
    "print(f'Uploading dataset to {repo_id}...')\n",
    "ds.push_to_hub(repo_id,  private=False, token=hf_token)\n"
   ],
   "id": "d62153682306623a",
   "outputs": [
    {
     "name": "stdout",
     "output_type": "stream",
     "text": [
      "Logging into Hugging Face\n",
      "Token is valid (permission: write).\n",
      "Your token has been saved in your configured git credential helpers (cache).\n",
      "Your token has been saved to /home/teveritt/.cache/huggingface/token\n",
      "Login successful\n",
      "Uploading dataset to 2024-mcm-everitt-ryan/job-bias-synthetic-human-benchmark-v2...\n"
     ]
    },
    {
     "data": {
      "text/plain": [
       "Uploading the dataset shards:   0%|          | 0/1 [00:00<?, ?it/s]"
      ],
      "application/vnd.jupyter.widget-view+json": {
       "version_major": 2,
       "version_minor": 0,
       "model_id": "73bc83ef7dc84466b0641a66e189d016"
      }
     },
     "metadata": {},
     "output_type": "display_data"
    },
    {
     "data": {
      "text/plain": [
       "Creating parquet from Arrow format:   0%|          | 0/5 [00:00<?, ?ba/s]"
      ],
      "application/vnd.jupyter.widget-view+json": {
       "version_major": 2,
       "version_minor": 0,
       "model_id": "e2ca5080402540159e10ab8a34de6c61"
      }
     },
     "metadata": {},
     "output_type": "display_data"
    },
    {
     "data": {
      "text/plain": [
       "Uploading the dataset shards:   0%|          | 0/1 [00:00<?, ?it/s]"
      ],
      "application/vnd.jupyter.widget-view+json": {
       "version_major": 2,
       "version_minor": 0,
       "model_id": "3c4fd7d89d624011838beb2b803dd2ea"
      }
     },
     "metadata": {},
     "output_type": "display_data"
    },
    {
     "data": {
      "text/plain": [
       "Creating parquet from Arrow format:   0%|          | 0/1 [00:00<?, ?ba/s]"
      ],
      "application/vnd.jupyter.widget-view+json": {
       "version_major": 2,
       "version_minor": 0,
       "model_id": "0233cb38df6a4837b62e79886bf27fd1"
      }
     },
     "metadata": {},
     "output_type": "display_data"
    },
    {
     "data": {
      "text/plain": [
       "Uploading the dataset shards:   0%|          | 0/1 [00:00<?, ?it/s]"
      ],
      "application/vnd.jupyter.widget-view+json": {
       "version_major": 2,
       "version_minor": 0,
       "model_id": "ab11537ff64c463c9e4430f2eb51d985"
      }
     },
     "metadata": {},
     "output_type": "display_data"
    },
    {
     "data": {
      "text/plain": [
       "Creating parquet from Arrow format:   0%|          | 0/1 [00:00<?, ?ba/s]"
      ],
      "application/vnd.jupyter.widget-view+json": {
       "version_major": 2,
       "version_minor": 0,
       "model_id": "769233f57e034b39a5f2d5b71ee1dfce"
      }
     },
     "metadata": {},
     "output_type": "display_data"
    },
    {
     "data": {
      "text/plain": [
       "CommitInfo(commit_url='https://huggingface.co/datasets/2024-mcm-everitt-ryan/job-bias-synthetic-human-benchmark-v2/commit/0268693c65de404a4d9148c8bfe6271fd91392fc', commit_message='Upload dataset', commit_description='', oid='0268693c65de404a4d9148c8bfe6271fd91392fc', pr_url=None, pr_revision=None, pr_num=None)"
      ]
     },
     "execution_count": 3,
     "metadata": {},
     "output_type": "execute_result"
    }
   ],
   "execution_count": 3
  },
  {
   "metadata": {},
   "cell_type": "code",
   "execution_count": null,
   "source": "",
   "id": "c5f38b7ee5d1853a",
   "outputs": []
  }
 ],
 "metadata": {
  "kernelspec": {
   "display_name": "Python 3",
   "language": "python",
   "name": "python3"
  },
  "language_info": {
   "codemirror_mode": {
    "name": "ipython",
    "version": 2
   },
   "file_extension": ".py",
   "mimetype": "text/x-python",
   "name": "python",
   "nbconvert_exporter": "python",
   "pygments_lexer": "ipython2",
   "version": "2.7.6"
  }
 },
 "nbformat": 4,
 "nbformat_minor": 5
}

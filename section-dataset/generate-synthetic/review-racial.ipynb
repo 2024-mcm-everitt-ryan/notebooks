{
 "cells": [
  {
   "metadata": {
    "ExecuteTime": {
     "end_time": "2024-06-28T14:39:05.253086Z",
     "start_time": "2024-06-28T14:39:05.251226Z"
    }
   },
   "cell_type": "code",
   "source": "category = 'racial'",
   "id": "7b30fa276a6009ea",
   "execution_count": 43,
   "outputs": []
  },
  {
   "metadata": {
    "ExecuteTime": {
     "end_time": "2024-06-28T13:25:49.698600Z",
     "start_time": "2024-06-28T13:25:49.695013Z"
    }
   },
   "cell_type": "code",
   "source": [
    "# Fix any tags that aren't getting closed.\n",
    "def fix_closing_tag(row):\n",
    "    if f'<{category}>' in row['output'] and f'</{category}>' not in row['output']:\n",
    "        return row['output'] + f'</{category}>'\n",
    "    else:\n",
    "        return row['output']\n",
    "\n",
    "def extract_tag_text(row):\n",
    "    output = row['output']\n",
    "    start_tag = f\"<{category}>\"\n",
    "    end_tag = f\"</{category}>\"\n",
    "\n",
    "    start_index = output.find(start_tag)\n",
    "    end_index = output.find(end_tag)\n",
    "\n",
    "    if start_index != -1 and end_index != -1:  # tags were found\n",
    "        start_index += len(start_tag)  # adjust to index after the start tag\n",
    "        result = output[start_index:end_index].strip()\n",
    "        result = result.replace('*', '')  # extract content between tags\n",
    "        return result\n",
    "\n",
    "    return None  # tags were not found or improperly formatted"
   ],
   "id": "2dee0ea51c30baaa",
   "execution_count": 4,
   "outputs": []
  },
  {
   "metadata": {
    "ExecuteTime": {
     "end_time": "2024-06-28T13:25:51.604819Z",
     "start_time": "2024-06-28T13:25:51.117483Z"
    }
   },
   "cell_type": "code",
   "source": [
    "import os\n",
    "import pandas as pd\n",
    "\n",
    "output_dir = f'/home/teveritt/Datasets/2024-mcm-everitt-ryan/datasets/synthetic-job-postings/polarity-synthetic/{category}'\n",
    "jsonl_gpt4o_file = f'{output_dir}/polarity-synthetic-gpt4o.jsonl'\n",
    "jsonl_llama3b70_file = f'{output_dir}/polarity-synthetic-llama3b70.jsonl'\n",
    "parquet_file = f'{output_dir}/polarity-synthetic.parquet'\n",
    "\n",
    "df_gpt4o = pd.read_json(jsonl_gpt4o_file, lines=True)\n",
    "df_llama3b70 = pd.read_json(jsonl_llama3b70_file, lines=True)\n",
    "df = pd.concat([df_gpt4o, df_llama3b70])\n",
    "\n",
    "# These can introduce age bias\n",
    "df = df[~df.text.str.contains(\"10\\+? years\", case=False, na=False)]\n",
    "\n",
    "df = df[~((df['model'] == 'gpt-4o-2024-05-13') & (df[f'label_{category}'] == False))] # gpt4o unbiased outputs had a high rate of bias.\n",
    "\n",
    "df['id'] = df['document_id']\n",
    "\n",
    "df['text'] = df['text'].str.replace('***', '', regex=False)\n",
    "df['text'] = df['text'].str.replace('**', '', regex=False)\n",
    "df['text'] = df['text'].str.replace('*', '-', regex=False)\n",
    "\n",
    "df['output'] = df.apply(fix_closing_tag, axis=1)\n",
    "df[f'analysis_{category}'] = df.apply(extract_tag_text, axis=1)\n",
    "\n",
    "for column in df.columns:\n",
    "    if column.startswith('analysis_') and column != f'analysis_{category}':\n",
    "        df[column] = ''\n",
    "    if column.startswith('label_') and column != f'label_{category}':\n",
    "        df[column] = False\n",
    "\n",
    "df"
   ],
   "id": "26a902303fa23b76",
   "execution_count": 5,
   "outputs": []
  },
  {
   "metadata": {
    "ExecuteTime": {
     "end_time": "2024-06-27T21:37:03.562353Z",
     "start_time": "2024-06-27T21:37:03.558355Z"
    }
   },
   "cell_type": "code",
   "source": "df['position'].unique()",
   "id": "1b1a90237c7157c9",
   "execution_count": 5,
   "outputs": []
  },
  {
   "metadata": {
    "ExecuteTime": {
     "end_time": "2024-06-27T21:37:04.841827Z",
     "start_time": "2024-06-27T21:37:04.837341Z"
    }
   },
   "cell_type": "code",
   "source": "df['model'].unique()",
   "id": "a99d9603b97740cc",
   "execution_count": 6,
   "outputs": []
  },
  {
   "metadata": {
    "ExecuteTime": {
     "end_time": "2024-06-27T21:37:06.883157Z",
     "start_time": "2024-06-27T21:37:06.875814Z"
    }
   },
   "cell_type": "code",
   "source": [
    "sample = df[df[f'label_{category}'] == True].sample(1)\n",
    "\n",
    "print(sample['text'].values[0])\n",
    "print(f\"Biased: {sample[f'label_{category}'].values[0]}\")\n",
    "print(f\"ID: {sample['document_id'].values[0]}\")"
   ],
   "id": "30a599ca8a33e1da",
   "execution_count": 7,
   "outputs": []
  },
  {
   "metadata": {
    "ExecuteTime": {
     "end_time": "2024-06-28T13:01:31.614256Z",
     "start_time": "2024-06-28T13:01:31.546726Z"
    }
   },
   "cell_type": "code",
   "source": [
    "with open(f'output-{category}.txt', 'w') as f:\n",
    "    for index, record in df.iterrows():\n",
    "        id = record['id']\n",
    "        analysis = record[f'analysis_{category}']\n",
    "        bias = record[f'label_{category}']\n",
    "        text = record['text']\n",
    "        f.write(f\"\\n====================================\\nBias: {bias} || {id}\\n{analysis}\\n------------------------------\\n\\n{text}\\n\\n\")\n"
   ],
   "id": "ebbabd0b628c521f",
   "execution_count": 6,
   "outputs": []
  },
  {
   "metadata": {
    "ExecuteTime": {
     "end_time": "2024-06-27T18:46:43.460834Z",
     "start_time": "2024-06-27T18:46:43.448422Z"
    }
   },
   "cell_type": "code",
   "source": [
    "df_gold = pd.concat([\n",
    "   df[((df['model'] == 'meta-llama:Meta-Llama-3-70B-Instruct') & (df[f'label_{category}'] == True))].sample(78),\n",
    "   df[((df['model'] == 'meta-llama:Meta-Llama-3-70B-Instruct') & (df[f'label_{category}'] == False))].sample(200),\n",
    "   df[((df['model'] == 'gpt-4o-2024-05-13') & (df[f'label_{category}'] == True))].sample(78)\n",
    "])\n",
    "df_gold[df_gold[f'label_{category}'] == True].value_counts('model')"
   ],
   "id": "c831fe811d35646c",
   "execution_count": 121,
   "outputs": []
  },
  {
   "metadata": {
    "ExecuteTime": {
     "end_time": "2024-06-27T18:46:44.218203Z",
     "start_time": "2024-06-27T18:46:44.202393Z"
    }
   },
   "cell_type": "code",
   "source": "df_gold[df_gold[f'label_{category}'] == False].value_counts('model')",
   "id": "b1f7343021f5da53",
   "execution_count": 122,
   "outputs": []
  },
  {
   "metadata": {
    "ExecuteTime": {
     "end_time": "2024-06-27T19:06:38.916549Z",
     "start_time": "2024-06-27T19:06:38.906349Z"
    }
   },
   "cell_type": "code",
   "source": [
    "#with open(f'gold_ids_{category}.txt', 'w') as f:\n",
    "#    for index, record in df_gold.iterrows():\n",
    "#        id = record['id']\n",
    "#        f.write(f\"{id}\\n\")"
   ],
   "id": "89de39e6683f5199",
   "execution_count": 129,
   "outputs": []
  },
  {
   "metadata": {
    "ExecuteTime": {
     "end_time": "2024-06-27T19:06:40.012467Z",
     "start_time": "2024-06-27T19:06:39.991634Z"
    }
   },
   "cell_type": "code",
   "source": [
    "#with open(f'review-{category}.txt', 'w') as f:\n",
    "#    for index, record in df_gold[df_gold[f'label_{category}']==True].iterrows():\n",
    "#        id = record['id']\n",
    "#        analysis = record[f'analysis_{category}']\n",
    "#        bias = record[f'label_{category}']\n",
    "#        text = record['text']\n",
    "#        f.write(f\"\\n====================================\\nBias: {bias} || {id}\\n{analysis}\\n------------------------------\\n\\n{text}\\n\\n\")\n",
    "#    for index, record in df_gold[df_gold[f'label_{category}']==False].iterrows():\n",
    "#        id = record['id']\n",
    "#        analysis = record[f'analysis_{category}']\n",
    "#        bias = record[f'label_{category}']\n",
    "#        text = record['text']\n",
    "#        f.write(f\"\\n====================================\\nBias: {bias} || {id}\\n{analysis}\\n------------------------------\\n\\n{text}\\n\\n\")"
   ],
   "id": "6412019b65bc3912",
   "execution_count": 130,
   "outputs": []
  },
  {
   "metadata": {
    "ExecuteTime": {
     "end_time": "2024-06-28T14:39:09.742036Z",
     "start_time": "2024-06-28T14:39:09.730179Z"
    }
   },
   "cell_type": "code",
   "source": [
    "ids = []\n",
    "\n",
    "with open(f\"gold_ids_{category}.txt\", \"r\") as file:\n",
    "    ids = file.read().splitlines()\n",
    "\n",
    "df_gold = df[df['id'].isin(ids)]\n",
    "df_gold"
   ],
   "id": "ba06bb92494f60b9",
   "execution_count": 44,
   "outputs": []
  },
  {
   "metadata": {
    "ExecuteTime": {
     "end_time": "2024-06-28T14:37:25.771579Z",
     "start_time": "2024-06-28T14:37:25.767845Z"
    }
   },
   "cell_type": "code",
   "source": "df_gold.value_counts(f'label_{category}')",
   "id": "36dec6ca92591c09",
   "execution_count": 37,
   "outputs": []
  },
  {
   "metadata": {
    "ExecuteTime": {
     "end_time": "2024-06-28T14:37:25.920825Z",
     "start_time": "2024-06-28T14:37:25.918864Z"
    }
   },
   "cell_type": "code",
   "source": [
    "#df_gold.to_parquet(f'review-{category}.parquet', compression='gzip')\n",
    "#df_gold.to_json(f'review-{category}.jsonl', orient='records', lines=True)"
   ],
   "id": "7302763214cd02de",
   "execution_count": 38,
   "outputs": []
  },
  {
   "metadata": {
    "ExecuteTime": {
     "end_time": "2024-06-28T14:37:26.820380Z",
     "start_time": "2024-06-28T14:37:26.817282Z"
    }
   },
   "cell_type": "code",
   "source": "df_gold.columns",
   "id": "89c842674861fcf3",
   "execution_count": 39,
   "outputs": []
  },
  {
   "metadata": {
    "ExecuteTime": {
     "end_time": "2024-06-28T14:39:42.592052Z",
     "start_time": "2024-06-28T14:39:42.551842Z"
    }
   },
   "cell_type": "code",
   "source": [
    "import json\n",
    "\n",
    "label_columns = [col for col in df_gold.columns if col.startswith('label_')]\n",
    "analysis_columns = [col for col in df_gold.columns if col.startswith('analysis_')]\n",
    "\n",
    "#df['notes'] = df['notes'].fillna('')\n",
    "\n",
    "df_gold['verified'] = True\n",
    "df_gold['synthetic'] = True\n",
    "\n",
    "columns = ['id']\n",
    "for c in ['age','disability','masculine','feminine','racial','sexuality','general']:\n",
    "    columns.append(f'label_{c}')\n",
    "    columns.append(f'analysis_{c}')\n",
    "    \n",
    "columns += ['verified', 'synthetic', 'text', 'metadata']\n",
    "\n",
    "metadata_columns = ['position', 'inference_time','prompt_tokens', 'completion_tokens', 'total_tokens', 'model', 'input', 'output']\n",
    "df_gold['metadata'] = df_gold.apply(lambda row: json.dumps(row[metadata_columns].to_dict()), axis=1)\n",
    "\n",
    "df_gold = df_gold[columns]\n",
    "df_gold"
   ],
   "id": "5ff3bcc7b7d2a78a",
   "execution_count": 46,
   "outputs": []
  },
  {
   "metadata": {
    "ExecuteTime": {
     "end_time": "2024-06-28T14:39:44.160838Z",
     "start_time": "2024-06-28T14:39:44.158423Z"
    }
   },
   "cell_type": "code",
   "source": "df_gold.columns",
   "id": "c48825fb5c049170",
   "execution_count": 47,
   "outputs": []
  },
  {
   "metadata": {
    "ExecuteTime": {
     "end_time": "2024-06-28T14:39:45.341961Z",
     "start_time": "2024-06-28T14:39:45.338342Z"
    }
   },
   "cell_type": "code",
   "source": "df_gold.head(1)['metadata'].values[0]",
   "id": "8656cc14e11f800",
   "execution_count": 48,
   "outputs": []
  },
  {
   "metadata": {
    "ExecuteTime": {
     "end_time": "2024-06-28T14:40:32.882307Z",
     "start_time": "2024-06-28T14:40:32.810842Z"
    }
   },
   "cell_type": "code",
   "source": [
    "from sklearn.model_selection import train_test_split\n",
    "\n",
    "def split(dataframe):\n",
    "    df_train, df_80 = train_test_split(dataframe, test_size=0.8, random_state=2024)\n",
    "    df_val, df_test = train_test_split(df_80, test_size=0.5, random_state=2024)\n",
    "    return df_train, df_val, df_test\n",
    "\n",
    "df_gold_bias = df_gold[df_gold[f'label_{category}'] == True]\n",
    "df_gold_unbias = df_gold[df_gold[f'label_{category}'] == False]\n",
    "\n",
    "df_bias_train, df_bias_val, df_bias_test = split(df_gold_bias)\n",
    "df_unbias_train, df_unbias_val, df_unbias_test = split(df_gold_unbias)\n",
    "\n",
    "df_train = pd.concat([df_bias_train,df_unbias_train])\n",
    "df_val = pd.concat([df_bias_val,df_unbias_val])\n",
    "df_test = pd.concat([df_bias_test,df_unbias_test])\n",
    "\n",
    "df_train.to_parquet(f'synthetic-{category}-train.parquet', compression='gzip')\n",
    "df_val.to_parquet(f'synthetic-{category}-val.parquet', compression='gzip')\n",
    "df_test.to_parquet(f'synthetic-{category}-test.parquet', compression='gzip')"
   ],
   "id": "5e700aec9d63cd1a",
   "execution_count": 50,
   "outputs": []
  },
  {
   "metadata": {
    "ExecuteTime": {
     "end_time": "2024-06-27T19:06:41.177226Z",
     "start_time": "2024-06-27T19:06:41.173677Z"
    }
   },
   "cell_type": "code",
   "source": [
    "# Longest phrase\n",
    "longest_text = df_gold['text'].apply(lambda x: (len(x), x)).max()[1]\n",
    "print(longest_text)"
   ],
   "id": "b94db31a27d932d4",
   "execution_count": 131,
   "outputs": []
  },
  {
   "metadata": {
    "ExecuteTime": {
     "end_time": "2024-06-27T19:06:42.689539Z",
     "start_time": "2024-06-27T19:06:42.685357Z"
    }
   },
   "cell_type": "code",
   "source": [
    "\n",
    "from transformers import AutoTokenizer\n",
    "\n",
    "\n",
    "def print_max_tokens(model_id):\n",
    "    tokenizer = AutoTokenizer.from_pretrained(model_id, add_prefix_space=True)\n",
    "    max_tokens = len(tokenizer.encode(longest_text))\n",
    "    print(f\"Max '{model_id}' tokens: {max_tokens}\")\n",
    "\n",
    "\n",
    "def print_encode_decoded(model_id, longest_text):\n",
    "    tokenizer = AutoTokenizer.from_pretrained(model_id, add_prefix_space=True)\n",
    "    encoded_tokens = tokenizer.encode(longest_text)\n",
    "    print(f\"Tokens: {encoded_tokens}\")\n",
    "    print(f\"Decoded tokens: {tokenizer.decode(encoded_tokens)}\")\n",
    "\n",
    "\n",
    "def print_tokens(model_id, longest_text):\n",
    "    tokenizer = AutoTokenizer.from_pretrained(model_id, add_prefix_space=True)\n",
    "    tokens = tokenizer.tokenize(longest_text)\n",
    "    print(f\"Tokens: {tokens}\")\n"
   ],
   "id": "a832d085734ac7e5",
   "execution_count": 132,
   "outputs": []
  },
  {
   "metadata": {
    "ExecuteTime": {
     "end_time": "2024-06-27T19:06:45.736444Z",
     "start_time": "2024-06-27T19:06:44.824369Z"
    }
   },
   "cell_type": "code",
   "source": [
    "max_char = len(longest_text)\n",
    "max_words = len(longest_text.split())\n",
    "\n",
    "print(f'Max characters: {max_char}')\n",
    "print(f'Max words: {max_words}')\n",
    "for model in ['roberta-base', 'bert-base-uncased', 'microsoft/deberta-v3-small']:\n",
    "    print_max_tokens(model)\n"
   ],
   "id": "a54d9b5d5a70b109",
   "execution_count": 133,
   "outputs": []
  },
  {
   "metadata": {},
   "cell_type": "code",
   "execution_count": null,
   "source": "",
   "id": "2044d0456e9d9022",
   "outputs": []
  }
 ],
 "metadata": {
  "kernelspec": {
   "display_name": "Python 3 (DCU AI)",
   "language": "python",
   "name": "venv"
  },
  "language_info": {
   "codemirror_mode": {
    "name": "ipython",
    "version": 2
   },
   "file_extension": ".py",
   "mimetype": "text/x-python",
   "name": "python",
   "nbconvert_exporter": "python",
   "pygments_lexer": "ipython2",
   "version": "2.7.6"
  }
 },
 "nbformat": 4,
 "nbformat_minor": 5
}

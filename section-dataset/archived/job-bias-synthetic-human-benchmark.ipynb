{
 "nbformat": 4,
 "nbformat_minor": 0,
 "metadata": {
  "colab": {
   "name": "Fine-tuning BERT (and friends) for multi-label text classification.ipynb",
   "provenance": [],
   "collapsed_sections": [],
   "authorship_tag": "ABX9TyMiblo1Ci0GTlAbbA5wB3mn",
   "include_colab_link": true
  },
  "kernelspec": {
   "name": "python3",
   "display_name": "Python 3 (ipykernel)",
   "language": "python"
  },
  "language_info": {
   "name": "python"
  },
  "accelerator": "GPU",
  "widgets": {
   "application/vnd.jupyter.widget-state+json": {
    "9a1aa9f2cc29473f9f8e5459d2641e76": {
     "model_module": "@jupyter-widgets/controls",
     "model_name": "HBoxModel",
     "model_module_version": "1.5.0",
     "state": {
      "_view_name": "HBoxView",
      "_dom_classes": [],
      "_model_name": "HBoxModel",
      "_view_module": "@jupyter-widgets/controls",
      "_model_module_version": "1.5.0",
      "_view_count": null,
      "_view_module_version": "1.5.0",
      "box_style": "",
      "layout": "IPY_MODEL_308fa6a7348140ec981a8d6c7d31f346",
      "_model_module": "@jupyter-widgets/controls",
      "children": [
       "IPY_MODEL_8bc92587e35443488445e7521fbd0a13",
       "IPY_MODEL_091f8220f33241f288faa0612853585f",
       "IPY_MODEL_1045bb16e3694410898a73cf1b848917"
      ]
     }
    },
    "308fa6a7348140ec981a8d6c7d31f346": {
     "model_module": "@jupyter-widgets/base",
     "model_name": "LayoutModel",
     "model_module_version": "1.2.0",
     "state": {
      "_view_name": "LayoutView",
      "grid_template_rows": null,
      "right": null,
      "justify_content": null,
      "_view_module": "@jupyter-widgets/base",
      "overflow": null,
      "_model_module_version": "1.2.0",
      "_view_count": null,
      "flex_flow": null,
      "width": null,
      "min_width": null,
      "border": null,
      "align_items": null,
      "bottom": null,
      "_model_module": "@jupyter-widgets/base",
      "top": null,
      "grid_column": null,
      "overflow_y": null,
      "overflow_x": null,
      "grid_auto_flow": null,
      "grid_area": null,
      "grid_template_columns": null,
      "flex": null,
      "_model_name": "LayoutModel",
      "justify_items": null,
      "grid_row": null,
      "max_height": null,
      "align_content": null,
      "visibility": null,
      "align_self": null,
      "height": null,
      "min_height": null,
      "padding": null,
      "grid_auto_rows": null,
      "grid_gap": null,
      "max_width": null,
      "order": null,
      "_view_module_version": "1.2.0",
      "grid_template_areas": null,
      "object_position": null,
      "object_fit": null,
      "grid_auto_columns": null,
      "margin": null,
      "display": null,
      "left": null
     }
    },
    "8bc92587e35443488445e7521fbd0a13": {
     "model_module": "@jupyter-widgets/controls",
     "model_name": "HTMLModel",
     "model_module_version": "1.5.0",
     "state": {
      "_view_name": "HTMLView",
      "style": "IPY_MODEL_cb95e545fbdd4e99903bf634df694c9f",
      "_dom_classes": [],
      "description": "",
      "_model_name": "HTMLModel",
      "placeholder": "​",
      "_view_module": "@jupyter-widgets/controls",
      "_model_module_version": "1.5.0",
      "value": "100%",
      "_view_count": null,
      "_view_module_version": "1.5.0",
      "description_tooltip": null,
      "_model_module": "@jupyter-widgets/controls",
      "layout": "IPY_MODEL_5080d322a8034924b652b379c04667ed"
     }
    },
    "091f8220f33241f288faa0612853585f": {
     "model_module": "@jupyter-widgets/controls",
     "model_name": "FloatProgressModel",
     "model_module_version": "1.5.0",
     "state": {
      "_view_name": "ProgressView",
      "style": "IPY_MODEL_8b1899a0c4b144d7a5e6599f8afb8b65",
      "_dom_classes": [],
      "description": "",
      "_model_name": "FloatProgressModel",
      "bar_style": "success",
      "max": 3,
      "_view_module": "@jupyter-widgets/controls",
      "_model_module_version": "1.5.0",
      "value": 3,
      "_view_count": null,
      "_view_module_version": "1.5.0",
      "orientation": "horizontal",
      "min": 0,
      "description_tooltip": null,
      "_model_module": "@jupyter-widgets/controls",
      "layout": "IPY_MODEL_6111a73e684a47769bda7183a836ee91"
     }
    },
    "1045bb16e3694410898a73cf1b848917": {
     "model_module": "@jupyter-widgets/controls",
     "model_name": "HTMLModel",
     "model_module_version": "1.5.0",
     "state": {
      "_view_name": "HTMLView",
      "style": "IPY_MODEL_cd3570ddf67541d7818d97e236c54e54",
      "_dom_classes": [],
      "description": "",
      "_model_name": "HTMLModel",
      "placeholder": "​",
      "_view_module": "@jupyter-widgets/controls",
      "_model_module_version": "1.5.0",
      "value": " 3/3 [00:00&lt;00:00, 75.93it/s]",
      "_view_count": null,
      "_view_module_version": "1.5.0",
      "description_tooltip": null,
      "_model_module": "@jupyter-widgets/controls",
      "layout": "IPY_MODEL_bbba60f793c14100934a268063f63d26"
     }
    },
    "cb95e545fbdd4e99903bf634df694c9f": {
     "model_module": "@jupyter-widgets/controls",
     "model_name": "DescriptionStyleModel",
     "model_module_version": "1.5.0",
     "state": {
      "_view_name": "StyleView",
      "_model_name": "DescriptionStyleModel",
      "description_width": "",
      "_view_module": "@jupyter-widgets/base",
      "_model_module_version": "1.5.0",
      "_view_count": null,
      "_view_module_version": "1.2.0",
      "_model_module": "@jupyter-widgets/controls"
     }
    },
    "5080d322a8034924b652b379c04667ed": {
     "model_module": "@jupyter-widgets/base",
     "model_name": "LayoutModel",
     "model_module_version": "1.2.0",
     "state": {
      "_view_name": "LayoutView",
      "grid_template_rows": null,
      "right": null,
      "justify_content": null,
      "_view_module": "@jupyter-widgets/base",
      "overflow": null,
      "_model_module_version": "1.2.0",
      "_view_count": null,
      "flex_flow": null,
      "width": null,
      "min_width": null,
      "border": null,
      "align_items": null,
      "bottom": null,
      "_model_module": "@jupyter-widgets/base",
      "top": null,
      "grid_column": null,
      "overflow_y": null,
      "overflow_x": null,
      "grid_auto_flow": null,
      "grid_area": null,
      "grid_template_columns": null,
      "flex": null,
      "_model_name": "LayoutModel",
      "justify_items": null,
      "grid_row": null,
      "max_height": null,
      "align_content": null,
      "visibility": null,
      "align_self": null,
      "height": null,
      "min_height": null,
      "padding": null,
      "grid_auto_rows": null,
      "grid_gap": null,
      "max_width": null,
      "order": null,
      "_view_module_version": "1.2.0",
      "grid_template_areas": null,
      "object_position": null,
      "object_fit": null,
      "grid_auto_columns": null,
      "margin": null,
      "display": null,
      "left": null
     }
    },
    "8b1899a0c4b144d7a5e6599f8afb8b65": {
     "model_module": "@jupyter-widgets/controls",
     "model_name": "ProgressStyleModel",
     "model_module_version": "1.5.0",
     "state": {
      "_view_name": "StyleView",
      "_model_name": "ProgressStyleModel",
      "description_width": "",
      "_view_module": "@jupyter-widgets/base",
      "_model_module_version": "1.5.0",
      "_view_count": null,
      "_view_module_version": "1.2.0",
      "bar_color": null,
      "_model_module": "@jupyter-widgets/controls"
     }
    },
    "6111a73e684a47769bda7183a836ee91": {
     "model_module": "@jupyter-widgets/base",
     "model_name": "LayoutModel",
     "model_module_version": "1.2.0",
     "state": {
      "_view_name": "LayoutView",
      "grid_template_rows": null,
      "right": null,
      "justify_content": null,
      "_view_module": "@jupyter-widgets/base",
      "overflow": null,
      "_model_module_version": "1.2.0",
      "_view_count": null,
      "flex_flow": null,
      "width": null,
      "min_width": null,
      "border": null,
      "align_items": null,
      "bottom": null,
      "_model_module": "@jupyter-widgets/base",
      "top": null,
      "grid_column": null,
      "overflow_y": null,
      "overflow_x": null,
      "grid_auto_flow": null,
      "grid_area": null,
      "grid_template_columns": null,
      "flex": null,
      "_model_name": "LayoutModel",
      "justify_items": null,
      "grid_row": null,
      "max_height": null,
      "align_content": null,
      "visibility": null,
      "align_self": null,
      "height": null,
      "min_height": null,
      "padding": null,
      "grid_auto_rows": null,
      "grid_gap": null,
      "max_width": null,
      "order": null,
      "_view_module_version": "1.2.0",
      "grid_template_areas": null,
      "object_position": null,
      "object_fit": null,
      "grid_auto_columns": null,
      "margin": null,
      "display": null,
      "left": null
     }
    },
    "cd3570ddf67541d7818d97e236c54e54": {
     "model_module": "@jupyter-widgets/controls",
     "model_name": "DescriptionStyleModel",
     "model_module_version": "1.5.0",
     "state": {
      "_view_name": "StyleView",
      "_model_name": "DescriptionStyleModel",
      "description_width": "",
      "_view_module": "@jupyter-widgets/base",
      "_model_module_version": "1.5.0",
      "_view_count": null,
      "_view_module_version": "1.2.0",
      "_model_module": "@jupyter-widgets/controls"
     }
    },
    "bbba60f793c14100934a268063f63d26": {
     "model_module": "@jupyter-widgets/base",
     "model_name": "LayoutModel",
     "model_module_version": "1.2.0",
     "state": {
      "_view_name": "LayoutView",
      "grid_template_rows": null,
      "right": null,
      "justify_content": null,
      "_view_module": "@jupyter-widgets/base",
      "overflow": null,
      "_model_module_version": "1.2.0",
      "_view_count": null,
      "flex_flow": null,
      "width": null,
      "min_width": null,
      "border": null,
      "align_items": null,
      "bottom": null,
      "_model_module": "@jupyter-widgets/base",
      "top": null,
      "grid_column": null,
      "overflow_y": null,
      "overflow_x": null,
      "grid_auto_flow": null,
      "grid_area": null,
      "grid_template_columns": null,
      "flex": null,
      "_model_name": "LayoutModel",
      "justify_items": null,
      "grid_row": null,
      "max_height": null,
      "align_content": null,
      "visibility": null,
      "align_self": null,
      "height": null,
      "min_height": null,
      "padding": null,
      "grid_auto_rows": null,
      "grid_gap": null,
      "max_width": null,
      "order": null,
      "_view_module_version": "1.2.0",
      "grid_template_areas": null,
      "object_position": null,
      "object_fit": null,
      "grid_auto_columns": null,
      "margin": null,
      "display": null,
      "left": null
     }
    }
   }
  }
 },
 "cells": [
  {
   "metadata": {},
   "cell_type": "markdown",
   "source": "# Load Parquet"
  },
  {
   "metadata": {
    "ExecuteTime": {
     "end_time": "2024-06-25T00:07:16.708785Z",
     "start_time": "2024-06-25T00:07:16.267392Z"
    }
   },
   "cell_type": "code",
   "source": [
    "import pandas as pd\n",
    "\n",
    "pd.set_option('display.float_format', '{:,.4f}'.format)\n",
    "\n",
    "dir = '.'\n",
    "dir = '/home/teveritt/Datasets/2024-mcm-everitt-ryan/datasets/benchmark'\n",
    "\n",
    "df = pd.read_parquet(f'{dir}/job-bias-synthetic-human-benchmark.parquet.snappy')\n",
    "print(f\"Column Names: {df.columns.values}\")\n",
    "print(f\"Columns: {len(df.columns)}\")\n",
    "print(f\"Rows: {len(df)}\")"
   ],
   "execution_count": 1,
   "outputs": []
  },
  {
   "metadata": {
    "ExecuteTime": {
     "end_time": "2024-06-25T00:07:30.040287Z",
     "start_time": "2024-06-25T00:07:30.036822Z"
    }
   },
   "cell_type": "code",
   "source": [
    "label_columns = [col for col in df.columns if col.startswith('label_')]\n",
    "analysis_columns = [col for col in df.columns if col.startswith('analysis_')]\n",
    "categories = [col.replace('label_', '') for col in label_columns]\n",
    "text_column = 'text'\n",
    "\n",
    "print(f\"Categories: {categories}\")\n",
    "print(f\"Labels: {label_columns}\")\n",
    "print(f\"Analysis: {analysis_columns}\")\n",
    "print(f\"Input: {text_column}\")"
   ],
   "execution_count": 2,
   "outputs": []
  },
  {
   "metadata": {
    "ExecuteTime": {
     "end_time": "2024-06-25T00:07:33.183504Z",
     "start_time": "2024-06-25T00:07:33.174477Z"
    }
   },
   "cell_type": "code",
   "source": [
    "# Preview dataframe\n",
    "df.head(3)"
   ],
   "execution_count": 3,
   "outputs": []
  },
  {
   "cell_type": "code",
   "metadata": {
    "colab": {
     "base_uri": "https://localhost:8080/"
    },
    "id": "unjuTtKUjZI3",
    "outputId": "6f1e5051-8272-40f9-ced8-ba17a105e904",
    "ExecuteTime": {
     "end_time": "2024-06-25T00:07:34.769912Z",
     "start_time": "2024-06-25T00:07:34.767320Z"
    }
   },
   "source": [
    "# Preview job description text\n",
    "\n",
    "df.loc[0, 'text']"
   ],
   "execution_count": 4,
   "outputs": []
  },
  {
   "metadata": {},
   "cell_type": "markdown",
   "source": "# Synthetic vs Real vs Verified"
  },
  {
   "metadata": {
    "ExecuteTime": {
     "end_time": "2024-06-25T00:07:37.737953Z",
     "start_time": "2024-06-25T00:07:37.587372Z"
    }
   },
   "cell_type": "code",
   "source": [
    "import matplotlib.pyplot as plt\n",
    "\n",
    "counts = df.groupby(['verified', 'synthetic']).size().unstack(fill_value=0)\n",
    "\n",
    "counts.plot(kind='bar', stacked=True, figsize=(10, 7))\n",
    "\n",
    "plt.title('Stacked Bar Chart of Verified and Synthetic')\n",
    "plt.xlabel('Verified')\n",
    "plt.ylabel('Count')\n",
    "plt.show()"
   ],
   "execution_count": 5,
   "outputs": []
  },
  {
   "metadata": {
    "ExecuteTime": {
     "end_time": "2024-06-25T00:07:45.452803Z",
     "start_time": "2024-06-25T00:07:45.359414Z"
    }
   },
   "cell_type": "code",
   "source": [
    "import pandas as pd\n",
    "import seaborn as sns\n",
    "import matplotlib.pyplot as plt\n",
    "import numpy as np\n",
    "\n",
    "cross_tab = pd.crosstab(df['verified'], df['synthetic'])\n",
    "\n",
    "\n",
    "def custom_format(x):\n",
    "    return '{:,}'.format(x)\n",
    "\n",
    "\n",
    "cross_tab_fmt = cross_tab.map(lambda x: \"{:,}\".format(x))\n",
    "\n",
    "fig, ax = plt.subplots(figsize=(10, 8))\n",
    "sns.heatmap(cross_tab, annot=cross_tab_fmt, fmt='', cmap=\"YlGnBu\", ax=ax,\n",
    "            annot_kws={\"size\": 18})\n",
    "\n",
    "ax.invert_yaxis()\n",
    "#ax.invert_xaxis()    \n",
    "ax.tick_params(axis='both', which='major', labelsize=18)\n",
    "ax.set_xlabel('Synthetic', fontsize=22)\n",
    "ax.set_ylabel('Verified', fontsize=22)\n",
    "\n",
    "plt.show()\n",
    "\n",
    "\n",
    "plt.show()"
   ],
   "execution_count": 6,
   "outputs": []
  },
  {
   "metadata": {
    "ExecuteTime": {
     "end_time": "2024-06-25T00:07:58.232886Z",
     "start_time": "2024-06-25T00:07:57.052733Z"
    }
   },
   "cell_type": "code",
   "source": [
    "import pandas as pd\n",
    "import seaborn as sns\n",
    "import matplotlib.pyplot as plt\n",
    "\n",
    "columns = 2\n",
    "\n",
    "fig, axs = plt.subplots(nrows=4, ncols=columns, figsize=(20, 40))\n",
    "\n",
    "i = 0\n",
    "for category in categories:\n",
    "    cross_tab = pd.crosstab(index=[df['verified'], df['synthetic']],\n",
    "                            columns=df[f'label_{category}'])\n",
    "\n",
    "    row_index = (i - 1) // columns\n",
    "    col_index = (i - 1) % columns\n",
    "\n",
    "    ax = axs[row_index, col_index]\n",
    "    \n",
    "    sns.heatmap(cross_tab, annot=True, fmt='d', cmap='YlGnBu', ax=ax, annot_kws={\"size\": 18})\n",
    "    ax.invert_yaxis()\n",
    "    ax.invert_xaxis()\n",
    "    ax.tick_params(axis='both', which='major', labelsize=18)\n",
    "    ax.tick_params(axis='both', which='minor', labelsize=18)\n",
    "    ax.set_xlabel(category, fontsize=22)\n",
    "    ax.set_ylabel('Verified - Synthetic', fontsize=22)\n",
    "\n",
    "    i = i + 1\n",
    "    \n",
    "# Remove the unused subplots\n",
    "fig.delaxes(axs[3, 0])\n",
    "\n",
    "#plt.tight_layout() \n",
    "plt.show()\n"
   ],
   "execution_count": 7,
   "outputs": []
  },
  {
   "metadata": {},
   "cell_type": "markdown",
   "source": "# Bias Samples"
  },
  {
   "metadata": {
    "ExecuteTime": {
     "end_time": "2024-06-25T00:08:37.018634Z",
     "start_time": "2024-06-25T00:08:36.770629Z"
    }
   },
   "cell_type": "code",
   "source": [
    "import matplotlib.pyplot as plt\n",
    "import matplotlib.ticker as mtick\n",
    "\n",
    "plt.figure(figsize=(12, 8))\n",
    "\n",
    "ax = df[label_columns].sum(axis=1).plot.hist(log=True, bins=len(categories)  )\n",
    "ax.get_yaxis().set_major_formatter(mtick.ScalarFormatter())\n",
    "ax.get_yaxis().get_major_formatter().set_useOffset(False)\n",
    "ax.xaxis.set_major_locator(mtick.MaxNLocator(integer=True))\n",
    "ax.tick_params(axis='both', which='major', labelsize=18)\n",
    "ax.tick_params(axis='both', which='minor', labelsize=18)\n",
    "\n",
    "ax.set_xlabel('', fontsize=22)\n",
    "ax.set_ylabel('', fontsize=22)\n",
    "ax.set_title('Number of Labels per Sample', fontsize=22)\n",
    "\n",
    "plt.show()"
   ],
   "execution_count": 8,
   "outputs": []
  },
  {
   "metadata": {
    "ExecuteTime": {
     "end_time": "2024-06-25T00:08:53.599445Z",
     "start_time": "2024-06-25T00:08:53.522154Z"
    }
   },
   "cell_type": "code",
   "source": [
    "import matplotlib.pyplot as plt\n",
    "\n",
    "counts = df[label_columns].sum()\n",
    "\n",
    "# Remove the 'label_' prefix from the index\n",
    "counts.index = counts.index.str.replace('label_', '')\n",
    "counts = counts.sort_values(ascending=False)\n",
    "\n",
    "fig, ax = plt.subplots(figsize=(10, 8))  # Set the size of the figure\n",
    "counts.plot(kind='barh', ax=ax)\n",
    "\n",
    "ax.tick_params(axis='both', which='major', labelsize=18)\n",
    "ax.tick_params(axis='both', which='minor', labelsize=18)\n",
    "ax.set_xlabel('', fontsize=22)\n",
    "ax.set_ylabel('', fontsize=22)\n",
    "ax.set_title('Bias Samples', size=22)\n",
    "ax.set_xlim([0, None])\n",
    "\n",
    "plt.gca().invert_yaxis()  # invert the y-axis to show the highest count at the top\n",
    "plt.show()"
   ],
   "execution_count": 9,
   "outputs": []
  },
  {
   "metadata": {
    "ExecuteTime": {
     "end_time": "2024-06-25T00:09:13.472393Z",
     "start_time": "2024-06-25T00:09:13.195437Z"
    }
   },
   "cell_type": "code",
   "source": [
    "import matplotlib.pyplot as plt\n",
    "import pandas as pd\n",
    "\n",
    "df_real_verified = df[~df['synthetic'] & df['verified']]\n",
    "df_real_unverified = df[~df['synthetic'] & ~df['verified']]\n",
    "\n",
    "df_synthetic_verified = df[df['synthetic'] & df['verified']]\n",
    "df_synthetic_unverified = df[df['synthetic'] & ~df['verified']]\n",
    "\n",
    "dfs = [df_real_verified, df_real_unverified, df_synthetic_verified, df_synthetic_unverified]\n",
    "titles = ['Real & Verified', 'Real & Machine Labelled', 'Synthetic & Verified', 'Synthetic & Not Verified']\n",
    "\n",
    "fig, axs = plt.subplots(2, 2, figsize=(20, 16))\n",
    "axs = axs.ravel()  # Flatten array of axes\n",
    "\n",
    "\n",
    "for i, df_sub in enumerate(dfs):\n",
    "    counts = df_sub[label_columns].sum()\n",
    "    counts.index = counts.index.str.replace('label_', '')\n",
    "    counts = counts.sort_values(ascending=False)\n",
    "\n",
    "    counts.plot(kind='barh', ax=axs[i])\n",
    "\n",
    "    axs[i].tick_params(axis='both', which='major', labelsize=18)\n",
    "    axs[i].tick_params(axis='both', which='minor', labelsize=18)\n",
    "    axs[i].set_xlabel('', fontsize=22)\n",
    "    axs[i].set_ylabel('', fontsize=22)\n",
    "\n",
    "    axs[i].set_title(titles[i], size=22)\n",
    "    axs[i].invert_yaxis()  # invert the y-axis\n",
    "    #axs[i].set_xlim([0, 1000])\n",
    "\n",
    "#plt.tight_layout()\n",
    "plt.show()\n"
   ],
   "execution_count": 10,
   "outputs": []
  },
  {
   "metadata": {
    "ExecuteTime": {
     "end_time": "2024-06-25T11:20:02.952571Z",
     "start_time": "2024-06-25T11:20:02.948851Z"
    }
   },
   "cell_type": "code",
   "source": [
    "for column in label_columns:\n",
    "    true_count = df_real_verified[column].sum()  # it works if True is 1 and False is 0\n",
    "    print(f\"{column}: {true_count}\")\n"
   ],
   "execution_count": 30,
   "outputs": []
  },
  {
   "metadata": {
    "ExecuteTime": {
     "end_time": "2024-06-25T11:24:20.994899Z",
     "start_time": "2024-06-25T11:24:20.990979Z"
    }
   },
   "cell_type": "code",
   "source": [
    "labels_df = df_real_verified[label_columns]\n",
    "neutral = (~labels_df).all(axis=1).sum()\n",
    "print(f'Neutral: {neutral}')"
   ],
   "execution_count": 33,
   "outputs": []
  },
  {
   "metadata": {},
   "cell_type": "markdown",
   "source": "# Label Diversity"
  },
  {
   "metadata": {},
   "cell_type": "markdown",
   "source": [
    "High entropy indicates that the label distribution is fairly uniform, and no single label dominates.\n",
    "This suggests a balanced dataset.\n",
    "\n",
    "The maximum entropy occurs when all labels are equally probable.\n",
    "The maximum entropy can be calculated using the formula: log_2(n)"
   ]
  },
  {
   "metadata": {
    "ExecuteTime": {
     "end_time": "2024-06-25T00:09:53.071827Z",
     "start_time": "2024-06-25T00:09:53.063913Z"
    }
   },
   "cell_type": "code",
   "source": [
    "df_real_verified = df[~df['synthetic'] & df['verified']]\n",
    "df_real_unverified = df[~df['synthetic'] & ~df['verified']]\n",
    "\n",
    "df_synthetic_verified = df[df['synthetic'] & df['verified']]\n",
    "df_synthetic_unverified = df[df['synthetic'] & ~df['verified']]\n",
    "\n",
    "diversity_df = [df, df_real_verified, df_real_unverified, df_synthetic_verified, df_synthetic_unverified]\n",
    "diversity_captions = ['Full Dataset','Real & Verified', 'Real & Machine Labelled', 'Synthetic & Verified', 'Synthetic & Not Verified']"
   ],
   "execution_count": 11,
   "outputs": []
  },
  {
   "metadata": {
    "ExecuteTime": {
     "end_time": "2024-06-25T00:09:54.543307Z",
     "start_time": "2024-06-25T00:09:54.538736Z"
    }
   },
   "cell_type": "code",
   "source": "df[label_columns].sum()",
   "execution_count": 12,
   "outputs": []
  },
  {
   "metadata": {
    "ExecuteTime": {
     "end_time": "2024-06-25T00:09:57.234186Z",
     "start_time": "2024-06-25T00:09:57.231681Z"
    }
   },
   "cell_type": "code",
   "source": [
    "import numpy as np\n",
    "\n",
    "# Calculate entropy for labels in dataset.\n",
    "# Source: https://colab.research.google.com/drive/1pddMaJJIHR0O8MND42hfzYRxOPMV82KA?usp=sharing#scrollTo=RkVuiK_loty4\n",
    "\n",
    "def categorical_entropy(df: pd.DataFrame, labels: list):\n",
    "    # Calculate frequency for each label \n",
    "    label_frequency = df[labels].sum()\n",
    "\n",
    "    # Calculate probabilities for each label\n",
    "    label_probabilities = label_frequency / label_frequency.sum()\n",
    "\n",
    "    # Calculate entropy\n",
    "    entropy = -np.sum(label_probabilities * np.log2(label_probabilities))\n",
    "\n",
    "    return entropy"
   ],
   "execution_count": 13,
   "outputs": []
  },
  {
   "metadata": {
    "ExecuteTime": {
     "end_time": "2024-06-25T00:09:58.098938Z",
     "start_time": "2024-06-25T00:09:58.088022Z"
    }
   },
   "cell_type": "code",
   "source": [
    "import pandas as pd\n",
    "import math\n",
    "\n",
    "diversity_data = []\n",
    "\n",
    "max_entropy = math.log2(len(categories))\n",
    "max_entropy_data = {\"Dataset\": \"Maximum Entropy Possible\", \"Entropy\": max_entropy}\n",
    "diversity_data.append(max_entropy_data)\n",
    "\n",
    "for idx, sub_df in enumerate(diversity_df):\n",
    "    caption = diversity_captions[idx]\n",
    "    entropy = categorical_entropy(sub_df, label_columns)\n",
    "    diversity_data.append({\"Dataset\": caption, \"Entropy\": entropy})\n",
    "\n",
    "entropy_df = pd.DataFrame(diversity_data)\n",
    "sorted_entropy_df = entropy_df.sort_values(by='Entropy', ascending=False)\n",
    "sorted_entropy_df.reset_index(drop=True, inplace=True)\n",
    "\n",
    "sorted_entropy_df"
   ],
   "execution_count": 14,
   "outputs": []
  },
  {
   "metadata": {},
   "cell_type": "markdown",
   "source": "# Label Correlations"
  },
  {
   "metadata": {
    "ExecuteTime": {
     "end_time": "2024-06-25T00:10:27.021975Z",
     "start_time": "2024-06-25T00:10:26.837060Z"
    }
   },
   "cell_type": "code",
   "source": [
    "plt.figure(figsize=(20, 15))\n",
    "plt.xticks(fontsize=18)\n",
    "plt.yticks(fontsize=18)\n",
    "\n",
    "corr = df[label_columns].corr(method='pearson')\n",
    "\n",
    "# Remove the 'label_' prefix from the index\n",
    "corr.index = corr.index.str.replace('label_', '')\n",
    "corr.columns = corr.columns.str.replace('label_', '')\n",
    "\n",
    "heatmap = sns.heatmap(corr, vmin=-1, vmax=1, annot=True, cmap='BrBG', annot_kws={\"fontsize\": 18})\n",
    "heatmap.set_title('Correlation of Labels', fontdict={'fontsize': 22}, pad=16);"
   ],
   "execution_count": 15,
   "outputs": []
  },
  {
   "metadata": {
    "ExecuteTime": {
     "end_time": "2024-06-25T00:11:58.439553Z",
     "start_time": "2024-06-25T00:11:58.294329Z"
    }
   },
   "cell_type": "code",
   "source": [
    "# Source: https://medium.com/@szabo.bibor/how-to-create-a-seaborn-correlation-heatmap-in-python-834c0686b88e\n",
    "\n",
    "plt.figure(figsize=(20, 15))\n",
    "plt.xticks(fontsize=18)\n",
    "plt.yticks(fontsize=18)\n",
    "\n",
    "corr = df[label_columns].corr(method ='pearson')\n",
    "\n",
    "# Remove the 'label_' prefix from the index\n",
    "corr.index = corr.index.str.replace('label_', '')\n",
    "corr.columns = corr.columns.str.replace('label_', '')\n",
    "\n",
    "\n",
    "mask = np.triu(np.ones_like(corr, dtype=np.bool_))\n",
    "heatmap = sns.heatmap(corr, mask=mask, vmin=-1, vmax=1, annot=True, cmap='BrBG',annot_kws={\"fontsize\": 18})\n",
    "heatmap.set_title('Triangle Correlation of Labels', fontdict={'fontsize':22}, pad=16);"
   ],
   "execution_count": 16,
   "outputs": []
  },
  {
   "metadata": {},
   "cell_type": "markdown",
   "source": "# Countries"
  },
  {
   "metadata": {},
   "cell_type": "markdown",
   "source": "Country data is only available for real job postings, synthetic ones don't have one"
  },
  {
   "metadata": {
    "ExecuteTime": {
     "end_time": "2024-06-25T00:12:13.710741Z",
     "start_time": "2024-06-25T00:12:13.707363Z"
    }
   },
   "cell_type": "code",
   "source": "print(f\"Countries: {len(df['country'].unique())}\")",
   "execution_count": 17,
   "outputs": []
  },
  {
   "metadata": {
    "ExecuteTime": {
     "end_time": "2024-06-25T00:12:15.208839Z",
     "start_time": "2024-06-25T00:12:15.204597Z"
    }
   },
   "cell_type": "code",
   "source": "df['country'].value_counts()",
   "execution_count": 18,
   "outputs": []
  },
  {
   "metadata": {
    "ExecuteTime": {
     "end_time": "2024-06-25T00:12:23.613540Z",
     "start_time": "2024-06-25T00:12:23.495904Z"
    }
   },
   "cell_type": "code",
   "source": [
    "import matplotlib.pyplot as plt\n",
    "\n",
    "n = 20\n",
    "\n",
    "counts = df['country'].value_counts().sort_values(ascending=True).tail(n)\n",
    "\n",
    "fig, ax = plt.subplots(figsize=(15, 12))\n",
    "counts.plot(kind='barh', ax=ax)\n",
    "\n",
    "ax.tick_params(axis='both', which='major', labelsize=18)\n",
    "ax.tick_params(axis='both', which='minor', labelsize=18)\n",
    "ax.set_xlabel('', fontsize=22)\n",
    "ax.set_ylabel('', fontsize=22)\n",
    "ax.set_title(f'Top {n} Country Sample Counts (all)', size=22)\n",
    "ax.invert_yaxis()\n",
    "ax.set_xlim([0, None])\n",
    "plt.gca().invert_yaxis()\n",
    "\n",
    "plt.show()"
   ],
   "execution_count": 19,
   "outputs": []
  },
  {
   "metadata": {
    "ExecuteTime": {
     "end_time": "2024-06-25T00:12:30.231336Z",
     "start_time": "2024-06-25T00:12:30.120710Z"
    }
   },
   "cell_type": "code",
   "source": [
    "import matplotlib.pyplot as plt\n",
    "\n",
    "n = 20\n",
    "\n",
    "counts = df[df['verified'] == True]['country'].value_counts().sort_values(ascending=True).tail(n)\n",
    "\n",
    "fig, ax = plt.subplots(figsize=(15, 12))\n",
    "counts.plot(kind='barh', ax=ax)\n",
    "\n",
    "ax.tick_params(axis='both', which='major', labelsize=18)\n",
    "ax.tick_params(axis='both', which='minor', labelsize=18)\n",
    "ax.set_xlabel('', fontsize=22)\n",
    "ax.set_ylabel('', fontsize=22)\n",
    "ax.set_title(f'Top {n} Country Sample Counts (verified)', size=22)\n",
    "ax.invert_yaxis()\n",
    "ax.set_xlim([0, None])\n",
    "plt.gca().invert_yaxis()\n",
    "\n",
    "plt.show()"
   ],
   "execution_count": 20,
   "outputs": []
  },
  {
   "metadata": {},
   "cell_type": "markdown",
   "source": "# Website Sources"
  },
  {
   "metadata": {},
   "cell_type": "markdown",
   "source": "Only real job postings have website sources"
  },
  {
   "metadata": {
    "ExecuteTime": {
     "end_time": "2024-06-25T00:13:00.752161Z",
     "start_time": "2024-06-25T00:13:00.749601Z"
    }
   },
   "cell_type": "code",
   "source": "print(f\"Website Sources: {len(df['source'].unique())}\")",
   "execution_count": 21,
   "outputs": []
  },
  {
   "metadata": {
    "ExecuteTime": {
     "end_time": "2024-06-25T00:13:01.582617Z",
     "start_time": "2024-06-25T00:13:01.578503Z"
    }
   },
   "cell_type": "code",
   "source": "df['source'].value_counts()",
   "execution_count": 22,
   "outputs": []
  },
  {
   "metadata": {
    "ExecuteTime": {
     "end_time": "2024-06-25T00:13:07.688344Z",
     "start_time": "2024-06-25T00:13:07.569420Z"
    }
   },
   "cell_type": "code",
   "source": [
    "import matplotlib.pyplot as plt\n",
    "\n",
    "n = 20\n",
    "\n",
    "counts = df['source'].value_counts().sort_values(ascending=True).tail(n)\n",
    "\n",
    "fig, ax = plt.subplots(figsize=(15, 12))\n",
    "counts.plot(kind='barh', ax=ax)\n",
    "\n",
    "ax.tick_params(axis='both', which='major', labelsize=18)\n",
    "ax.tick_params(axis='both', which='minor', labelsize=18)\n",
    "ax.set_xlabel('', fontsize=22)\n",
    "ax.set_ylabel('', fontsize=22)\n",
    "ax.set_title(f'Top {n} Website Sample Counts (all)', size=22)\n",
    "ax.invert_yaxis()\n",
    "ax.set_xlim([0, None])\n",
    "plt.gca().invert_yaxis()\n",
    "\n",
    "plt.show()"
   ],
   "execution_count": 23,
   "outputs": []
  },
  {
   "metadata": {
    "ExecuteTime": {
     "end_time": "2024-06-25T00:13:08.969657Z",
     "start_time": "2024-06-25T00:13:08.853363Z"
    }
   },
   "cell_type": "code",
   "source": [
    "import matplotlib.pyplot as plt\n",
    "\n",
    "n = 20\n",
    "\n",
    "counts = df[df['verified'] == True]['source'].value_counts().sort_values(ascending=True).tail(n)\n",
    "\n",
    "fig, ax = plt.subplots(figsize=(15, 12))\n",
    "counts.plot(kind='barh', ax=ax)\n",
    "\n",
    "ax.tick_params(axis='both', which='major', labelsize=18)\n",
    "ax.tick_params(axis='both', which='minor', labelsize=18)\n",
    "ax.set_xlabel('', fontsize=22)\n",
    "ax.set_ylabel('', fontsize=22)\n",
    "ax.set_title(f'Top {n} Website Sample Counts (verified)', size=22)\n",
    "ax.invert_yaxis()\n",
    "ax.set_xlim([0, None])\n",
    "plt.gca().invert_yaxis()\n",
    "\n",
    "plt.show()"
   ],
   "execution_count": 24,
   "outputs": []
  },
  {
   "metadata": {},
   "cell_type": "markdown",
   "source": "x# Companies and Job Titles"
  },
  {
   "metadata": {},
   "cell_type": "markdown",
   "source": "Only real job postings have companies, synthetics do have job titles"
  },
  {
   "metadata": {
    "ExecuteTime": {
     "end_time": "2024-06-23T11:22:00.288197Z",
     "start_time": "2024-06-23T11:22:00.284823Z"
    }
   },
   "cell_type": "code",
   "source": [
    "print(f\"Companies: {len(df['company'].unique())}\")\n",
    "print(f\"Job Titles: {len(df['position'].unique())}\")"
   ],
   "execution_count": 25,
   "outputs": []
  },
  {
   "metadata": {},
   "cell_type": "markdown",
   "source": "# Longest Text"
  },
  {
   "metadata": {},
   "cell_type": "markdown",
   "source": "Use different tokenisers to estimate the number of tokens"
  },
  {
   "metadata": {
    "ExecuteTime": {
     "end_time": "2024-06-23T11:22:03.579503Z",
     "start_time": "2024-06-23T11:22:02.276557Z"
    }
   },
   "cell_type": "code",
   "source": [
    "\n",
    "from transformers import AutoTokenizer\n",
    "\n",
    "\n",
    "def print_max_tokens(model_id):\n",
    "    tokenizer = AutoTokenizer.from_pretrained(model_id, add_prefix_space=True)\n",
    "    max_tokens = len(tokenizer.encode(longest_text))\n",
    "    print(f\"Max '{model_id}' tokens: {max_tokens}\")\n",
    "\n",
    "\n",
    "def print_encode_decoded(model_id, longest_text):\n",
    "    tokenizer = AutoTokenizer.from_pretrained(model_id, add_prefix_space=True)\n",
    "    encoded_tokens = tokenizer.encode(longest_text)\n",
    "    print(f\"Tokens: {encoded_tokens}\")\n",
    "    print(f\"Decoded tokens: {tokenizer.decode(encoded_tokens)}\")\n",
    "\n",
    "\n",
    "def print_tokens(model_id, longest_text):\n",
    "    tokenizer = AutoTokenizer.from_pretrained(model_id, add_prefix_space=True)\n",
    "    tokens = tokenizer.tokenize(longest_text)\n",
    "    print(f\"Tokens: {tokens}\")\n"
   ],
   "execution_count": 26,
   "outputs": []
  },
  {
   "metadata": {
    "ExecuteTime": {
     "end_time": "2024-06-23T11:22:06.621380Z",
     "start_time": "2024-06-23T11:22:05.356320Z"
    }
   },
   "cell_type": "code",
   "source": [
    "df[text_column].fillna('', inplace=True)\n",
    "longest_text = df[text_column].apply(lambda x: (len(x), x)).max()[1]\n",
    "\n",
    "max_char = len(longest_text)\n",
    "max_words = len(longest_text.split())\n",
    "\n",
    "print(f'Max characters: {max_char}')\n",
    "print(f'Max words: {max_words}')\n",
    "for model_id in ['roberta-base', 'bert-base-uncased', 'microsoft/deberta-v3-small']:\n",
    "    print_max_tokens(model_id)\n"
   ],
   "execution_count": 27,
   "outputs": []
  },
  {
   "metadata": {},
   "cell_type": "markdown",
   "source": "Explore what the tokens look like (in roberta)"
  },
  {
   "metadata": {
    "ExecuteTime": {
     "end_time": "2024-06-21T21:57:06.211634Z",
     "start_time": "2024-06-21T21:57:06.053340Z"
    }
   },
   "cell_type": "code",
   "source": "print_tokens('roberta-base', longest_text)",
   "execution_count": 28,
   "outputs": []
  },
  {
   "metadata": {
    "ExecuteTime": {
     "end_time": "2024-06-21T21:57:06.214813Z",
     "start_time": "2024-06-21T21:57:06.212382Z"
    }
   },
   "cell_type": "code",
   "source": "longest_text",
   "execution_count": 29,
   "outputs": []
  },
  {
   "metadata": {
    "ExecuteTime": {
     "end_time": "2024-06-21T21:57:09.183849Z",
     "start_time": "2024-06-21T21:57:06.215393Z"
    }
   },
   "cell_type": "code",
   "source": "print_encode_decoded('roberta-base', longest_text)",
   "execution_count": 30,
   "outputs": []
  },
  {
   "metadata": {
    "ExecuteTime": {
     "end_time": "2024-06-21T21:57:09.186401Z",
     "start_time": "2024-06-21T21:57:09.184970Z"
    }
   },
   "cell_type": "code",
   "source": "",
   "execution_count": 30,
   "outputs": []
  }
 ]
}

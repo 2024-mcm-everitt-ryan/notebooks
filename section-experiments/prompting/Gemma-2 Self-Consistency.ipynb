{
 "nbformat": 4,
 "nbformat_minor": 0,
 "metadata": {
  "colab": {
   "provenance": [
    {
     "file_id": "1IvZ-vMF8zyOQjIvYbmRgEtlPipSGqWAp",
     "timestamp": 1721206763046
    },
    {
     "file_id": "1d-U_PE7glfCdGCyBb25qhqzx0N8Vaao3",
     "timestamp": 1721200555443
    },
    {
     "file_id": "1lbjDVj7HPXQEFqH_L2r6VnYkIAihzNtY",
     "timestamp": 1721152816072
    },
    {
     "file_id": "10A1wfXDI5GVaoObszzDKB38Qu4OOuJQI",
     "timestamp": 1721148065337
    },
    {
     "file_id": "1tByzPHFo-jfP9vlfvd9q1h-mXp3j9QgA",
     "timestamp": 1721066096987
    },
    {
     "file_id": "1tRmy9CnQgtK8FJlBzAmiwz6Zjssn3uDp",
     "timestamp": 1720449361217
    },
    {
     "file_id": "1d69EmVffRNrQsrklqVPW9kIiw8iY7zFn",
     "timestamp": 1718826079592
    },
    {
     "file_id": "1AWxOZwf6Xa4vSUCI6kzxmoR-kimK0br4",
     "timestamp": 1718655753580
    },
    {
     "file_id": "1L22mN9wWw8hqbEI3HVtEf0tVXuELA-uV",
     "timestamp": 1718556706964
    },
    {
     "file_id": "1mDy4eM_fv0rHYnImt0sxLncMEDFVzXKh",
     "timestamp": 1718221907697
    },
    {
     "file_id": "1QfTU7FPg3O9i6Xwl0o049aXTExG1Xj4Q",
     "timestamp": 1718210295961
    },
    {
     "file_id": "1JIbff1zYtUIfG4ORbHKDlg4_h8Ek3nuS",
     "timestamp": 1718124604740
    },
    {
     "file_id": "1U5GASD5JRWRjpuqGYxaF57aTNZ3xjSNc",
     "timestamp": 1718094636540
    },
    {
     "file_id": "1cVbh7eUnKlOaJLhdJO4bZD8NnvS55nhI",
     "timestamp": 1718045177489
    },
    {
     "file_id": "1vWAoc_IrqLXx4XWLWJo0ddiolY2wEs9D",
     "timestamp": 1717870930411
    },
    {
     "file_id": "1qy5OdA0YP9I6XTfX__5d2jTQgdGxGf-g",
     "timestamp": 1717774513370
    },
    {
     "file_id": "12ahHs170vpQS1iFvDEl6e8UDaxayRozf",
     "timestamp": 1717596973989
    },
    {
     "file_id": "1iTL7Ap8twx4xVz6-rcFf66j0gLI4Qbt-",
     "timestamp": 1717399301307
    }
   ],
   "machine_shape": "hm",
   "gpuType": "A100",
   "authorship_tag": "ABX9TyNK5Pceib+YuyDA48xTSl1G"
  },
  "kernelspec": {
   "name": "python3",
   "display_name": "Python 3"
  },
  "language_info": {
   "name": "python"
  },
  "widgets": {
   "application/vnd.jupyter.widget-state+json": {
    "3adef7406b004fe7a27799b174ec6928": {
     "model_module": "@jupyter-widgets/controls",
     "model_name": "HBoxModel",
     "model_module_version": "1.5.0",
     "state": {
      "_dom_classes": [],
      "_model_module": "@jupyter-widgets/controls",
      "_model_module_version": "1.5.0",
      "_model_name": "HBoxModel",
      "_view_count": null,
      "_view_module": "@jupyter-widgets/controls",
      "_view_module_version": "1.5.0",
      "_view_name": "HBoxView",
      "box_style": "",
      "children": [
       "IPY_MODEL_d34bedf4ad0846af81c649586b22382e",
       "IPY_MODEL_78bf94f2858c498d8728e6c67e410942",
       "IPY_MODEL_4066b764b4c4451c8b9d90da26e45449"
      ],
      "layout": "IPY_MODEL_6108bfaa0d444cf596d1417b77890ae8"
     }
    },
    "d34bedf4ad0846af81c649586b22382e": {
     "model_module": "@jupyter-widgets/controls",
     "model_name": "HTMLModel",
     "model_module_version": "1.5.0",
     "state": {
      "_dom_classes": [],
      "_model_module": "@jupyter-widgets/controls",
      "_model_module_version": "1.5.0",
      "_model_name": "HTMLModel",
      "_view_count": null,
      "_view_module": "@jupyter-widgets/controls",
      "_view_module_version": "1.5.0",
      "_view_name": "HTMLView",
      "description": "",
      "description_tooltip": null,
      "layout": "IPY_MODEL_d3028b1bc54f4a8586c0abe755129f94",
      "placeholder": "​",
      "style": "IPY_MODEL_5518c5254a10477b9d3fe24473cdb1c0",
      "value": "Loading checkpoint shards: 100%"
     }
    },
    "78bf94f2858c498d8728e6c67e410942": {
     "model_module": "@jupyter-widgets/controls",
     "model_name": "FloatProgressModel",
     "model_module_version": "1.5.0",
     "state": {
      "_dom_classes": [],
      "_model_module": "@jupyter-widgets/controls",
      "_model_module_version": "1.5.0",
      "_model_name": "FloatProgressModel",
      "_view_count": null,
      "_view_module": "@jupyter-widgets/controls",
      "_view_module_version": "1.5.0",
      "_view_name": "ProgressView",
      "bar_style": "success",
      "description": "",
      "description_tooltip": null,
      "layout": "IPY_MODEL_ffd42e33cf1a42f0b7bfea46a38420a3",
      "max": 4,
      "min": 0,
      "orientation": "horizontal",
      "style": "IPY_MODEL_f7cbfc51c7b7424696702ddcbc5357b4",
      "value": 4
     }
    },
    "4066b764b4c4451c8b9d90da26e45449": {
     "model_module": "@jupyter-widgets/controls",
     "model_name": "HTMLModel",
     "model_module_version": "1.5.0",
     "state": {
      "_dom_classes": [],
      "_model_module": "@jupyter-widgets/controls",
      "_model_module_version": "1.5.0",
      "_model_name": "HTMLModel",
      "_view_count": null,
      "_view_module": "@jupyter-widgets/controls",
      "_view_module_version": "1.5.0",
      "_view_name": "HTMLView",
      "description": "",
      "description_tooltip": null,
      "layout": "IPY_MODEL_710d2749790b49ffa2d5de9a122d6d6d",
      "placeholder": "​",
      "style": "IPY_MODEL_c1c710bf11054cf296e64c667f5ac75f",
      "value": " 4/4 [00:05&lt;00:00,  1.22s/it]"
     }
    },
    "6108bfaa0d444cf596d1417b77890ae8": {
     "model_module": "@jupyter-widgets/base",
     "model_name": "LayoutModel",
     "model_module_version": "1.2.0",
     "state": {
      "_model_module": "@jupyter-widgets/base",
      "_model_module_version": "1.2.0",
      "_model_name": "LayoutModel",
      "_view_count": null,
      "_view_module": "@jupyter-widgets/base",
      "_view_module_version": "1.2.0",
      "_view_name": "LayoutView",
      "align_content": null,
      "align_items": null,
      "align_self": null,
      "border": null,
      "bottom": null,
      "display": null,
      "flex": null,
      "flex_flow": null,
      "grid_area": null,
      "grid_auto_columns": null,
      "grid_auto_flow": null,
      "grid_auto_rows": null,
      "grid_column": null,
      "grid_gap": null,
      "grid_row": null,
      "grid_template_areas": null,
      "grid_template_columns": null,
      "grid_template_rows": null,
      "height": null,
      "justify_content": null,
      "justify_items": null,
      "left": null,
      "margin": null,
      "max_height": null,
      "max_width": null,
      "min_height": null,
      "min_width": null,
      "object_fit": null,
      "object_position": null,
      "order": null,
      "overflow": null,
      "overflow_x": null,
      "overflow_y": null,
      "padding": null,
      "right": null,
      "top": null,
      "visibility": null,
      "width": null
     }
    },
    "d3028b1bc54f4a8586c0abe755129f94": {
     "model_module": "@jupyter-widgets/base",
     "model_name": "LayoutModel",
     "model_module_version": "1.2.0",
     "state": {
      "_model_module": "@jupyter-widgets/base",
      "_model_module_version": "1.2.0",
      "_model_name": "LayoutModel",
      "_view_count": null,
      "_view_module": "@jupyter-widgets/base",
      "_view_module_version": "1.2.0",
      "_view_name": "LayoutView",
      "align_content": null,
      "align_items": null,
      "align_self": null,
      "border": null,
      "bottom": null,
      "display": null,
      "flex": null,
      "flex_flow": null,
      "grid_area": null,
      "grid_auto_columns": null,
      "grid_auto_flow": null,
      "grid_auto_rows": null,
      "grid_column": null,
      "grid_gap": null,
      "grid_row": null,
      "grid_template_areas": null,
      "grid_template_columns": null,
      "grid_template_rows": null,
      "height": null,
      "justify_content": null,
      "justify_items": null,
      "left": null,
      "margin": null,
      "max_height": null,
      "max_width": null,
      "min_height": null,
      "min_width": null,
      "object_fit": null,
      "object_position": null,
      "order": null,
      "overflow": null,
      "overflow_x": null,
      "overflow_y": null,
      "padding": null,
      "right": null,
      "top": null,
      "visibility": null,
      "width": null
     }
    },
    "5518c5254a10477b9d3fe24473cdb1c0": {
     "model_module": "@jupyter-widgets/controls",
     "model_name": "DescriptionStyleModel",
     "model_module_version": "1.5.0",
     "state": {
      "_model_module": "@jupyter-widgets/controls",
      "_model_module_version": "1.5.0",
      "_model_name": "DescriptionStyleModel",
      "_view_count": null,
      "_view_module": "@jupyter-widgets/base",
      "_view_module_version": "1.2.0",
      "_view_name": "StyleView",
      "description_width": ""
     }
    },
    "ffd42e33cf1a42f0b7bfea46a38420a3": {
     "model_module": "@jupyter-widgets/base",
     "model_name": "LayoutModel",
     "model_module_version": "1.2.0",
     "state": {
      "_model_module": "@jupyter-widgets/base",
      "_model_module_version": "1.2.0",
      "_model_name": "LayoutModel",
      "_view_count": null,
      "_view_module": "@jupyter-widgets/base",
      "_view_module_version": "1.2.0",
      "_view_name": "LayoutView",
      "align_content": null,
      "align_items": null,
      "align_self": null,
      "border": null,
      "bottom": null,
      "display": null,
      "flex": null,
      "flex_flow": null,
      "grid_area": null,
      "grid_auto_columns": null,
      "grid_auto_flow": null,
      "grid_auto_rows": null,
      "grid_column": null,
      "grid_gap": null,
      "grid_row": null,
      "grid_template_areas": null,
      "grid_template_columns": null,
      "grid_template_rows": null,
      "height": null,
      "justify_content": null,
      "justify_items": null,
      "left": null,
      "margin": null,
      "max_height": null,
      "max_width": null,
      "min_height": null,
      "min_width": null,
      "object_fit": null,
      "object_position": null,
      "order": null,
      "overflow": null,
      "overflow_x": null,
      "overflow_y": null,
      "padding": null,
      "right": null,
      "top": null,
      "visibility": null,
      "width": null
     }
    },
    "f7cbfc51c7b7424696702ddcbc5357b4": {
     "model_module": "@jupyter-widgets/controls",
     "model_name": "ProgressStyleModel",
     "model_module_version": "1.5.0",
     "state": {
      "_model_module": "@jupyter-widgets/controls",
      "_model_module_version": "1.5.0",
      "_model_name": "ProgressStyleModel",
      "_view_count": null,
      "_view_module": "@jupyter-widgets/base",
      "_view_module_version": "1.2.0",
      "_view_name": "StyleView",
      "bar_color": null,
      "description_width": ""
     }
    },
    "710d2749790b49ffa2d5de9a122d6d6d": {
     "model_module": "@jupyter-widgets/base",
     "model_name": "LayoutModel",
     "model_module_version": "1.2.0",
     "state": {
      "_model_module": "@jupyter-widgets/base",
      "_model_module_version": "1.2.0",
      "_model_name": "LayoutModel",
      "_view_count": null,
      "_view_module": "@jupyter-widgets/base",
      "_view_module_version": "1.2.0",
      "_view_name": "LayoutView",
      "align_content": null,
      "align_items": null,
      "align_self": null,
      "border": null,
      "bottom": null,
      "display": null,
      "flex": null,
      "flex_flow": null,
      "grid_area": null,
      "grid_auto_columns": null,
      "grid_auto_flow": null,
      "grid_auto_rows": null,
      "grid_column": null,
      "grid_gap": null,
      "grid_row": null,
      "grid_template_areas": null,
      "grid_template_columns": null,
      "grid_template_rows": null,
      "height": null,
      "justify_content": null,
      "justify_items": null,
      "left": null,
      "margin": null,
      "max_height": null,
      "max_width": null,
      "min_height": null,
      "min_width": null,
      "object_fit": null,
      "object_position": null,
      "order": null,
      "overflow": null,
      "overflow_x": null,
      "overflow_y": null,
      "padding": null,
      "right": null,
      "top": null,
      "visibility": null,
      "width": null
     }
    },
    "c1c710bf11054cf296e64c667f5ac75f": {
     "model_module": "@jupyter-widgets/controls",
     "model_name": "DescriptionStyleModel",
     "model_module_version": "1.5.0",
     "state": {
      "_model_module": "@jupyter-widgets/controls",
      "_model_module_version": "1.5.0",
      "_model_name": "DescriptionStyleModel",
      "_view_count": null,
      "_view_module": "@jupyter-widgets/base",
      "_view_module_version": "1.2.0",
      "_view_name": "StyleView",
      "description_width": ""
     }
    }
   }
  },
  "accelerator": "GPU"
 },
 "cells": [
  {
   "cell_type": "markdown",
   "source": [
    "# Gemma-2 Self-Consistency Inference"
   ],
   "metadata": {
    "id": "pwBaPCPdQdIN"
   }
  },
  {
   "cell_type": "code",
   "source": [
    "#val_or_test_split = 'val'\n",
    "val_or_test_split = 'test'"
   ],
   "metadata": {
    "id": "p4N1j0fz-Eb1"
   },
   "execution_count": null,
   "outputs": []
  },
  {
   "cell_type": "code",
   "source": [
    "!pip install --upgrade transformers\n",
    "!pip install -q datasets sentencepiece accelerate evaluate tiktoken einops flash-attn"
   ],
   "metadata": {
    "id": "rJcccKt4MnRb",
    "colab": {
     "base_uri": "https://localhost:8080/"
    },
    "executionInfo": {
     "status": "ok",
     "timestamp": 1721288054229,
     "user_tz": -60,
     "elapsed": 11381,
     "user": {
      "displayName": "Paul Ryan",
      "userId": "17638617360224378678"
     }
    },
    "outputId": "c766a50f-c15e-40b9-d36a-60d4022eac8d"
   },
   "execution_count": null,
   "outputs": [
    {
     "output_type": "stream",
     "name": "stdout",
     "text": [
      "Requirement already satisfied: transformers in /usr/local/lib/python3.10/dist-packages (4.42.4)\n",
      "Requirement already satisfied: filelock in /usr/local/lib/python3.10/dist-packages (from transformers) (3.15.4)\n",
      "Requirement already satisfied: huggingface-hub<1.0,>=0.23.2 in /usr/local/lib/python3.10/dist-packages (from transformers) (0.23.4)\n",
      "Requirement already satisfied: numpy<2.0,>=1.17 in /usr/local/lib/python3.10/dist-packages (from transformers) (1.25.2)\n",
      "Requirement already satisfied: packaging>=20.0 in /usr/local/lib/python3.10/dist-packages (from transformers) (24.1)\n",
      "Requirement already satisfied: pyyaml>=5.1 in /usr/local/lib/python3.10/dist-packages (from transformers) (6.0.1)\n",
      "Requirement already satisfied: regex!=2019.12.17 in /usr/local/lib/python3.10/dist-packages (from transformers) (2024.5.15)\n",
      "Requirement already satisfied: requests in /usr/local/lib/python3.10/dist-packages (from transformers) (2.32.3)\n",
      "Requirement already satisfied: safetensors>=0.4.1 in /usr/local/lib/python3.10/dist-packages (from transformers) (0.4.3)\n",
      "Requirement already satisfied: tokenizers<0.20,>=0.19 in /usr/local/lib/python3.10/dist-packages (from transformers) (0.19.1)\n",
      "Requirement already satisfied: tqdm>=4.27 in /usr/local/lib/python3.10/dist-packages (from transformers) (4.66.4)\n",
      "Requirement already satisfied: fsspec>=2023.5.0 in /usr/local/lib/python3.10/dist-packages (from huggingface-hub<1.0,>=0.23.2->transformers) (2023.6.0)\n",
      "Requirement already satisfied: typing-extensions>=3.7.4.3 in /usr/local/lib/python3.10/dist-packages (from huggingface-hub<1.0,>=0.23.2->transformers) (4.12.2)\n",
      "Requirement already satisfied: charset-normalizer<4,>=2 in /usr/local/lib/python3.10/dist-packages (from requests->transformers) (3.3.2)\n",
      "Requirement already satisfied: idna<4,>=2.5 in /usr/local/lib/python3.10/dist-packages (from requests->transformers) (3.7)\n",
      "Requirement already satisfied: urllib3<3,>=1.21.1 in /usr/local/lib/python3.10/dist-packages (from requests->transformers) (2.0.7)\n",
      "Requirement already satisfied: certifi>=2017.4.17 in /usr/local/lib/python3.10/dist-packages (from requests->transformers) (2024.7.4)\n"
     ]
    }
   ]
  },
  {
   "cell_type": "code",
   "execution_count": null,
   "metadata": {
    "id": "sxhedCJLMeKT"
   },
   "outputs": [],
   "source": [
    "from datasets import load_dataset\n",
    "\n",
    "hf_site_id = '2024-mcm-everitt-ryan'\n",
    "dataset_id = f'{hf_site_id}/job-bias-synthetic-human-benchmark-v2'\n",
    "\n",
    "dataset = load_dataset(dataset_id)\n",
    "column_names = dataset['train'].column_names\n",
    "\n",
    "text_col = 'text'\n",
    "label_cols = [col for col in column_names if col.startswith('label_')]\n",
    "\n",
    "labels = [label.replace(\"label_\", \"\") for label in label_cols]\n",
    "\n",
    "id2label = {idx: label for idx, label in enumerate(labels)}\n",
    "label2id = {label: idx for idx, label in enumerate(labels)}\n",
    "\n",
    "# Remove all columns apart from the two needed for multi-class classification\n",
    "keep_columns = ['context_id', 'synthetic', text_col] + label_cols\n",
    "dataset = dataset[val_or_test_split].remove_columns(\n",
    "    [col for col in dataset[val_or_test_split].column_names if col not in keep_columns])\n"
   ]
  },
  {
   "cell_type": "markdown",
   "source": [
    "# Prompt Formatting & Data preprocessing"
   ],
   "metadata": {
    "id": "D8tuMuhdr5pk"
   }
  },
  {
   "cell_type": "markdown",
   "metadata": {
    "id": "J3igbhe9aITp"
   },
   "source": [
    "Inspiration from https://medium.com/@olaf.lenzmann/mastering-llms-for-complex-classification-tasks-64f0bda2edf3"
   ]
  },
  {
   "cell_type": "code",
   "source": [
    "system = \"You are an analyst of job postings. Your task is to detect implicit bias, if present.\\n\"\n",
    "instruction = \"Analyse the job posting for implicit bias. The bias categories are age, disability, feminine, masculine, racial, sexuality, general.  Return the appropriate label only when absolutely sure that the particular bias category is present in the text.\\n\"\n",
    "closing_instruction = \"Does the job posting contain any implicit bias? Please respond in the format of 'Labels: <labels>' where the possible labels are zero or more from the choices of age, disability, feminine, masculine, racial, sexuality, general. If no bias is detected please return 'Labels: neutral'. No further explanation is required.\"\n",
    "\n",
    "cot = \"\"\"\n",
    "Think step by step to determine if there is implicit bias present in the job posting.\n",
    "Step 1: Check for age bias.\n",
    "Step 2: Check for disability bias.\n",
    "Step 3: Check for feminine bias.\n",
    "Step 4: Check for masculine bias.\n",
    "Step 5: Check for racial bias.\n",
    "Step 6: Check for sexuality bias.\n",
    "Step 7: Check for general bias - bias other than the previous bias categories.\n",
    "\"\"\"\n",
    "\n",
    "def construct_prompt_cot (query_job_description):\n",
    "    evidence = f\"Job Posting: \\n {query_job_description} \\n ===END=== \\n\"\n",
    "    content = system + instruction + cot + evidence + closing_instruction\n",
    "    messages = [{\"role\": \"user\", \"content\": content}]\n",
    "    return messages"
   ],
   "metadata": {
    "id": "NyWbrymWtnop"
   },
   "execution_count": null,
   "outputs": []
  },
  {
   "cell_type": "code",
   "source": [
    "def get_formatted_prompt(job_description):\n",
    "    msgs = construct_prompt_cot(job_description)\n",
    "    return msgs"
   ],
   "metadata": {
    "id": "InT1eB1SCZh1"
   },
   "execution_count": null,
   "outputs": []
  },
  {
   "cell_type": "code",
   "source": [
    "import numpy as np\n",
    "\n",
    "def preprocess_data(sample):\n",
    "#    print(sample)\n",
    "    # take a batch of texts\n",
    "    text = sample[text_col]\n",
    "    sample['prompt'] = list(map(get_formatted_prompt, sample[text_col]))\n",
    "    # add labels\n",
    "    labels_batch = {k: sample[k] for k in sample.keys() if k in label_cols}\n",
    "    # create numpy array of shape (batch_size, num_labels)\n",
    "    labels_matrix = np.zeros((len(text), len(label_cols)), dtype=int)\n",
    "    # fill numpy array\n",
    "    for idx, label in enumerate(label_cols):\n",
    "        labels_matrix[:, idx] = labels_batch[label]\n",
    "\n",
    "    sample[\"labels\"] = labels_matrix.tolist()\n",
    "    return sample\n",
    "\n",
    "processed_dataset = dataset.map(preprocess_data, batched=True, remove_columns=[col for col in dataset.column_names if col not in ['prompt','labels']])"
   ],
   "metadata": {
    "id": "nHtDL24kQsIm"
   },
   "execution_count": null,
   "outputs": []
  },
  {
   "cell_type": "markdown",
   "source": [
    "# Label extraction"
   ],
   "metadata": {
    "id": "EvB2hWwlrXfc"
   }
  },
  {
   "cell_type": "code",
   "source": [
    "import re\n",
    "from collections import Counter\n",
    "\n",
    "def extract_labels(text):\n",
    "    # Define the regular expression pattern to capture the needed parts\n",
    "    pattern = r'\\bLabels: \\s*(?P<labels>[^\\n]+)'\n",
    "\n",
    "    # Search the text for matches\n",
    "    match = re.search(pattern, text, re.DOTALL)\n",
    "\n",
    "    if match:\n",
    "        # Extract the 'answer' part and split it into a list of words\n",
    "        labels_text = match.group('labels')\n",
    "        # Strip whitespace and split by comma\n",
    "        answer_list = [label.strip() for label in labels_text.split(',')]\n",
    "        return answer_list\n",
    "    else:\n",
    "        return None\n",
    "\n",
    "def responses_to_predictions(responses):\n",
    "    #Extract labels\n",
    "    label_set = set(labels) # Just for efficiency\n",
    "    predictions = []\n",
    "    not_parsed = []\n",
    "    for i, res in enumerate(responses):\n",
    "        sc_predictions = []\n",
    "        for seq in res:\n",
    "            predicted = np.zeros((len(labels),), dtype=int)\n",
    "            generated_text = seq['generated_text']\n",
    "\n",
    "            words_list = extract_labels(generated_text)\n",
    "            if words_list is not None:\n",
    "                for idx, l in enumerate(labels):\n",
    "                    if l in words_list:\n",
    "                        predicted[idx] = 1\n",
    "\n",
    "                sc_predictions.append(predicted)\n",
    "\n",
    "        if len(sc_predictions) > 0:\n",
    "            # Transpose the list of labels to group corresponding positions together\n",
    "            transposed_labels = list(zip(*sc_predictions))\n",
    "            prediction = []\n",
    "            for position in transposed_labels:\n",
    "                most_common_value = Counter(position).most_common(1)[0][0]\n",
    "                prediction.append(most_common_value)\n",
    "            predictions.append(prediction)\n",
    "        else:\n",
    "            not_parsed.append(i)\n",
    "\n",
    "    return predictions, not_parsed"
   ],
   "metadata": {
    "id": "gHlvxvAc9_DF"
   },
   "execution_count": null,
   "outputs": []
  },
  {
   "cell_type": "markdown",
   "source": [
    "# Metrics & Result display"
   ],
   "metadata": {
    "id": "TNlHxPbo6J-y"
   }
  },
  {
   "cell_type": "code",
   "source": [
    "from sklearn.metrics import f1_score, precision_score, recall_score, roc_auc_score, accuracy_score\n",
    "\n",
    "# Define custom metric function\n",
    "def compute_metrics(y_pred, y_true):\n",
    "    accuracy = accuracy_score(y_true=y_true, y_pred=y_pred)\n",
    "    f1_micro = f1_score(y_true=y_true, y_pred=y_pred, average='micro', zero_division=0.0)\n",
    "    f1_macro = f1_score(y_true=y_true, y_pred=y_pred, average='macro', zero_division=0.0)\n",
    "    f1_samples = f1_score(y_true=y_true, y_pred=y_pred, average='samples', zero_division=0.0)\n",
    "    f1_weighted = f1_score(y_true=y_true, y_pred=y_pred, average='weighted', zero_division=0.0)\n",
    "\n",
    "    precision_micro = precision_score(y_true=y_true, y_pred=y_pred, average='micro')\n",
    "    recall_micro = recall_score(y_true=y_true, y_pred=y_pred, average='micro')\n",
    "    roc_auc_micro = roc_auc_score(y_true=y_true, y_score=y_pred, average='micro')\n",
    "    # return as dictionary\n",
    "    metrics = {\n",
    "        'accuracy': accuracy,\n",
    "        f'f1_micro': f1_micro,\n",
    "        f'f1_macro': f1_macro,\n",
    "        f'f1_samples': f1_samples,\n",
    "        f'f1_weighted': f1_weighted,\n",
    "        f'precision_micro': precision_micro,\n",
    "        f'recall_micro': recall_micro,\n",
    "        f'roc_auc_micro': roc_auc_micro}\n",
    "    return metrics\n",
    "\n",
    "# Function to calculate true positives, false positives, true negatives, and false negatives\n",
    "def calculate_counts(true_labels, predicted_labels):\n",
    "    tp = np.sum((true_labels == 1) & (predicted_labels == 1), axis=0)\n",
    "    fp = np.sum((true_labels == 0) & (predicted_labels == 1), axis=0)\n",
    "    tn = np.sum((true_labels == 0) & (predicted_labels == 0), axis=0)\n",
    "    fn = np.sum((true_labels == 1) & (predicted_labels == 0), axis=0)\n",
    "    return tp, fp, tn, fn"
   ],
   "metadata": {
    "id": "0E_Ep4E8C-K-"
   },
   "execution_count": null,
   "outputs": []
  },
  {
   "cell_type": "code",
   "source": [
    "import matplotlib.pyplot as plt\n",
    "import seaborn as sns\n",
    "import pandas as pd\n",
    "\n",
    "def print_metrics(metrics):\n",
    "    print(\"Evaluation Metrics:\")\n",
    "    print(\"===================\")\n",
    "    for metric, value in metrics.items():\n",
    "        print(f\"{metric.replace('_', ' ').capitalize():<20}: {value:.4f}\")\n",
    "\n",
    "def heatmap_TP_FP_TN_FN(tp, fp, tn, fn):\n",
    "    data = {\n",
    "        'True Positive': tp,\n",
    "        'False Positive': fp,\n",
    "        'True Negative': tn,\n",
    "        'False Negative': fn\n",
    "    }\n",
    "\n",
    "    df = pd.DataFrame(data, index=labels)\n",
    "\n",
    "    # Plot the data using seaborn\n",
    "    plt.figure(figsize=(12, 6))\n",
    "    sns.heatmap(df.T, annot=True, cmap='Blues', fmt='d', linewidths=.5)\n",
    "    plt.title('Multi-Label Confusion Matrix Breakdown by Class')\n",
    "    plt.xlabel('Labels')\n",
    "    plt.ylabel('Counts')\n",
    "    plt.show()"
   ],
   "metadata": {
    "id": "_bK8Ke5kv-9W"
   },
   "execution_count": null,
   "outputs": []
  },
  {
   "cell_type": "markdown",
   "metadata": {
    "id": "3b-WZ45WsvWS"
   },
   "source": [
    "# Model, Tokenizer & Pipeline"
   ]
  },
  {
   "cell_type": "code",
   "source": [
    "# Load the model and tokenizer\n",
    "from transformers import AutoTokenizer, AutoModelForCausalLM\n",
    "import torch\n",
    "\n",
    "model_name = \"google/gemma-2-9b-it\"\n",
    "#tokenizer = AutoTokenizer.from_pretrained(model_name, padding_side='left', add_eos_token=True, add_bos_token=True)\n",
    "tokenizer = AutoTokenizer.from_pretrained(model_name)\n",
    "model = AutoModelForCausalLM.from_pretrained(model_name, torch_dtype=\"auto\", trust_remote_code=True)\n",
    "\n",
    "model.half() #this is needed if GPU ram is less than approx 26gb\n",
    "\n",
    "device = torch.device('cuda' if torch.cuda.is_available() else 'cpu')\n",
    "model.to(device)\n"
   ],
   "metadata": {
    "id": "SsG22-rGS8zw",
    "colab": {
     "base_uri": "https://localhost:8080/",
     "height": 535,
     "referenced_widgets": [
      "3adef7406b004fe7a27799b174ec6928",
      "d34bedf4ad0846af81c649586b22382e",
      "78bf94f2858c498d8728e6c67e410942",
      "4066b764b4c4451c8b9d90da26e45449",
      "6108bfaa0d444cf596d1417b77890ae8",
      "d3028b1bc54f4a8586c0abe755129f94",
      "5518c5254a10477b9d3fe24473cdb1c0",
      "ffd42e33cf1a42f0b7bfea46a38420a3",
      "f7cbfc51c7b7424696702ddcbc5357b4",
      "710d2749790b49ffa2d5de9a122d6d6d",
      "c1c710bf11054cf296e64c667f5ac75f"
     ]
    },
    "executionInfo": {
     "status": "ok",
     "timestamp": 1721288077376,
     "user_tz": -60,
     "elapsed": 19778,
     "user": {
      "displayName": "Paul Ryan",
      "userId": "17638617360224378678"
     }
    },
    "outputId": "dc41f114-b519-4d19-a16b-dd3d599bb030"
   },
   "execution_count": null,
   "outputs": [
    {
     "output_type": "display_data",
     "data": {
      "text/plain": [
       "Loading checkpoint shards:   0%|          | 0/4 [00:00<?, ?it/s]"
      ],
      "application/vnd.jupyter.widget-view+json": {
       "version_major": 2,
       "version_minor": 0,
       "model_id": "3adef7406b004fe7a27799b174ec6928"
      }
     },
     "metadata": {}
    },
    {
     "output_type": "execute_result",
     "data": {
      "text/plain": [
       "Gemma2ForCausalLM(\n",
       "  (model): Gemma2Model(\n",
       "    (embed_tokens): Embedding(256000, 3584, padding_idx=0)\n",
       "    (layers): ModuleList(\n",
       "      (0-41): 42 x Gemma2DecoderLayer(\n",
       "        (self_attn): Gemma2SdpaAttention(\n",
       "          (q_proj): Linear(in_features=3584, out_features=4096, bias=False)\n",
       "          (k_proj): Linear(in_features=3584, out_features=2048, bias=False)\n",
       "          (v_proj): Linear(in_features=3584, out_features=2048, bias=False)\n",
       "          (o_proj): Linear(in_features=4096, out_features=3584, bias=False)\n",
       "          (rotary_emb): Gemma2RotaryEmbedding()\n",
       "        )\n",
       "        (mlp): Gemma2MLP(\n",
       "          (gate_proj): Linear(in_features=3584, out_features=14336, bias=False)\n",
       "          (up_proj): Linear(in_features=3584, out_features=14336, bias=False)\n",
       "          (down_proj): Linear(in_features=14336, out_features=3584, bias=False)\n",
       "          (act_fn): PytorchGELUTanh()\n",
       "        )\n",
       "        (input_layernorm): Gemma2RMSNorm()\n",
       "        (post_attention_layernorm): Gemma2RMSNorm()\n",
       "        (pre_feedforward_layernorm): Gemma2RMSNorm()\n",
       "        (post_feedforward_layernorm): Gemma2RMSNorm()\n",
       "      )\n",
       "    )\n",
       "    (norm): Gemma2RMSNorm()\n",
       "  )\n",
       "  (lm_head): Linear(in_features=3584, out_features=256000, bias=False)\n",
       ")"
      ]
     },
     "metadata": {},
     "execution_count": 5
    }
   ]
  },
  {
   "cell_type": "code",
   "source": [
    "from transformers import pipeline\n",
    "import torch\n",
    "\n",
    "pipeline = pipeline(\"text-generation\", model=model, tokenizer=tokenizer, torch_dtype=torch.float16, device=device)\n"
   ],
   "metadata": {
    "id": "m9-BPhSMwB0l"
   },
   "execution_count": null,
   "outputs": []
  },
  {
   "cell_type": "markdown",
   "source": [
    "# Run Inference - Validation or Test"
   ],
   "metadata": {
    "id": "MbbD9RsKqxyi"
   }
  },
  {
   "cell_type": "code",
   "source": [
    "from sklearn.metrics import classification_report\n",
    "\n",
    "#num_tests=8\n",
    "#data_to_test = processed_dataset.select(range(num_tests))\n",
    "data_to_test = processed_dataset\n",
    "\n",
    "responses = pipeline(data_to_test['prompt'],\n",
    "                     max_new_tokens=100,\n",
    "                     pad_token_id=tokenizer.eos_token_id,\n",
    "                     return_full_text=False,\n",
    "                     do_sample=True,\n",
    "                     num_return_sequences=3,  # Number of diverse outputs to generate\n",
    "                     temperature=0.7\n",
    "                    )\n",
    "\n",
    "#Extract labels\n",
    "predictions, not_parsed = responses_to_predictions(responses)\n",
    "\n",
    "print(f\"Num not parsed: {len(not_parsed)}\")\n",
    "\n",
    "#There still may be a few unparseable responses. Remove these from the ground truth labels\n",
    "#In testing, this has always been zero, therefore results are valid.\n",
    "truth_labels = data_to_test['labels']\n",
    "filtered_truth_labels = [label for idx, label in enumerate(truth_labels) if idx not in not_parsed]\n",
    "\n",
    "metrics = compute_metrics(predictions, filtered_truth_labels)\n",
    "print_metrics(metrics)\n",
    "\n",
    "tp, fp, tn, fn = calculate_counts(np.array(filtered_truth_labels), np.array(predictions))\n",
    "heatmap_TP_FP_TN_FN(tp, fp, tn, fn)\n",
    "\n",
    "print(classification_report(filtered_truth_labels, predictions, target_names=labels, zero_division=0.0))"
   ],
   "metadata": {
    "id": "i0HUnkH8uex-",
    "colab": {
     "base_uri": "https://localhost:8080/",
     "height": 1000
    },
    "executionInfo": {
     "status": "ok",
     "timestamp": 1721288588859,
     "user_tz": -60,
     "elapsed": 507675,
     "user": {
      "displayName": "Paul Ryan",
      "userId": "17638617360224378678"
     }
    },
    "outputId": "1d9e1ed0-5896-40f8-ab29-32ffb7b2551e"
   },
   "execution_count": null,
   "outputs": [
    {
     "output_type": "stream",
     "name": "stdout",
     "text": [
      "Num not parsed: 0\n",
      "Evaluation Metrics:\n",
      "===================\n",
      "Accuracy            : 0.4366\n",
      "F1 micro            : 0.5466\n",
      "F1 macro            : 0.5590\n",
      "F1 samples          : 0.5639\n",
      "F1 weighted         : 0.5590\n",
      "Precision micro     : 0.5053\n",
      "Recall micro        : 0.5953\n",
      "Roc auc micro       : 0.7514\n"
     ]
    },
    {
     "output_type": "display_data",
     "data": {
      "text/plain": [
       "<Figure size 1200x600 with 2 Axes>"
      ],
      "image/png": "[encoded data removed]"
     },
     "metadata": {}
    },
    {
     "output_type": "stream",
     "name": "stdout",
     "text": [
      "              precision    recall  f1-score   support\n",
      "\n",
      "         age       0.67      0.49      0.57        80\n",
      "  disability       0.81      0.38      0.51        80\n",
      "    feminine       0.73      0.96      0.83        80\n",
      "     general       0.26      0.69      0.38        80\n",
      "   masculine       0.36      0.91      0.52        80\n",
      "     neutral       0.60      0.31      0.41        80\n",
      "      racial       0.78      0.62      0.69        80\n",
      "   sexuality       0.97      0.40      0.57        80\n",
      "\n",
      "   micro avg       0.51      0.60      0.55       640\n",
      "   macro avg       0.65      0.60      0.56       640\n",
      "weighted avg       0.65      0.60      0.56       640\n",
      " samples avg       0.54      0.62      0.56       640\n",
      "\n"
     ]
    },
    {
     "output_type": "stream",
     "name": "stderr",
     "text": [
      "/usr/local/lib/python3.10/dist-packages/sklearn/metrics/_classification.py:1344: UndefinedMetricWarning: Precision and F-score are ill-defined and being set to 0.0 in samples with no predicted labels. Use `zero_division` parameter to control this behavior.\n",
      "  _warn_prf(average, modifier, msg_start, len(result))\n"
     ]
    }
   ]
  },
  {
   "cell_type": "code",
   "source": [
    "#responses"
   ],
   "metadata": {
    "id": "ZxWTPULhzWOT"
   },
   "execution_count": null,
   "outputs": []
  }
 ]
}

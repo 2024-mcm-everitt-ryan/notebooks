{
 "cells": [
  {
   "cell_type": "markdown",
   "id": "5c6a5f862663af8b",
   "metadata": {},
   "source": [
    "Adapted from the following, but changed to handle multi-label\n",
    "https://github.com/VanekPetr/flan-t5-text-classifier/blob/main/classifier/AutoModelForSeq2SeqLM/flan-t5-finetuning.py"
   ]
  },
  {
   "cell_type": "markdown",
   "id": "fe78b8b3ad0b097a",
   "metadata": {},
   "source": [
    "# Login to Hugging Face"
   ]
  },
  {
   "cell_type": "code",
   "id": "e9c27564-3917-477d-a69f-09fdeed244c1",
   "metadata": {
    "ExecuteTime": {
     "end_time": "2024-07-16T22:59:46.504887Z",
     "start_time": "2024-07-16T22:59:46.500744Z"
    }
   },
   "source": "#!pip install -q transformers datasets sentencepiece accelerate evaluate hf_transfer huggingface_hub scikit-learn protobuf nltk",
   "outputs": [],
   "execution_count": 1
  },
  {
   "cell_type": "code",
   "id": "3d918dba9ec9b61a",
   "metadata": {
    "ExecuteTime": {
     "end_time": "2024-07-16T22:59:46.635465Z",
     "start_time": "2024-07-16T22:59:46.517253Z"
    }
   },
   "source": [
    "from huggingface_hub import login\n",
    "import os\n",
    "\n",
    "login(token=os.getenv(\"HF_TOKEN\"))\n",
    "\n",
    "#from huggingface_hub import notebook_login\n",
    "#notebook_login()\n",
    "# Setup"
   ],
   "outputs": [
    {
     "data": {
      "text/plain": [
       "VBox(children=(HTML(value='<center> <img\\nsrc=https://huggingface.co/front/assets/huggingface_logo-noborder.sv…"
      ],
      "application/vnd.jupyter.widget-view+json": {
       "version_major": 2,
       "version_minor": 0,
       "model_id": "6a344f917cfc460eb65b6c00a1608a64"
      }
     },
     "metadata": {},
     "output_type": "display_data"
    }
   ],
   "execution_count": 2
  },
  {
   "cell_type": "code",
   "id": "e59b773a-88de-45cd-9742-eefb36c3b606",
   "metadata": {
    "ExecuteTime": {
     "end_time": "2024-07-16T22:59:46.640792Z",
     "start_time": "2024-07-16T22:59:46.636904Z"
    }
   },
   "source": [
    "import warnings\n",
    "warnings.filterwarnings('ignore')\n",
    "\n",
    "base_model_id = 'google/flan-t5-small'\n",
    "\n",
    "\n",
    "seed=2024\n",
    "\n",
    "# Training\n",
    "num_train_epochs=1\n",
    "batch_size = 2\n",
    "\n",
    "learning_rate = 5e-5\n",
    "#learning_rate=3e-4\n",
    "#learning_rate = 1e-3\n",
    "\n",
    "# Regularisation\n",
    "dropout_rate = 0.1\n",
    "weight_decay=0.001\n",
    "\n",
    "# Evaluation\n",
    "label_threshold=0.5\n",
    "\n",
    "# Misc\n",
    "results_output_dir = 'results'\n",
    "logging_dir='logs'\n",
    "\n",
    "\n",
    "\n",
    "hf_site_id = '2024-mcm-everitt-ryan'\n",
    "dataset_id = f'{hf_site_id}/job-bias-synthetic-human-benchmark-v2'\n",
    "#dataset_id = f'{hf_site_id}/job-bias-synthetic-human-verified'\n",
    "base_model_name = base_model_id.split('/')[-1]\n",
    "model_id = f'{base_model_name}-job-bias-seq2seq-cls'\n",
    "hub_model_id = f'{hf_site_id}/{model_id}'\n"
   ],
   "outputs": [],
   "execution_count": 3
  },
  {
   "cell_type": "markdown",
   "id": "bc121d59bab23a36",
   "metadata": {},
   "source": [
    "# Dataset"
   ]
  },
  {
   "cell_type": "code",
   "id": "ddb7a63b9d9fcb8a",
   "metadata": {
    "ExecuteTime": {
     "end_time": "2024-07-16T23:23:14.082383Z",
     "start_time": "2024-07-16T23:23:11.333048Z"
    }
   },
   "source": [
    "from datasets import load_dataset\n",
    "\n",
    "dataset = load_dataset(dataset_id)\n",
    "column_names = dataset['train'].column_names\n",
    "\n",
    "\n",
    "text_col = 'text'\n",
    "label_cols = [col for col in column_names if col.startswith('label_')]\n",
    "\n",
    "labels = [label.replace(\"label_\", \"\") for label in label_cols]\n",
    "\n",
    "id2label = {idx: label for idx, label in enumerate(labels)}\n",
    "label2id = {label: idx for idx, label in enumerate(labels)}\n",
    "\n",
    "# Remove all columns apart from the two needed for multi-class classification\n",
    "keep_columns = ['id', text_col] + label_cols\n",
    "for split in [\"train\", \"val\", \"test\"]:\n",
    "    dataset[split] = dataset[split].remove_columns(\n",
    "        [col for col in dataset[split].column_names if col not in keep_columns])\n",
    "\n",
    "for type in ['train','val','test']:\n",
    "    dataset[type] = dataset[type].shuffle(seed=seed).select(range(5))\n",
    "\n",
    "dataset"
   ],
   "outputs": [
    {
     "data": {
      "text/plain": [
       "DatasetDict({\n",
       "    train: Dataset({\n",
       "        features: ['id', 'label_age', 'label_disability', 'label_feminine', 'label_general', 'label_masculine', 'label_neutral', 'label_racial', 'label_sexuality', 'text'],\n",
       "        num_rows: 5\n",
       "    })\n",
       "    val: Dataset({\n",
       "        features: ['id', 'label_age', 'label_disability', 'label_feminine', 'label_general', 'label_masculine', 'label_neutral', 'label_racial', 'label_sexuality', 'text'],\n",
       "        num_rows: 5\n",
       "    })\n",
       "    test: Dataset({\n",
       "        features: ['id', 'label_age', 'label_disability', 'label_feminine', 'label_general', 'label_masculine', 'label_neutral', 'label_racial', 'label_sexuality', 'text'],\n",
       "        num_rows: 5\n",
       "    })\n",
       "})"
      ]
     },
     "execution_count": 26,
     "metadata": {},
     "output_type": "execute_result"
    }
   ],
   "execution_count": 26
  },
  {
   "cell_type": "markdown",
   "id": "8f86fe66f2538e41",
   "metadata": {},
   "source": [
    "# Tokeniser"
   ]
  },
  {
   "cell_type": "code",
   "id": "df1730b90a1dcc7a",
   "metadata": {
    "ExecuteTime": {
     "end_time": "2024-07-16T23:23:15.169229Z",
     "start_time": "2024-07-16T23:23:15.028072Z"
    }
   },
   "source": [
    "from transformers import AutoTokenizer\n",
    "from huggingface_hub import HfFolder\n",
    "\n",
    "tokenizer = AutoTokenizer.from_pretrained(base_model_id, token=HfFolder.get_token())\n",
    "#tokenizer"
   ],
   "outputs": [],
   "execution_count": 27
  },
  {
   "cell_type": "code",
   "id": "54abe108f979a066",
   "metadata": {
    "ExecuteTime": {
     "end_time": "2024-07-16T23:23:15.524591Z",
     "start_time": "2024-07-16T23:23:15.414729Z"
    }
   },
   "source": [
    "from datasets import concatenate_datasets\n",
    "from transformers import Seq2SeqTrainingArguments\n",
    "\n",
    "\n",
    "tokenized_inputs = concatenate_datasets([dataset[\"train\"], dataset[\"test\"]]).map(\n",
    "    lambda x: tokenizer(x[\"text\"], truncation=True),\n",
    "    batched=True,\n",
    "    remove_columns=dataset['train'].column_names,\n",
    ")\n",
    "max_source_length = max([len(x) for x in tokenized_inputs[\"input_ids\"]])\n",
    "print(f\"Max source length: {max_source_length}\")\n",
    "\n",
    "# Prepare target sequences for T5\n",
    "def create_target_sequence(example):\n",
    "    labels = [key.replace('label_','') for key, value in example.items() if key.startswith('label_') and value]\n",
    "    labels = ','.join(labels)\n",
    "    labels = labels.strip()    \n",
    "    return labels\n",
    "\n",
    "# Add target sequence to the dataset\n",
    "dataset = dataset.map(lambda x: {'labels': create_target_sequence(x)}, remove_columns=[col for col in dataset['train'].column_names if col.startswith('label_')])\n",
    "\n",
    "# Tokenise targets\n",
    "tokenized_targets = concatenate_datasets([dataset[\"train\"], dataset[\"test\"]]).map(\n",
    "    lambda x: tokenizer(x[\"labels\"], truncation=True),\n",
    "    batched=True,\n",
    "    remove_columns=dataset['train'].column_names,\n",
    ")\n",
    "max_target_length = max([len(x) for x in tokenized_targets[\"input_ids\"]])\n",
    "print(f\"Max target length: {max_target_length}\")"
   ],
   "outputs": [
    {
     "data": {
      "text/plain": [
       "Map:   0%|          | 0/10 [00:00<?, ? examples/s]"
      ],
      "application/vnd.jupyter.widget-view+json": {
       "version_major": 2,
       "version_minor": 0,
       "model_id": "89faf777fc9647a3825a48c3657eb470"
      }
     },
     "metadata": {},
     "output_type": "display_data"
    },
    {
     "name": "stdout",
     "output_type": "stream",
     "text": [
      "Max source length: 477\n"
     ]
    },
    {
     "data": {
      "text/plain": [
       "Map:   0%|          | 0/10 [00:00<?, ? examples/s]"
      ],
      "application/vnd.jupyter.widget-view+json": {
       "version_major": 2,
       "version_minor": 0,
       "model_id": "f5d5f071e5544d419a022661ace626a8"
      }
     },
     "metadata": {},
     "output_type": "display_data"
    },
    {
     "name": "stdout",
     "output_type": "stream",
     "text": [
      "Max target length: 9\n"
     ]
    }
   ],
   "execution_count": 28
  },
  {
   "cell_type": "code",
   "id": "2917c7f3b405da7b",
   "metadata": {
    "ExecuteTime": {
     "end_time": "2024-07-16T23:23:15.691110Z",
     "start_time": "2024-07-16T23:23:15.688799Z"
    }
   },
   "source": [
    "#tokenized_targets[\"input_ids\"]"
   ],
   "outputs": [],
   "execution_count": 29
  },
  {
   "cell_type": "markdown",
   "id": "98424c47a6f9843b",
   "metadata": {},
   "source": [
    "# Model"
   ]
  },
  {
   "cell_type": "code",
   "id": "102c5e2fda51da82",
   "metadata": {
    "ExecuteTime": {
     "end_time": "2024-07-16T23:23:18.103069Z",
     "start_time": "2024-07-16T23:23:16.152199Z"
    }
   },
   "source": [
    "from transformers import AutoModelForSeq2SeqLM, AutoConfig\n",
    "\n",
    "config = AutoConfig.from_pretrained(base_model_id, dropout_rate=dropout_rate)\n",
    "\n",
    "model = AutoModelForSeq2SeqLM.from_pretrained(\n",
    "    base_model_id,\n",
    "    config=config\n",
    ")\n",
    "#model"
   ],
   "outputs": [],
   "execution_count": 30
  },
  {
   "cell_type": "code",
   "id": "7b1c50728f2cbab5",
   "metadata": {
    "ExecuteTime": {
     "end_time": "2024-07-16T23:23:18.107085Z",
     "start_time": "2024-07-16T23:23:18.104195Z"
    }
   },
   "source": [
    "model.config"
   ],
   "outputs": [
    {
     "data": {
      "text/plain": [
       "T5Config {\n",
       "  \"_name_or_path\": \"google/flan-t5-small\",\n",
       "  \"architectures\": [\n",
       "    \"T5ForConditionalGeneration\"\n",
       "  ],\n",
       "  \"classifier_dropout\": 0.0,\n",
       "  \"d_ff\": 1024,\n",
       "  \"d_kv\": 64,\n",
       "  \"d_model\": 512,\n",
       "  \"decoder_start_token_id\": 0,\n",
       "  \"dense_act_fn\": \"gelu_new\",\n",
       "  \"dropout_rate\": 0.1,\n",
       "  \"eos_token_id\": 1,\n",
       "  \"feed_forward_proj\": \"gated-gelu\",\n",
       "  \"initializer_factor\": 1.0,\n",
       "  \"is_encoder_decoder\": true,\n",
       "  \"is_gated_act\": true,\n",
       "  \"layer_norm_epsilon\": 1e-06,\n",
       "  \"model_type\": \"t5\",\n",
       "  \"n_positions\": 512,\n",
       "  \"num_decoder_layers\": 8,\n",
       "  \"num_heads\": 6,\n",
       "  \"num_layers\": 8,\n",
       "  \"output_past\": true,\n",
       "  \"pad_token_id\": 0,\n",
       "  \"relative_attention_max_distance\": 128,\n",
       "  \"relative_attention_num_buckets\": 32,\n",
       "  \"task_specific_params\": {\n",
       "    \"summarization\": {\n",
       "      \"early_stopping\": true,\n",
       "      \"length_penalty\": 2.0,\n",
       "      \"max_length\": 200,\n",
       "      \"min_length\": 30,\n",
       "      \"no_repeat_ngram_size\": 3,\n",
       "      \"num_beams\": 4,\n",
       "      \"prefix\": \"summarize: \"\n",
       "    },\n",
       "    \"translation_en_to_de\": {\n",
       "      \"early_stopping\": true,\n",
       "      \"max_length\": 300,\n",
       "      \"num_beams\": 4,\n",
       "      \"prefix\": \"translate English to German: \"\n",
       "    },\n",
       "    \"translation_en_to_fr\": {\n",
       "      \"early_stopping\": true,\n",
       "      \"max_length\": 300,\n",
       "      \"num_beams\": 4,\n",
       "      \"prefix\": \"translate English to French: \"\n",
       "    },\n",
       "    \"translation_en_to_ro\": {\n",
       "      \"early_stopping\": true,\n",
       "      \"max_length\": 300,\n",
       "      \"num_beams\": 4,\n",
       "      \"prefix\": \"translate English to Romanian: \"\n",
       "    }\n",
       "  },\n",
       "  \"tie_word_embeddings\": false,\n",
       "  \"transformers_version\": \"4.42.3\",\n",
       "  \"use_cache\": true,\n",
       "  \"vocab_size\": 32128\n",
       "}"
      ]
     },
     "execution_count": 31,
     "metadata": {},
     "output_type": "execute_result"
    }
   ],
   "execution_count": 31
  },
  {
   "cell_type": "markdown",
   "id": "98d8c8d87d17cd44",
   "metadata": {},
   "source": [
    "# Preprocessing/Evaluation functions"
   ]
  },
  {
   "cell_type": "code",
   "id": "initial_id",
   "metadata": {
    "ExecuteTime": {
     "end_time": "2024-07-16T23:48:54.663441Z",
     "start_time": "2024-07-16T23:48:54.654113Z"
    }
   },
   "source": [
    "from sklearn.metrics import accuracy_score, f1_score, precision_score, recall_score, roc_auc_score, \\\n",
    "    classification_report\n",
    "import nltk\n",
    "from transformers import  DataCollatorForSeq2Seq, Seq2SeqTrainer\n",
    "import numpy as np\n",
    "from nltk import sent_tokenize\n",
    "from typing import List, Tuple\n",
    "from datasets import Dataset\n",
    "\n",
    "\n",
    "def preprocess_function(sample: Dataset, padding: str = \"max_length\") -> dict:\n",
    "    \"\"\"Preprocess the dataset.\"\"\"\n",
    "    inputs = [item for item in sample[\"text\"]]\n",
    "    labels = [item for item in sample[\"labels\"]]\n",
    "\n",
    "    model_inputs = tokenizer(\n",
    "        inputs, max_length=max_source_length, padding=padding, truncation=True\n",
    "    )\n",
    "\n",
    "    labels = tokenizer(\n",
    "        text_target=labels, max_length=max_target_length, padding=padding, truncation=True\n",
    "    )\n",
    "\n",
    "    if padding == \"max_length\":\n",
    "        labels[\"input_ids\"] = [\n",
    "            [(la if la != tokenizer.pad_token_id else -100) for la in label]\n",
    "            for label in labels[\"input_ids\"]\n",
    "        ]\n",
    "\n",
    "    model_inputs[\"labels\"] = labels[\"input_ids\"]\n",
    "    return model_inputs\n",
    "\n",
    "def postprocess_text(labels: List[str], preds: List[str]) -> Tuple[List[str], List[str]]:\n",
    "    \"\"\"Helper function to postprocess text\"\"\"\n",
    "    preds = [pred.strip() for pred in preds]\n",
    "    labels = [label.strip() for label in labels]\n",
    "    preds = [\"\\n\".join(sent_tokenize(pred)) for pred in preds]\n",
    "    labels = [\"\\n\".join(sent_tokenize(label)) for label in labels]\n",
    "    return labels, preds\n",
    "\n",
    "\n",
    "def compute_metrics(eval_predictions):\n",
    "    \n",
    "    y_hat, y = eval_predictions\n",
    "    \n",
    "    # Replace -100 in the labels .\n",
    "    y = np.where(y != -100, y, tokenizer.pad_token_id)\n",
    "    \n",
    "    if isinstance(y_hat, tuple):\n",
    "        y_hat = y_hat[0]\n",
    "        \n",
    "    y_str = tokenizer.batch_decode(y, skip_special_tokens=True)\n",
    "    y_hat_str = tokenizer.batch_decode(y_hat, skip_special_tokens=True)\n",
    "\n",
    "    #print(f'y_str:decoded:::{y_str}')\n",
    "    #print(f'pred_flat:decoded:::{y_hat_str}')\n",
    "    \n",
    "    y_str, y_hat_str = postprocess_text( y_str, y_hat_str)\n",
    "    \n",
    "    #print(f'y_str:post:::{y_str}')\n",
    "    #print(f'y_hat_str:post:::{y_hat_str}')\n",
    "    \n",
    "    # Flatten the list of labels\n",
    "    true_flat = [label.strip() for sublist in [t.split(',') for t in y_str] for label in sublist]\n",
    "    #pred_flat = [label.strip() for sublist in [p.split(',') for p in y_hat_str] for label in sublist]\n",
    "    \n",
    "    #print(f'true_flat:::{true_flat}')\n",
    "    #print(f'pred_flat:::{pred_flat}')\n",
    "    \n",
    "    # Convert to binary format for multi-label metrics\n",
    "    unique_labels = list(set(true_flat))\n",
    "    #print(f'unique_labels:::{unique_labels}')\n",
    "    \n",
    "    # Remove the blank label (no bias)\n",
    "    unique_labels = list([label for label in unique_labels if label != '' and label is not None])\n",
    "    unique_labels = sorted(list(set(unique_labels)))\n",
    "    target_names=sorted(list(set(id2label.values())))\n",
    "    use_auc_roc = len(unique_labels) == len(target_names)\n",
    "\n",
    "    #print(f'unique_labels:::{unique_labels}')\n",
    "    #print(f'target_names:::{target_names}')\n",
    "    \n",
    "    y_true = [[1 if label in t else 0 for label in target_names] for t in y_str]\n",
    "    y_pred = [[1 if label in p else 0 for label in target_names] for p in y_hat_str]\n",
    "\n",
    "    #print(f'y_true:::{y_true}')\n",
    "    #print(f'y_pred:::{y_pred}')\n",
    "    print(classification_report(y_true, y_pred, target_names=target_names))\n",
    "    \n",
    "    # return as dictionary\n",
    "    metrics = {\n",
    "        'accuracy': accuracy_score(y_true=y_true, y_pred=y_pred)\n",
    "    }\n",
    "    \n",
    "    for average in ['micro','macro','samples','weighted']:\n",
    "        metrics[f'f1_{average}'] = f1_score(y_true=y_true, y_pred=y_pred, average=average)\n",
    "        metrics[f'precision_{average}'] = precision_score(y_true=y_true, y_pred=y_pred, average=average)\n",
    "        metrics[f'recall_{average}'] = recall_score(y_true=y_true, y_pred=y_pred, average=average)\n",
    "        if use_auc_roc:\n",
    "            metrics[f'roc_auc_{average}'] = roc_auc_score(y_true=y_true, y_score=y_pred, average=average)\n",
    "    \n",
    "    return metrics\n"
   ],
   "outputs": [],
   "execution_count": 73
  },
  {
   "cell_type": "markdown",
   "id": "24f54a078782e3d2",
   "metadata": {},
   "source": [
    "# Train"
   ]
  },
  {
   "cell_type": "code",
   "id": "62c7dcb25c557604",
   "metadata": {
    "ExecuteTime": {
     "end_time": "2024-07-16T23:48:55.127395Z",
     "start_time": "2024-07-16T23:48:55.084967Z"
    }
   },
   "source": [
    "from transformers import TrainerCallback\n",
    "\n",
    "args = Seq2SeqTrainingArguments(\n",
    "    logging_strategy=\"epoch\",\n",
    "    eval_strategy=\"epoch\",\n",
    "    save_strategy=\"epoch\",\n",
    "    save_total_limit=1,\n",
    "    learning_rate=learning_rate,\n",
    "    output_dir=results_output_dir,\n",
    "    #logging_dir=logging_dir,  # logging & evaluation strategies\n",
    "    per_device_train_batch_size=batch_size,\n",
    "    per_device_eval_batch_size=batch_size,\n",
    "    num_train_epochs=num_train_epochs,\n",
    "    weight_decay=weight_decay,\n",
    "    load_best_model_at_end=True,\n",
    "    metric_for_best_model='loss',\n",
    "    predict_with_generate=True,\n",
    "    fp16=False,  # Overflows with fp16\n",
    "    #report_to=\"tensorboard\",\n",
    "    #push_to_hub=True,\n",
    "    #hub_strategy=\"every_save\",\n",
    "    #hub_model_id=REPOSITORY_ID,\n",
    "    #hub_token=HfFolder.get_token(),\n",
    ")\n",
    "\n",
    "encoded_dataset = dataset.map(\n",
    "    preprocess_function, batched=True, remove_columns=[\"text\", \"labels\"]\n",
    ")\n",
    "print(f\"Keys of tokenized dataset: {list(encoded_dataset['train'].features)}\")\n",
    "\n",
    "nltk.download(\"punkt\")\n",
    "\n",
    "label_pad_token_id = -100\n",
    "data_collator = DataCollatorForSeq2Seq(\n",
    "    tokenizer, model=model, label_pad_token_id=label_pad_token_id, pad_to_multiple_of=8\n",
    ")\n",
    "\n",
    "#early_stop = transformers.EarlyStoppingCallback(10, 1.15)\n",
    "class PrintClassificationCallback(TrainerCallback):\n",
    "    def on_evaluate(self, args, state, control, logs=None, **kwargs):\n",
    "        print(\"----------------------------------------------------------\")\n",
    "\n",
    "\n"
   ],
   "outputs": [
    {
     "name": "stdout",
     "output_type": "stream",
     "text": [
      "Keys of tokenized dataset: ['id', 'labels', 'input_ids', 'attention_mask']\n"
     ]
    },
    {
     "name": "stderr",
     "output_type": "stream",
     "text": [
      "[nltk_data] Downloading package punkt to /home/teveritt/nltk_data...\n",
      "[nltk_data]   Package punkt is already up-to-date!\n"
     ]
    }
   ],
   "execution_count": 74
  },
  {
   "cell_type": "code",
   "id": "3ff9c2bc-60a3-4b1c-8d09-708d67538000",
   "metadata": {
    "ExecuteTime": {
     "end_time": "2024-07-16T23:48:55.636563Z",
     "start_time": "2024-07-16T23:48:55.340511Z"
    }
   },
   "source": [
    "trainer = Seq2SeqTrainer(\n",
    "    model=model,\n",
    "    args=args,\n",
    "    data_collator=data_collator,\n",
    "    train_dataset=encoded_dataset[\"train\"],\n",
    "    eval_dataset=encoded_dataset[\"val\"],\n",
    "    compute_metrics=compute_metrics,\n",
    "    callbacks=[PrintClassificationCallback]\n",
    ")\n",
    "\n",
    "model.config.use_cache = False  # Silence the warnings.\n",
    "\n",
    "!nvidia-smi"
   ],
   "outputs": [
    {
     "name": "stdout",
     "output_type": "stream",
     "text": [
      "Wed Jul 17 00:48:55 2024       \r\n",
      "+---------------------------------------------------------------------------------------+\r\n",
      "| NVIDIA-SMI 535.183.01             Driver Version: 535.183.01   CUDA Version: 12.2     |\r\n",
      "|-----------------------------------------+----------------------+----------------------+\r\n",
      "| GPU  Name                 Persistence-M | Bus-Id        Disp.A | Volatile Uncorr. ECC |\r\n",
      "| Fan  Temp   Perf          Pwr:Usage/Cap |         Memory-Usage | GPU-Util  Compute M. |\r\n",
      "|                                         |                      |               MIG M. |\r\n",
      "|=========================================+======================+======================|\r\n",
      "|   0  NVIDIA RTX A2000 12GB          On  | 00000000:1C:00.0 Off |                  Off |\r\n",
      "| 41%   69C    P2              28W /  70W |   3319MiB / 12282MiB |      2%      Default |\r\n",
      "|                                         |                      |                  N/A |\r\n",
      "+-----------------------------------------+----------------------+----------------------+\r\n",
      "                                                                                         \r\n",
      "+---------------------------------------------------------------------------------------+\r\n",
      "| Processes:                                                                            |\r\n",
      "|  GPU   GI   CI        PID   Type   Process name                            GPU Memory |\r\n",
      "|        ID   ID                                                             Usage      |\r\n",
      "|=======================================================================================|\r\n",
      "|    0   N/A  N/A      3586      G   /usr/lib/xorg/Xorg                            4MiB |\r\n",
      "|    0   N/A  N/A      4520      C   /usr/NX/bin/nxnode.bin                      131MiB |\r\n",
      "|    0   N/A  N/A    187049      C   ...eritt/local/venv/dcu-ai/bin/python3     3172MiB |\r\n",
      "+---------------------------------------------------------------------------------------+\r\n"
     ]
    },
    {
     "name": "stderr",
     "output_type": "stream",
     "text": [
      "huggingface/tokenizers: The current process just got forked, after parallelism has already been used. Disabling parallelism to avoid deadlocks...\n",
      "To disable this warning, you can either:\n",
      "\t- Avoid using `tokenizers` before the fork if possible\n",
      "\t- Explicitly set the environment variable TOKENIZERS_PARALLELISM=(true | false)\n"
     ]
    }
   ],
   "execution_count": 75
  },
  {
   "cell_type": "code",
   "id": "023a8c2b-8df1-44be-b5cc-8e0db55c4a40",
   "metadata": {
    "ExecuteTime": {
     "end_time": "2024-07-16T23:48:59.782606Z",
     "start_time": "2024-07-16T23:48:55.637989Z"
    }
   },
   "source": [
    "trainer.train()"
   ],
   "outputs": [
    {
     "data": {
      "text/plain": [
       "<IPython.core.display.HTML object>"
      ],
      "text/html": [
       "\n",
       "    <div>\n",
       "      \n",
       "      <progress value='3' max='3' style='width:300px; height:20px; vertical-align: middle;'></progress>\n",
       "      [3/3 00:03, Epoch 1/1]\n",
       "    </div>\n",
       "    <table border=\"1\" class=\"dataframe\">\n",
       "  <thead>\n",
       " <tr style=\"text-align: left;\">\n",
       "      <th>Epoch</th>\n",
       "      <th>Training Loss</th>\n",
       "      <th>Validation Loss</th>\n",
       "      <th>Accuracy</th>\n",
       "      <th>F1 Micro</th>\n",
       "      <th>Precision Micro</th>\n",
       "      <th>Recall Micro</th>\n",
       "      <th>F1 Macro</th>\n",
       "      <th>Precision Macro</th>\n",
       "      <th>Recall Macro</th>\n",
       "      <th>F1 Samples</th>\n",
       "      <th>Precision Samples</th>\n",
       "      <th>Recall Samples</th>\n",
       "      <th>F1 Weighted</th>\n",
       "      <th>Precision Weighted</th>\n",
       "      <th>Recall Weighted</th>\n",
       "    </tr>\n",
       "  </thead>\n",
       "  <tbody>\n",
       "    <tr>\n",
       "      <td>1</td>\n",
       "      <td>1.391100</td>\n",
       "      <td>5.604636</td>\n",
       "      <td>0.000000</td>\n",
       "      <td>0.000000</td>\n",
       "      <td>0.000000</td>\n",
       "      <td>0.000000</td>\n",
       "      <td>0.000000</td>\n",
       "      <td>0.000000</td>\n",
       "      <td>0.000000</td>\n",
       "      <td>0.000000</td>\n",
       "      <td>0.000000</td>\n",
       "      <td>0.000000</td>\n",
       "      <td>0.000000</td>\n",
       "      <td>0.000000</td>\n",
       "      <td>0.000000</td>\n",
       "    </tr>\n",
       "  </tbody>\n",
       "</table><p>"
      ]
     },
     "metadata": {},
     "output_type": "display_data"
    },
    {
     "name": "stdout",
     "output_type": "stream",
     "text": [
      "              precision    recall  f1-score   support\n",
      "\n",
      "         age       0.00      0.00      0.00         1\n",
      "  disability       0.00      0.00      0.00         0\n",
      "    feminine       0.00      0.00      0.00         1\n",
      "     general       0.00      0.00      0.00         0\n",
      "   masculine       0.00      0.00      0.00         3\n",
      "     neutral       0.00      0.00      0.00         0\n",
      "      racial       0.00      0.00      0.00         0\n",
      "   sexuality       0.00      0.00      0.00         0\n",
      "\n",
      "   micro avg       0.00      0.00      0.00         5\n",
      "   macro avg       0.00      0.00      0.00         5\n",
      "weighted avg       0.00      0.00      0.00         5\n",
      " samples avg       0.00      0.00      0.00         5\n",
      "\n",
      "----------------------------------------------------------\n"
     ]
    },
    {
     "name": "stderr",
     "output_type": "stream",
     "text": [
      "There were missing keys in the checkpoint model loaded: ['encoder.embed_tokens.weight', 'decoder.embed_tokens.weight'].\n"
     ]
    },
    {
     "data": {
      "text/plain": [
       "TrainOutput(global_step=3, training_loss=1.391081174214681, metrics={'train_runtime': 3.8213, 'train_samples_per_second': 1.308, 'train_steps_per_second': 0.785, 'total_flos': 871361740800.0, 'train_loss': 1.391081174214681, 'epoch': 1.0})"
      ]
     },
     "execution_count": 76,
     "metadata": {},
     "output_type": "execute_result"
    }
   ],
   "execution_count": 76
  },
  {
   "cell_type": "markdown",
   "id": "1b764b5923cd4155",
   "metadata": {},
   "source": [
    "# Evaluate"
   ]
  },
  {
   "cell_type": "code",
   "id": "5bddaea63cf3ddc0",
   "metadata": {
    "ExecuteTime": {
     "end_time": "2024-07-16T23:49:00.193815Z",
     "start_time": "2024-07-16T23:48:59.784842Z"
    }
   },
   "source": [
    "test_results = trainer.evaluate(eval_dataset=encoded_dataset['test'])\n",
    "test_results"
   ],
   "outputs": [
    {
     "data": {
      "text/plain": [
       "<IPython.core.display.HTML object>"
      ],
      "text/html": []
     },
     "metadata": {},
     "output_type": "display_data"
    },
    {
     "name": "stdout",
     "output_type": "stream",
     "text": [
      "              precision    recall  f1-score   support\n",
      "\n",
      "         age       0.00      0.00      0.00         0\n",
      "  disability       0.00      0.00      0.00         2\n",
      "    feminine       0.00      0.00      0.00         1\n",
      "     general       0.00      0.00      0.00         1\n",
      "   masculine       0.00      0.00      0.00         0\n",
      "     neutral       0.00      0.00      0.00         1\n",
      "      racial       0.00      0.00      0.00         0\n",
      "   sexuality       0.00      0.00      0.00         0\n",
      "\n",
      "   micro avg       0.00      0.00      0.00         5\n",
      "   macro avg       0.00      0.00      0.00         5\n",
      "weighted avg       0.00      0.00      0.00         5\n",
      " samples avg       0.00      0.00      0.00         5\n",
      "\n",
      "----------------------------------------------------------\n"
     ]
    },
    {
     "data": {
      "text/plain": [
       "{'eval_loss': 7.552880764007568,\n",
       " 'eval_accuracy': 0.0,\n",
       " 'eval_f1_micro': 0.0,\n",
       " 'eval_precision_micro': 0.0,\n",
       " 'eval_recall_micro': 0.0,\n",
       " 'eval_f1_macro': 0.0,\n",
       " 'eval_precision_macro': 0.0,\n",
       " 'eval_recall_macro': 0.0,\n",
       " 'eval_f1_samples': 0.0,\n",
       " 'eval_precision_samples': 0.0,\n",
       " 'eval_recall_samples': 0.0,\n",
       " 'eval_f1_weighted': 0.0,\n",
       " 'eval_precision_weighted': 0.0,\n",
       " 'eval_recall_weighted': 0.0,\n",
       " 'eval_runtime': 0.3988,\n",
       " 'eval_samples_per_second': 12.539,\n",
       " 'eval_steps_per_second': 7.523,\n",
       " 'epoch': 1.0}"
      ]
     },
     "execution_count": 77,
     "metadata": {},
     "output_type": "execute_result"
    }
   ],
   "execution_count": 77
  },
  {
   "cell_type": "code",
   "id": "dc9f308a-158f-4193-8fe9-3858c7147d0a",
   "metadata": {
    "ExecuteTime": {
     "end_time": "2024-07-17T00:00:36.170478Z",
     "start_time": "2024-07-17T00:00:35.681309Z"
    }
   },
   "source": [
    "y_true = dataset[\"test\"].map(\n",
    "    lambda x: tokenizer(x[\"labels\"], truncation=True, max_length=13, padding='max_length'),\n",
    "    batched=True,\n",
    "    remove_columns=dataset['train'].column_names,\n",
    ")\n",
    "y_true = y_true['input_ids']\n",
    "y_true = np.where(y_true != -100, y_true, tokenizer.pad_token_id)\n",
    "\n",
    "\n",
    "predictions = trainer.predict(encoded_dataset['test'])\n",
    "y_pred = predictions.predictions\n"
   ],
   "outputs": [
    {
     "data": {
      "text/plain": [
       "Map:   0%|          | 0/5 [00:00<?, ? examples/s]"
      ],
      "application/vnd.jupyter.widget-view+json": {
       "version_major": 2,
       "version_minor": 0,
       "model_id": "9dbd16c6c26b4717adae818b196e519c"
      }
     },
     "metadata": {},
     "output_type": "display_data"
    },
    {
     "name": "stdout",
     "output_type": "stream",
     "text": [
      "              precision    recall  f1-score   support\n",
      "\n",
      "         age       0.00      0.00      0.00         0\n",
      "  disability       0.00      0.00      0.00         2\n",
      "    feminine       0.00      0.00      0.00         1\n",
      "     general       0.00      0.00      0.00         1\n",
      "   masculine       0.00      0.00      0.00         0\n",
      "     neutral       0.00      0.00      0.00         1\n",
      "      racial       0.00      0.00      0.00         0\n",
      "   sexuality       0.00      0.00      0.00         0\n",
      "\n",
      "   micro avg       0.00      0.00      0.00         5\n",
      "   macro avg       0.00      0.00      0.00         5\n",
      "weighted avg       0.00      0.00      0.00         5\n",
      " samples avg       0.00      0.00      0.00         5\n",
      "\n"
     ]
    }
   ],
   "execution_count": 78
  },
  {
   "cell_type": "code",
   "id": "ca4710ca-74ec-4f55-852a-4a432f237292",
   "metadata": {
    "ExecuteTime": {
     "end_time": "2024-07-17T00:00:47.621432Z",
     "start_time": "2024-07-17T00:00:47.610342Z"
    }
   },
   "source": [
    "\n",
    "y_str = tokenizer.batch_decode(y_true, skip_special_tokens=True)\n",
    "y_hat_str = tokenizer.batch_decode(y_pred, skip_special_tokens=True)\n",
    "\n",
    "y_str, y_hat_str = postprocess_text(y_str, y_hat_str)\n",
    "\n",
    "# Flatten the list of labels\n",
    "true_flat = [label.strip() for sublist in [t.split(',') for t in y_str] for label in sublist]\n",
    "pred_flat = [label.strip() for sublist in [p.split(',') for p in y_hat_str] for label in sublist]\n",
    "\n",
    "target_names=sorted(list(set(id2label.values())))\n",
    "\n",
    "y_true = [[1 if label in t else 0 for label in target_names] for t in y_str]\n",
    "y_pred = [[1 if label in p else 0 for label in target_names] for p in y_hat_str]\n",
    "\n",
    "report = classification_report(y_true, y_pred, target_names=target_names)\n",
    "\n",
    "#print(report)\n",
    "\n",
    "# Convert to Markdown\n",
    "report_lines = report.split('\\n')\n",
    "markdown_classification_report = \"\\n\".join([f\"    {line}\" for line in report_lines])\n",
    "print(markdown_classification_report)"
   ],
   "outputs": [
    {
     "name": "stdout",
     "output_type": "stream",
     "text": [
      "                  precision    recall  f1-score   support\n",
      "    \n",
      "             age       0.00      0.00      0.00         0\n",
      "      disability       0.00      0.00      0.00         2\n",
      "        feminine       0.00      0.00      0.00         1\n",
      "         general       0.00      0.00      0.00         1\n",
      "       masculine       0.00      0.00      0.00         0\n",
      "         neutral       0.00      0.00      0.00         1\n",
      "          racial       0.00      0.00      0.00         0\n",
      "       sexuality       0.00      0.00      0.00         0\n",
      "    \n",
      "       micro avg       0.00      0.00      0.00         5\n",
      "       macro avg       0.00      0.00      0.00         5\n",
      "    weighted avg       0.00      0.00      0.00         5\n",
      "     samples avg       0.00      0.00      0.00         5\n",
      "    \n"
     ]
    }
   ],
   "execution_count": 79
  },
  {
   "cell_type": "code",
   "execution_count": 192,
   "id": "3d29aa2b5692bf13",
   "metadata": {},
   "outputs": [
    {
     "name": "stdout",
     "output_type": "stream",
     "text": [
      "                 Metric      Value\n",
      "              eval_loss   0.629769\n",
      "          eval_accuracy   0.724596\n",
      "          eval_f1_micro   0.654174\n",
      "          eval_f1_macro   0.664987\n",
      "        eval_f1_samples   0.789110\n",
      "       eval_f1_weighted   0.664126\n",
      "   eval_precision_micro   0.630542\n",
      "   eval_precision_macro   0.663275\n",
      " eval_precision_samples   0.883982\n",
      "eval_precision_weighted   0.662831\n",
      "      eval_recall_micro   0.679646\n",
      "      eval_recall_macro   0.681019\n",
      "    eval_recall_samples   0.863881\n",
      "   eval_recall_weighted   0.679646\n",
      "     eval_roc_auc_micro   0.823293\n",
      "     eval_roc_auc_macro   0.823978\n",
      "           eval_runtime 228.462700\n",
      "eval_samples_per_second   4.609000\n",
      "  eval_steps_per_second   0.578000\n",
      "                  epoch   1.000000\n",
      "                 Metric      Value\n",
      "              eval_loss   0.629769\n",
      "          eval_accuracy   0.724596\n",
      "          eval_f1_micro   0.654174\n",
      "          eval_f1_macro   0.664987\n",
      "        eval_f1_samples   0.789110\n",
      "       eval_f1_weighted   0.664126\n",
      "   eval_precision_micro   0.630542\n",
      "   eval_precision_macro   0.663275\n",
      " eval_precision_samples   0.883982\n",
      "eval_precision_weighted   0.662831\n",
      "      eval_recall_micro   0.679646\n",
      "      eval_recall_macro   0.681019\n",
      "    eval_recall_samples   0.863881\n",
      "   eval_recall_weighted   0.679646\n",
      "     eval_roc_auc_micro   0.823293\n",
      "     eval_roc_auc_macro   0.823978\n",
      "           eval_runtime 228.462700\n",
      "eval_samples_per_second   4.609000\n",
      "  eval_steps_per_second   0.578000\n",
      "                  epoch   1.000000\n"
     ]
    }
   ],
   "source": [
    "import pandas as pd\n",
    "df = pd.DataFrame(list(test_results.items()), columns=['Metric', 'Value'])\n",
    "print(df.to_string(index=False))\n",
    "import pandas as pd\n",
    "df = pd.DataFrame(list(test_results.items()), columns=['Metric', 'Value'])\n",
    "print(df.to_string(index=False))"
   ]
  },
  {
   "cell_type": "code",
   "execution_count": 193,
   "id": "843e92a89b8b7b4d",
   "metadata": {
    "ExecuteTime": {
     "end_time": "2024-07-04T15:15:26.573002Z",
     "start_time": "2024-07-04T15:15:26.543130Z"
    }
   },
   "outputs": [],
   "source": [
    "import torch\n",
    "\n",
    "device = torch.device(\"cuda\" if torch.cuda.is_available() else \"cpu\")\n",
    "model.to(device)\n",
    "\n",
    "def classify_text(text, model, tokenizer, label_columns, device):\n",
    "    input_text = f\"classify: {text}\"\n",
    "    inputs = tokenizer(input_text, return_tensors='pt', padding=True, truncation=True).to(device)\n",
    "    outputs = model.generate(**inputs)\n",
    "    predicted_labels = tokenizer.decode(outputs[0], skip_special_tokens=True)\n",
    "    predicted_labels = [label.strip() for label in predicted_labels.split(',')]\n",
    "    label_dict = {label: False for label in label_columns}\n",
    "    for label in predicted_labels:\n",
    "        if label in label_dict:\n",
    "            label_dict[label] = True\n",
    "    return label_dict"
   ]
  },
  {
   "cell_type": "code",
   "execution_count": 194,
   "id": "d76dd95a6c47d93f",
   "metadata": {
    "ExecuteTime": {
     "end_time": "2024-07-04T15:15:26.594631Z",
     "start_time": "2024-07-04T15:15:26.573803Z"
    }
   },
   "outputs": [
    {
     "data": {
      "text/plain": [
       "{'age': False,\n",
       " 'disability': False,\n",
       " 'masculine': False,\n",
       " 'feminine': False,\n",
       " 'racial': True,\n",
       " 'sexuality': False,\n",
       " 'general': True}"
      ]
     },
     "execution_count": 194,
     "metadata": {},
     "output_type": "execute_result"
    }
   ],
   "source": [
    "text = \"Looking for a native English speaker\"\n",
    "\n",
    "classify_text(text, model, tokenizer, labels, device)"
   ]
  },
  {
   "cell_type": "markdown",
   "id": "d3b121d2c658404",
   "metadata": {},
   "source": [
    "# Push to Hugging Face"
   ]
  },
  {
   "cell_type": "code",
   "execution_count": null,
   "id": "e838e657d0547f5b",
   "metadata": {},
   "outputs": [],
   "source": [
    "model.push_to_hub(repo_id=hub_model_id, token=HfFolder.get_token())\n",
    "tokenizer.push_to_hub(repo_id=hub_model_id, token=HfFolder.get_token())"
   ]
  },
  {
   "metadata": {},
   "cell_type": "markdown",
   "source": "# Update Model Card",
   "id": "7c4a0e5cde228518"
  },
  {
   "metadata": {},
   "cell_type": "code",
   "outputs": [],
   "execution_count": null,
   "source": [
    "from huggingface_hub import ModelCard, EvalResult, ModelCardData\n",
    "import platform\n",
    "import json\n",
    "import sys\n",
    "import os\n",
    "\n",
    "training_regime = []\n",
    "training_regime_args = args.to_sanitized_dict()\n",
    "for k,v in training_regime_args.items():\n",
    "    if (isinstance(v, (int, str, bool, float))\n",
    "            and '_dir' not in k\n",
    "            and 'logging' not in k\n",
    "            and 'log_' not in k\n",
    "            and 'hub_' not in k\n",
    "            and '_hub' not in k\n",
    "            and 'save_' not in k\n",
    "            and 'run_name' not in k\n",
    "            and 'debug' not in k\n",
    "            and 'token' not in k):\n",
    "        training_regime.append(f'{k}={json.dumps(v)}')\n",
    "\n",
    "training_regime = sorted(training_regime)\n",
    "\n",
    "training_regime = ', '.join(training_regime)\n",
    "\n",
    "\n",
    "## Hardware\n",
    "compute_infrastructure = []\n",
    "mem_total = !cat /proc/meminfo | grep MemTotal\n",
    "mem_total = list(set(mem_total))[0]\n",
    "cpu_info = !cat /proc/cpuinfo | grep \"model name\"\n",
    "cpu_count = len(list(cpu_info))\n",
    "cpu_name = list(set(cpu_info))[0]\n",
    "cpu_name = cpu_name.strip()\n",
    "cpu_name = cpu_name.replace('model name\\t:', '')\n",
    "cpu_name = cpu_name.strip()\n",
    "\n",
    "compute_infrastructure.append(f'- {platform.system()} {platform.release()} {platform.processor()}')\n",
    "compute_infrastructure.append(f'- {mem_total}')\n",
    "compute_infrastructure.append(f'- {cpu_count} X {cpu_name}')\n",
    "\n",
    "\n",
    "gpu_name = !nvidia-smi --query-gpu=gpu_name --format=csv,noheader\n",
    "gpus = set()\n",
    "for idx, gpu in enumerate(gpu_name):\n",
    "    compute_infrastructure.append(f\"- GPU_{idx}: {gpu}\")\n",
    "    gpus.add(gpu)\n",
    "\n",
    "gpus =list(gpus)\n",
    "compute_infrastructure = '\\n'.join(compute_infrastructure)\n",
    "hardware_type = f'{len(gpus)} X {gpus[0]}'\n",
    "\n",
    "## Software\n",
    "software_list = !pip list\n",
    "inc_software = []\n",
    "inc_software.append(f'python {platform.python_version()}')\n",
    "\n",
    "for software in software_list:\n",
    "    if software and '[notice]' not in software and '---' not in software and 'Package' not in software:\n",
    "        inc_software.append(' '.join(software.split()))\n",
    " \n",
    "\n",
    "software = \", \".join(inc_software)   \n",
    "\n",
    "hours_used = \"\"\n",
    "eval_results = []\n",
    "for k, v in test_results.items():\n",
    "    metric_type = k.replace(\"eval_\", \"\", 1)\n",
    "    if metric_type == 'runtime':\n",
    "        hours_used = f\"{int(v)/60.0:.2f}\"\n",
    "    eval_results.append(EvalResult(\n",
    "        task_type='multi_label_classification',\n",
    "        dataset_type='mix_human-eval_synthetic',\n",
    "        dataset_name=dataset_id,\n",
    "        metric_type=metric_type,\n",
    "        metric_value=v))\n",
    "\n",
    "direct_use = \"\"\"\n",
    "    ```python\n",
    "    from transformers import pipeline\n",
    "\n",
    "    pipe = pipeline(\"text-classification\", model=\"${hub_model_id}\", return_all_scores=True)\n",
    "\n",
    "    results = pipe(\"Join our dynamic and fast-paced team as a Junior Marketing Specialist. We seek a tech-savvy and energetic individual who thrives in a vibrant environment. Ideal candidates are digital natives with a fresh perspective, ready to adapt quickly to new trends. You should have recent experience in social media strategies and a strong understanding of current digital marketing tools. We're looking for someone with a youthful mindset, eager to bring innovative ideas to our young and ambitious team. If you're a recent graduate or early in your career, this opportunity is perfect for you!\")\n",
    "    print(results)\n",
    "    ```\n",
    "    >> [[\n",
    "    {'label': 'age', 'score': 0.9883460402488708}, \n",
    "    {'label': 'disability', 'score': 0.00787709467113018}, \n",
    "    {'label': 'feminine', 'score': 0.007224376779049635}, \n",
    "    {'label': 'general', 'score': 0.09967829287052155}, \n",
    "    {'label': 'masculine', 'score': 0.0035264550242573023}, \n",
    "    {'label': 'racial', 'score': 0.014618005603551865}, \n",
    "    {'label': 'sexuality', 'score': 0.005568435415625572}\n",
    "    ]]\n",
    "    \"\"\"\n",
    "\n",
    "direct_use = direct_use.replace('${hub_model_id}', hub_model_id, -1)\n",
    "\n",
    "card_data = ModelCardData(\n",
    "    model_id=model_id,\n",
    "    model_name=model_id,\n",
    "    model_description=\"The model is a multi-label classifier designed to detect various types of bias within job descriptions.\",\n",
    "    base_model=base_model_id,\n",
    "    language='en',\n",
    "    license='apache-2.0',\n",
    "    developers=\"Tristan Everitt and Paul Ryan\",\n",
    "    model_card_authors='See developers',\n",
    "    model_card_contact='See developers',\n",
    "    repo=\"https://gitlab.computing.dcu.ie/everitt2/2024-mcm-everitt-ryan\",\n",
    "    training_regime=training_regime,\n",
    "    eval_results=eval_results,\n",
    "    results=markdown_classification_report,\n",
    "    compute_infrastructure=compute_infrastructure,\n",
    "    # hardware_requirements='N/A',\n",
    "    software=software,\n",
    "    hardware_type=hardware_type,\n",
    "    hours_used=hours_used,\n",
    "    cloud_provider='N/A',\n",
    "    cloud_region='N/A',\n",
    "    co2_emitted='N/A',\n",
    "    datasets=[dataset_id],\n",
    "    direct_use=direct_use\n",
    ")\n",
    "\n",
    "card = ModelCard.from_template(card_data)\n",
    "\n",
    "card.push_to_hub(repo_id=hub_model_id, token=HfFolder.get_token())"
   ],
   "id": "5033d518-b2be-40af-9aa9-be9de9729f5b"
  }
 ],
 "metadata": {
  "kernelspec": {
   "display_name": "Python 3 (DCU AI)",
   "language": "python",
   "name": "venv"
  },
  "language_info": {
   "codemirror_mode": {
    "name": "ipython",
    "version": 3
   },
   "file_extension": ".py",
   "mimetype": "text/x-python",
   "name": "python",
   "nbconvert_exporter": "python",
   "pygments_lexer": "ipython3",
   "version": "3.10.12"
  }
 },
 "nbformat": 4,
 "nbformat_minor": 5
}

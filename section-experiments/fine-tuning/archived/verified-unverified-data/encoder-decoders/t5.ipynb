{
 "cells": [
  {
   "metadata": {
    "ExecuteTime": {
     "end_time": "2024-07-04T08:14:59.496157Z",
     "start_time": "2024-07-04T08:14:52.409728Z"
    }
   },
   "cell_type": "code",
   "source": [
    "from datasets import load_dataset\n",
    "\n",
    "hf_site_id = '2024-mcm-everitt-ryan'\n",
    "dataset_id = f'{hf_site_id}/job-bias-synthetic-human-benchmark'\n",
    "\n",
    "\n",
    "dataset = load_dataset(dataset_id)\n",
    "df = dataset['train'].to_pandas()\n",
    "df"
   ],
   "id": "e802fcd6c8bc16b3",
   "execution_count": 1,
   "outputs": []
  },
  {
   "metadata": {
    "ExecuteTime": {
     "end_time": "2024-07-04T08:15:32.551288Z",
     "start_time": "2024-07-04T08:15:01.142300Z"
    }
   },
   "cell_type": "code",
   "source": [
    "import pandas as pd\n",
    "from datasets import Dataset\n",
    "from transformers import T5Tokenizer, T5ForConditionalGeneration, Seq2SeqTrainingArguments, Seq2SeqTrainer\n",
    "\n",
    "# Load your dataset\n",
    "#df = pd.read_parquet('../../../../dataset/final/final-train.parquet')\n",
    "\n",
    "# Define the label columns\n",
    "label_columns = [col for col in df.columns if col.startswith('label_')]\n",
    "\n",
    "# Convert labels to a comma-separated string\n",
    "def labels_to_string(row):\n",
    "    labels = [col for col in label_columns if row[col]]\n",
    "    return ', '.join(labels) if labels else 'none'\n",
    "\n",
    "df['labels'] = df.apply(labels_to_string, axis=1)\n",
    "\n",
    "# Create a Hugging Face Dataset\n",
    "dataset = Dataset.from_pandas(df[['text', 'labels']])\n",
    "\n",
    "# Tokenizer\n",
    "tokenizer = T5Tokenizer.from_pretrained('google/flan-t5-small')\n",
    "\n",
    "def preprocess_function(examples):\n",
    "    inputs = [f\"classify: {text}\" for text in examples['text']]\n",
    "    targets = [labels for labels in examples['labels']]\n",
    "    model_inputs = tokenizer(inputs, max_length=512, padding=True, truncation=True)\n",
    "    labels = tokenizer(targets, max_length=128, padding=True, truncation=True)\n",
    "    model_inputs['labels'] = labels['input_ids']\n",
    "    return model_inputs\n",
    "\n",
    "tokenized_dataset = dataset.map(preprocess_function, batched=True)\n",
    "\n",
    "# Load model\n",
    "model = T5ForConditionalGeneration.from_pretrained('google/flan-t5-small')\n",
    "\n",
    "# Training arguments\n",
    "training_args = Seq2SeqTrainingArguments(\n",
    "    output_dir='./results',\n",
    "    evaluation_strategy=\"epoch\",\n",
    "    learning_rate=2e-5,\n",
    "    per_device_train_batch_size=8,\n",
    "    per_device_eval_batch_size=8,\n",
    "    num_train_epochs=3,\n",
    "    weight_decay=0.01,\n",
    "    save_total_limit=3,\n",
    "    predict_with_generate=True,\n",
    ")\n",
    "\n",
    "# Trainer\n",
    "trainer = Seq2SeqTrainer(\n",
    "    model=model,\n",
    "    args=training_args,\n",
    "    train_dataset=tokenized_dataset,\n",
    "    eval_dataset=tokenized_dataset,  # Split your dataset if possible\n",
    "    tokenizer=tokenizer,\n",
    ")\n",
    "\n",
    "# Train the model\n",
    "trainer.train()\n",
    "\n",
    "# Classification function\n",
    "def classify_text(text, model, tokenizer, label_columns):\n",
    "    input_text = f\"classify: {text}\"\n",
    "    inputs = tokenizer(input_text, return_tensors='pt', padding=True, truncation=True)\n",
    "    outputs = model.generate(**inputs)\n",
    "    predicted_labels = tokenizer.decode(outputs[0], skip_special_tokens=True)\n",
    "    predicted_labels = [label.strip() for label in predicted_labels.split(',')]\n",
    "    label_dict = {label: False for label in label_columns}\n",
    "    for label in predicted_labels:\n",
    "        if label in label_dict:\n",
    "            label_dict[label] = True\n",
    "    return label_dict\n",
    "\n",
    "# Example text\n",
    "text = \"This is an example text that needs classification.\"\n",
    "\n",
    "# Get the predicted labels\n",
    "predicted_labels = classify_text(text, model, tokenizer, label_columns)\n",
    "\n",
    "# Print the predicted labels\n",
    "print(predicted_labels)\n"
   ],
   "id": "1b4bfc03dc2524fd",
   "execution_count": 2,
   "outputs": []
  },
  {
   "metadata": {},
   "cell_type": "code",
   "execution_count": null,
   "source": "",
   "id": "ff35743dff86acce",
   "outputs": []
  }
 ],
 "metadata": {
  "kernelspec": {
   "display_name": "Python 3",
   "language": "python",
   "name": "python3"
  },
  "language_info": {
   "codemirror_mode": {
    "name": "ipython",
    "version": 2
   },
   "file_extension": ".py",
   "mimetype": "text/x-python",
   "name": "python",
   "nbconvert_exporter": "python",
   "pygments_lexer": "ipython2",
   "version": "2.7.6"
  }
 },
 "nbformat": 4,
 "nbformat_minor": 5
}

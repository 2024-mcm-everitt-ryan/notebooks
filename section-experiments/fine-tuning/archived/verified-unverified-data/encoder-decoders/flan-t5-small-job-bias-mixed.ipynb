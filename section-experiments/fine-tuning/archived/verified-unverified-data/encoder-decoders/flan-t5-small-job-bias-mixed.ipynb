{
 "nbformat": 4,
 "nbformat_minor": 0,
 "metadata": {
  "colab": {
   "provenance": [
    {
     "file_id": "11lRAZI7mFLqM21E_ArZb4RaNbwsoctJi",
     "timestamp": 1716992896469
    },
    {
     "file_id": "1RsjucjEMYTqzlMQf0KrOTLDNFMhj89aV",
     "timestamp": 1716989246116
    },
    {
     "file_id": "1W1aMqjkzPR1PNs6kmlJhjUBVtw1KaLYr",
     "timestamp": 1716878732233
    },
    {
     "file_id": "1-trDasFEa0i0AU_FX2LHfBp0Dw9UttFq",
     "timestamp": 1716717012788
    }
   ],
   "machine_shape": "hm",
   "gpuType": "L4"
  },
  "kernelspec": {
   "name": "python3",
   "display_name": "Python 3 (ipykernel)",
   "language": "python"
  },
  "language_info": {
   "name": "python"
  },
  "accelerator": "GPU"
 },
 "cells": [
  {
   "metadata": {
    "id": "UNnYPp0u_W63"
   },
   "cell_type": "markdown",
   "source": [
    "# Setup"
   ]
  },
  {
   "metadata": {
    "ExecuteTime": {
     "end_time": "2024-07-04T00:53:24.567096Z",
     "start_time": "2024-07-04T00:53:24.561622Z"
    }
   },
   "cell_type": "code",
   "source": [
    "import warnings\n",
    "warnings.filterwarnings('ignore')\n",
    "\n",
    "# Base Model\n",
    "base_model_id = \"google/flan-t5-base\"\n",
    "\n",
    "\n",
    "seed = 2024\n",
    "\n",
    "# Training\n",
    "num_train_epochs=10\n",
    "batch_size = 32\n",
    "learning_rate = 5e-5\n",
    "\n",
    "# Regularisation\n",
    "hidden_dropout_prob=0.2\n",
    "attention_probs_dropout_prob=0.0\n",
    "weight_decay=0.001\n",
    "\n",
    "# Evaluation\n",
    "label_threshold=0.5\n",
    "\n",
    "use_lora = True\n",
    "use_fp16 = False #Setting this to true for Flan-T5 causes the nan in output logits. This is where I figured out to try that setting https://github.com/huggingface/transformers/issues/9160#issuecomment-747435463\n",
    "use_gradient_checkpointing = False #True,  # Save some memory at the expense of training\n",
    "# See https://huggingface.co/docs/transformers/main/en/perf_train_gpu_one\n",
    "\n",
    "hf_site_id = '2024-mcm-everitt-ryan'\n",
    "dataset_id = f'{hf_site_id}/job-bias-synthetic-human-benchmark'\n",
    "\n",
    "#dataset_id = f'{hf_site_id}/job-bias-synthetic-human-verified'\n",
    "\n",
    "\n",
    "base_model_name = base_model_id.split('/')[-1]\n",
    "model_id = f'{base_model_name}-job-bias-mixed'\n",
    "hub_model_id = f'{hf_site_id}/{model_id}'"
   ],
   "execution_count": 2,
   "outputs": []
  },
  {
   "cell_type": "code",
   "metadata": {
    "id": "4wxY3x-ZZz8h",
    "ExecuteTime": {
     "end_time": "2024-05-24T10:21:12.596958Z",
     "start_time": "2024-05-24T10:21:10.188604Z"
    }
   },
   "source": "!pip install -q transformers datasets sentencepiece accelerate evaluate peft",
   "execution_count": null,
   "outputs": []
  },
  {
   "metadata": {
    "id": "6lcbDFct_W65"
   },
   "cell_type": "markdown",
   "source": [
    "# Dataset"
   ]
  },
  {
   "cell_type": "code",
   "metadata": {
    "id": "sd1LiXGjZ420",
    "colab": {
     "base_uri": "https://localhost:8080/"
    },
    "executionInfo": {
     "status": "ok",
     "timestamp": 1717007703320,
     "user_tz": -60,
     "elapsed": 3993,
     "user": {
      "displayName": "Paul Ryan",
      "userId": "17638617360224378678"
     }
    },
    "outputId": "42ab4f05-3cbd-4ee4-fb54-43111ff4550d",
    "ExecuteTime": {
     "end_time": "2024-07-04T00:54:18.487723Z",
     "start_time": "2024-07-04T00:54:14.323432Z"
    }
   },
   "source": [
    "from datasets import load_dataset\n",
    "\n",
    "dataset = load_dataset(dataset_id)\n",
    "column_names = dataset['train'].column_names\n",
    "\n",
    "print(f\"Columns: {dataset.num_columns}\")\n",
    "print(f\"Rows: {dataset.num_rows}\")\n",
    "print(f\"Column Names: {column_names}\")"
   ],
   "execution_count": 4,
   "outputs": []
  },
  {
   "cell_type": "code",
   "metadata": {
    "id": "unjuTtKUjZI3",
    "colab": {
     "base_uri": "https://localhost:8080/",
     "height": 70
    },
    "executionInfo": {
     "status": "ok",
     "timestamp": 1717007703321,
     "user_tz": -60,
     "elapsed": 11,
     "user": {
      "displayName": "Paul Ryan",
      "userId": "17638617360224378678"
     }
    },
    "outputId": "0af7a456-fc96-4436-9b56-c65f8310c99f",
    "ExecuteTime": {
     "end_time": "2024-07-04T00:54:18.491501Z",
     "start_time": "2024-07-04T00:54:18.488663Z"
    }
   },
   "source": [
    "example = dataset['train'][0]\n",
    "example['text']"
   ],
   "execution_count": 5,
   "outputs": []
  },
  {
   "metadata": {
    "id": "JdhnN_vb_W67",
    "colab": {
     "base_uri": "https://localhost:8080/"
    },
    "executionInfo": {
     "status": "ok",
     "timestamp": 1717007703321,
     "user_tz": -60,
     "elapsed": 10,
     "user": {
      "displayName": "Paul Ryan",
      "userId": "17638617360224378678"
     }
    },
    "outputId": "734bf65a-33ae-48d4-d238-2873208c254e",
    "ExecuteTime": {
     "end_time": "2024-07-04T00:54:18.509948Z",
     "start_time": "2024-07-04T00:54:18.492043Z"
    }
   },
   "cell_type": "code",
   "source": [
    "text_col = 'text'\n",
    "label_cols = [col for col in column_names if col.startswith('label_')]\n",
    "\n",
    "labels = [label.replace(\"label_\", \"\") for label in label_cols]\n",
    "\n",
    "id2label = {idx: label for idx, label in enumerate(labels)}\n",
    "label2id = {label: idx for idx, label in enumerate(labels)}\n",
    "print(f\"Text column: {text_col}\")\n",
    "print(f\"Label columns: {label_cols}\")\n",
    "print(f\"Labels: {labels}\")"
   ],
   "execution_count": 6,
   "outputs": []
  },
  {
   "metadata": {
    "ExecuteTime": {
     "end_time": "2024-05-24T10:21:13.385822Z",
     "start_time": "2024-05-24T10:21:13.372809Z"
    },
    "id": "_MbhQXY__W68"
   },
   "cell_type": "code",
   "source": [
    "# Remove all columns apart from the two needed for multi-class classification\n",
    "keep_columns = ['context_id', 'synthetic', text_col] + label_cols\n",
    "for split in [\"train\", \"val\", \"test\"]:\n",
    "    dataset[split] = dataset[split].remove_columns(\n",
    "        [col for col in dataset[split].column_names if col not in keep_columns])\n"
   ],
   "execution_count": null,
   "outputs": []
  },
  {
   "metadata": {
    "ExecuteTime": {
     "end_time": "2024-05-24T10:21:13.420920Z",
     "start_time": "2024-05-24T10:21:13.387213Z"
    },
    "id": "hteBdMHG_W68",
    "colab": {
     "base_uri": "https://localhost:8080/"
    },
    "executionInfo": {
     "status": "ok",
     "timestamp": 1717007703321,
     "user_tz": -60,
     "elapsed": 8,
     "user": {
      "displayName": "Paul Ryan",
      "userId": "17638617360224378678"
     }
    },
    "outputId": "dd4deefd-aebd-4ca8-eb10-447db9101d3e"
   },
   "cell_type": "code",
   "source": [
    "import pandas as pd\n",
    "\n",
    "# Merge train,val, test into one dataframe\n",
    "df = pd.concat([\n",
    "    dataset['train'].to_pandas(),\n",
    "    dataset['val'].to_pandas(),\n",
    "    dataset['test'].to_pandas()])\n",
    "\n",
    "print(f\"{df.synthetic.value_counts().to_string()}\")\n",
    "for col in label_cols:\n",
    "    print(f\"\\n{df[col].value_counts().to_string()}\")"
   ],
   "execution_count": null,
   "outputs": []
  },
  {
   "metadata": {
    "ExecuteTime": {
     "end_time": "2024-05-24T10:21:13.426186Z",
     "start_time": "2024-05-24T10:21:13.421840Z"
    },
    "id": "-LYF8zup_W68",
    "colab": {
     "base_uri": "https://localhost:8080/",
     "height": 157
    },
    "executionInfo": {
     "status": "ok",
     "timestamp": 1717007703321,
     "user_tz": -60,
     "elapsed": 7,
     "user": {
      "displayName": "Paul Ryan",
      "userId": "17638617360224378678"
     }
    },
    "outputId": "fd45000d-c5e3-49a5-8f81-53c9eb7f9362"
   },
   "cell_type": "code",
   "source": [
    "# Longest phrase\n",
    "longest_text = df[text_col].apply(lambda x: (len(x), x)).max()[1]\n",
    "longest_text"
   ],
   "execution_count": null,
   "outputs": []
  },
  {
   "metadata": {
    "ExecuteTime": {
     "end_time": "2024-05-24T10:21:14.219078Z",
     "start_time": "2024-05-24T10:21:13.426905Z"
    },
    "id": "7slhtNI2_W69",
    "colab": {
     "base_uri": "https://localhost:8080/"
    },
    "executionInfo": {
     "status": "ok",
     "timestamp": 1717007706364,
     "user_tz": -60,
     "elapsed": 3049,
     "user": {
      "displayName": "Paul Ryan",
      "userId": "17638617360224378678"
     }
    },
    "outputId": "c903f01e-38a7-4d05-cd7c-477498eec2d7"
   },
   "cell_type": "code",
   "source": [
    "from transformers import AutoTokenizer\n",
    "from transformers import T5ForConditionalGeneration, T5Tokenizer\n",
    "\n",
    "#tokenizer = AutoTokenizer.from_pretrained(base_model_id, add_prefix_space=True)\n",
    "tokenizer = T5Tokenizer.from_pretrained(base_model_id, add_prefix_space=True)\n",
    "#tokenizer.pad_token_id = tokenizer.eos_token_id\n",
    "#tokenizer.pad_token = tokenizer.eos_token\n",
    "\n",
    "tokenizer"
   ],
   "execution_count": null,
   "outputs": []
  },
  {
   "metadata": {
    "ExecuteTime": {
     "end_time": "2024-05-24T10:21:14.224433Z",
     "start_time": "2024-05-24T10:21:14.219811Z"
    },
    "id": "JkJ0qxta_W69",
    "colab": {
     "base_uri": "https://localhost:8080/"
    },
    "executionInfo": {
     "status": "ok",
     "timestamp": 1717007706364,
     "user_tz": -60,
     "elapsed": 10,
     "user": {
      "displayName": "Paul Ryan",
      "userId": "17638617360224378678"
     }
    },
    "outputId": "891b75eb-435a-4305-806d-5bb69b86673b"
   },
   "cell_type": "code",
   "source": [
    "max_char = len(longest_text)\n",
    "max_words = len(longest_text.split())\n",
    "max_tokens = len(tokenizer.encode(longest_text))\n",
    "\n",
    "print(f'Max characters: {max_char}')\n",
    "print(f'Max words: {max_words}')\n",
    "print(f'Max tokens: {max_tokens}')"
   ],
   "execution_count": null,
   "outputs": []
  },
  {
   "metadata": {
    "ExecuteTime": {
     "end_time": "2024-05-24T10:21:14.235782Z",
     "start_time": "2024-05-24T10:21:14.225712Z"
    },
    "id": "qI7uNnBu_W69",
    "colab": {
     "base_uri": "https://localhost:8080/"
    },
    "executionInfo": {
     "status": "ok",
     "timestamp": 1717007706364,
     "user_tz": -60,
     "elapsed": 6,
     "user": {
      "displayName": "Paul Ryan",
      "userId": "17638617360224378678"
     }
    },
    "outputId": "9699dc79-cc32-4db3-f849-44fc4e0bc3d0"
   },
   "cell_type": "code",
   "source": [
    "tokenizer_max_length = min(max_tokens, tokenizer.model_max_length)\n",
    "tokenizer_max_length"
   ],
   "execution_count": null,
   "outputs": []
  },
  {
   "cell_type": "code",
   "metadata": {
    "id": "AFWlSsbZaRLc",
    "ExecuteTime": {
     "end_time": "2024-05-24T10:21:14.239449Z",
     "start_time": "2024-05-24T10:21:14.236391Z"
    }
   },
   "source": [
    "import numpy as np\n",
    "\n",
    "\n",
    "def preprocess_data(sample):\n",
    "    # take a batch of texts\n",
    "    text = sample[text_col]\n",
    "    # encode them\n",
    "    encoding = tokenizer(text, truncation=True, max_length=tokenizer_max_length, padding=\"max_length\", return_tensors='pt')\n",
    "    #encoding = tokenizer(text, truncation=True, max_length=tokenizer_max_length, padding=True)\n",
    "    # add labels\n",
    "    labels_batch = {k: sample[k] for k in sample.keys() if k in label_cols}\n",
    "    # create numpy array of shape (batch_size, num_labels)\n",
    "    labels_matrix = np.zeros((len(text), len(label_cols)))\n",
    "    # fill numpy array\n",
    "    for idx, label in enumerate(label_cols):\n",
    "        labels_matrix[:, idx] = labels_batch[label]\n",
    "\n",
    "    encoding[\"labels\"] = labels_matrix.tolist()\n",
    "\n",
    "    return encoding"
   ],
   "execution_count": null,
   "outputs": []
  },
  {
   "cell_type": "code",
   "metadata": {
    "id": "i4ENBTdulBEI",
    "ExecuteTime": {
     "end_time": "2024-05-24T10:21:14.438640Z",
     "start_time": "2024-05-24T10:21:14.240136Z"
    }
   },
   "source": [
    "#ds_train = ds_train.map(tokenize, batched=True, batch_size=len(ds_train))\n",
    "encoded_dataset = dataset.map(preprocess_data, batched=True, remove_columns=dataset['train'].column_names)"
   ],
   "execution_count": null,
   "outputs": []
  },
  {
   "cell_type": "code",
   "metadata": {
    "id": "0enAb0W9o25W",
    "ExecuteTime": {
     "end_time": "2024-05-24T10:21:14.442739Z",
     "start_time": "2024-05-24T10:21:14.439339Z"
    },
    "colab": {
     "base_uri": "https://localhost:8080/"
    },
    "executionInfo": {
     "status": "ok",
     "timestamp": 1717007706364,
     "user_tz": -60,
     "elapsed": 4,
     "user": {
      "displayName": "Paul Ryan",
      "userId": "17638617360224378678"
     }
    },
    "outputId": "4b974e87-36e4-4099-8dde-89aab29909ce"
   },
   "source": [
    "example = encoded_dataset['train'][0]\n",
    "print(example.keys())"
   ],
   "execution_count": null,
   "outputs": []
  },
  {
   "cell_type": "code",
   "metadata": {
    "id": "D0McCtJ8HRJY",
    "ExecuteTime": {
     "end_time": "2024-05-24T10:21:15.608384Z",
     "start_time": "2024-05-24T10:21:14.443708Z"
    },
    "colab": {
     "base_uri": "https://localhost:8080/",
     "height": 157
    },
    "executionInfo": {
     "status": "ok",
     "timestamp": 1717007709223,
     "user_tz": -60,
     "elapsed": 2862,
     "user": {
      "displayName": "Paul Ryan",
      "userId": "17638617360224378678"
     }
    },
    "outputId": "b7875c38-4b8b-45c4-de4b-a6d17c1753a2"
   },
   "source": [
    "tokenizer.decode(example['input_ids'])"
   ],
   "execution_count": null,
   "outputs": []
  },
  {
   "cell_type": "code",
   "metadata": {
    "id": "VdIvj6WjHeZQ",
    "ExecuteTime": {
     "end_time": "2024-05-24T10:21:15.611490Z",
     "start_time": "2024-05-24T10:21:15.609054Z"
    },
    "colab": {
     "base_uri": "https://localhost:8080/"
    },
    "executionInfo": {
     "status": "ok",
     "timestamp": 1717007709223,
     "user_tz": -60,
     "elapsed": 4,
     "user": {
      "displayName": "Paul Ryan",
      "userId": "17638617360224378678"
     }
    },
    "outputId": "01408365-2323-4912-a7d7-8628c0b03ab2"
   },
   "source": [
    "example['labels']"
   ],
   "execution_count": null,
   "outputs": []
  },
  {
   "cell_type": "code",
   "metadata": {
    "id": "q4Dx95t2o6N9",
    "ExecuteTime": {
     "end_time": "2024-05-24T10:21:15.627440Z",
     "start_time": "2024-05-24T10:21:15.612426Z"
    },
    "colab": {
     "base_uri": "https://localhost:8080/"
    },
    "executionInfo": {
     "status": "ok",
     "timestamp": 1717007709223,
     "user_tz": -60,
     "elapsed": 3,
     "user": {
      "displayName": "Paul Ryan",
      "userId": "17638617360224378678"
     }
    },
    "outputId": "eb58cf82-5791-474a-cef7-1d472112f653"
   },
   "source": [
    "[id2label[idx] for idx, label in enumerate(example['labels']) if label == 1.0]"
   ],
   "execution_count": null,
   "outputs": []
  },
  {
   "cell_type": "code",
   "metadata": {
    "id": "Lk6Cq9duKBkA",
    "ExecuteTime": {
     "end_time": "2024-05-24T10:21:15.631744Z",
     "start_time": "2024-05-24T10:21:15.628063Z"
    }
   },
   "source": [
    "encoded_dataset.set_format(\"torch\")"
   ],
   "execution_count": null,
   "outputs": []
  },
  {
   "cell_type": "markdown",
   "metadata": {
    "id": "w5qSmCgWefWs"
   },
   "source": [
    "# Model\n",
    "\n",
    "Here we define a model that includes a pre-trained base (i.e. the weights) are loaded, with a random initialized classification head (linear layer) on top. One should fine-tune this head, together with the pre-trained base on a labeled dataset.\n",
    "\n",
    "This is also printed by the warning.\n",
    "\n",
    "We set the `problem_type` to be \"multi_label_classification\", as this will make sure the appropriate loss function is used (namely [`BCEWithLogitsLoss`](https://pytorch.org/docs/stable/generated/torch.nn.BCEWithLogitsLoss.html)). We also make sure the output layer has `len(label_cols)` output neurons, and we set the id2label and label2id mappings."
   ]
  },
  {
   "cell_type": "code",
   "metadata": {
    "id": "6XPL1Z_RegBF",
    "ExecuteTime": {
     "end_time": "2024-05-24T10:21:17.136876Z",
     "start_time": "2024-05-24T10:21:15.632343Z"
    },
    "executionInfo": {
     "status": "ok",
     "timestamp": 1717007709556,
     "user_tz": -60,
     "elapsed": 335,
     "user": {
      "displayName": "Paul Ryan",
      "userId": "17638617360224378678"
     }
    },
    "colab": {
     "base_uri": "https://localhost:8080/"
    },
    "outputId": "96aaf420-7ee3-4e5a-cde2-eeeb9a1094b5"
   },
   "source": [
    "from transformers import AutoModelForSequenceClassification\n",
    "from transformers import AutoModelForSeq2SeqLM\n",
    "\n",
    "model = AutoModelForSeq2SeqLM.from_pretrained(base_model_id,\n",
    "                                                           problem_type=\"multi_label_classification\",\n",
    "                                                           num_labels=len(label_cols),\n",
    "#                                                           device_map=\"auto\",\n",
    "                                                           id2label=id2label,\n",
    "                                                           label2id=label2id)\n",
    "model"
   ],
   "execution_count": null,
   "outputs": []
  },
  {
   "metadata": {
    "ExecuteTime": {
     "end_time": "2024-05-24T10:21:17.142273Z",
     "start_time": "2024-05-24T10:21:17.138307Z"
    },
    "id": "FR4Xl-pO_W6_",
    "executionInfo": {
     "status": "ok",
     "timestamp": 1717007709557,
     "user_tz": -60,
     "elapsed": 5,
     "user": {
      "displayName": "Paul Ryan",
      "userId": "17638617360224378678"
     }
    },
    "colab": {
     "base_uri": "https://localhost:8080/"
    },
    "outputId": "d911bc25-7a3c-4cc6-8607-d78e76cbbe1a"
   },
   "cell_type": "code",
   "source": [
    "model.config.pad_token_id = model.config.eos_token_id\n",
    "model.config"
   ],
   "execution_count": null,
   "outputs": []
  },
  {
   "metadata": {
    "ExecuteTime": {
     "end_time": "2024-05-24T10:21:17.364549Z",
     "start_time": "2024-05-24T10:21:17.143231Z"
    },
    "id": "NL0QHa21_W6_",
    "executionInfo": {
     "status": "ok",
     "timestamp": 1717007710504,
     "user_tz": -60,
     "elapsed": 949,
     "user": {
      "displayName": "Paul Ryan",
      "userId": "17638617360224378678"
     }
    },
    "colab": {
     "base_uri": "https://localhost:8080/"
    },
    "outputId": "ac803d86-73ad-46a2-ba81-eef7512cc74f"
   },
   "cell_type": "code",
   "source": [
    "from peft import get_peft_model, LoraConfig, TaskType\n",
    "\n",
    "if use_lora:\n",
    "    peft_config = LoraConfig(\n",
    "        task_type=TaskType.SEQ_CLS, lora_alpha=16, lora_dropout=0.1, bias=\"none\",\n",
    "        r=16,\n",
    "#        target_modules='all-linear'\n",
    "#        target_modules=[\n",
    "#            \"q_proj\",\n",
    "#            \"v_proj\",\n",
    "#        ],\n",
    "    )\n",
    "    model = get_peft_model(model, peft_config)\n",
    "    model.print_trainable_parameters()\n",
    "model.enable_input_require_grads()\n"
   ],
   "execution_count": null,
   "outputs": []
  },
  {
   "cell_type": "markdown",
   "metadata": {
    "id": "fxNo4_TsvzDm"
   },
   "source": [
    "Let's verify a batch as well as a forward pass:"
   ]
  },
  {
   "cell_type": "code",
   "metadata": {
    "id": "IlOgGiojuWwG",
    "ExecuteTime": {
     "end_time": "2024-05-24T10:21:17.382693Z",
     "start_time": "2024-05-24T10:21:17.369469Z"
    },
    "executionInfo": {
     "status": "ok",
     "timestamp": 1717007710504,
     "user_tz": -60,
     "elapsed": 4,
     "user": {
      "displayName": "Paul Ryan",
      "userId": "17638617360224378678"
     }
    },
    "colab": {
     "base_uri": "https://localhost:8080/"
    },
    "outputId": "47b92c96-1ad2-47d6-9975-9611014b7d93"
   },
   "source": [
    "encoded_dataset['train'][0]['labels']"
   ],
   "execution_count": null,
   "outputs": []
  },
  {
   "cell_type": "code",
   "metadata": {
    "id": "Y41Kre_jvD7x",
    "ExecuteTime": {
     "end_time": "2024-05-24T10:21:17.404317Z",
     "start_time": "2024-05-24T10:21:17.383363Z"
    },
    "executionInfo": {
     "status": "ok",
     "timestamp": 1717007710504,
     "user_tz": -60,
     "elapsed": 3,
     "user": {
      "displayName": "Paul Ryan",
      "userId": "17638617360224378678"
     }
    },
    "colab": {
     "base_uri": "https://localhost:8080/"
    },
    "outputId": "c00789d0-e82c-47d4-d5c8-85007c4ccde8"
   },
   "source": [
    "encoded_dataset['train']['input_ids'][0]"
   ],
   "execution_count": null,
   "outputs": []
  },
  {
   "cell_type": "code",
   "metadata": {
    "id": "sxWcnZ8ku12V",
    "ExecuteTime": {
     "end_time": "2024-05-24T10:21:17.751779Z",
     "start_time": "2024-05-24T10:21:17.405158Z"
    },
    "executionInfo": {
     "status": "ok",
     "timestamp": 1717007710906,
     "user_tz": -60,
     "elapsed": 404,
     "user": {
      "displayName": "Paul Ryan",
      "userId": "17638617360224378678"
     }
    },
    "colab": {
     "base_uri": "https://localhost:8080/"
    },
    "outputId": "8e5e369d-2968-4a4f-9915-76758439c51e"
   },
   "source": [
    "#forward pass\n",
    "outputs = model(input_ids=encoded_dataset['train']['input_ids'][0].unsqueeze(0),\n",
    "                labels=encoded_dataset['train'][0]['labels'].unsqueeze(0))\n",
    "outputs"
   ],
   "execution_count": null,
   "outputs": []
  },
  {
   "cell_type": "code",
   "source": [
    "from transformers import pipeline\n",
    "pipe2 = pipeline(task=\"text-classification\", model=model, tokenizer=tokenizer, top_k=3)\n",
    "pipe2([\n",
    "    \"Candidate must be dynamic, energetic and flexible.\",\n",
    "    \"Role is suitable for a strong able-bodied person cabable of being on their feet for long hours\",\n",
    "    \"The preferred candidate is English-speaking.\"])"
   ],
   "metadata": {
    "colab": {
     "base_uri": "https://localhost:8080/"
    },
    "id": "zx1vpXcTg4zd",
    "executionInfo": {
     "status": "ok",
     "timestamp": 1717007711626,
     "user_tz": -60,
     "elapsed": 721,
     "user": {
      "displayName": "Paul Ryan",
      "userId": "17638617360224378678"
     }
    },
    "outputId": "9c835187-0ac8-4f3a-beb2-6835342b86e4"
   },
   "execution_count": null,
   "outputs": []
  },
  {
   "metadata": {
    "id": "PIhJUMGq_W7A"
   },
   "cell_type": "markdown",
   "source": [
    "# Define Metrics"
   ]
  },
  {
   "metadata": {
    "ExecuteTime": {
     "end_time": "2024-05-24T10:21:18.065316Z",
     "start_time": "2024-05-24T10:21:17.752526Z"
    },
    "id": "ojpdV2uo_W7A"
   },
   "cell_type": "code",
   "source": [
    "from sklearn.metrics import f1_score, precision_score, recall_score, roc_auc_score, accuracy_score\n",
    "from transformers import EvalPrediction\n",
    "import torch\n",
    "\n",
    "\n",
    "# source: https://jesusleal.io/2021/04/21/Longformer-multilabel-classification/\n",
    "# added extras\n",
    "def multi_label_metrics(predictions, labels, threshold=0.5):\n",
    "    # first, apply sigmoid on predictions which are of shape (batch_size, num_labels)\n",
    "    sigmoid = torch.nn.Sigmoid()\n",
    "    probs = sigmoid(torch.Tensor(predictions))\n",
    "    # next, use threshold to turn them into integer predictions\n",
    "    y_pred = np.zeros(probs.shape)\n",
    "    y_pred[np.where(probs >= threshold)] = 1\n",
    "    # finally, compute metrics\n",
    "    y_true = labels\n",
    "\n",
    "    accuracy = accuracy_score(y_true=y_true, y_pred=y_pred)\n",
    "\n",
    "    f1_micro = f1_score(y_true=y_true, y_pred=y_pred, average='micro')\n",
    "    f1_macro = f1_score(y_true=y_true, y_pred=y_pred, average='macro')\n",
    "    f1_samples = f1_score(y_true=y_true, y_pred=y_pred, average='samples')\n",
    "    f1_weighted = f1_score(y_true=y_true, y_pred=y_pred, average='weighted')\n",
    "\n",
    "    precision_micro = precision_score(y_true=y_true, y_pred=y_pred, average='micro')\n",
    "    recall_micro = recall_score(y_true=y_true, y_pred=y_pred, average='micro')\n",
    "    roc_auc_micro = roc_auc_score(y_true=y_true, y_score=y_pred, average='micro')\n",
    "    # return as dictionary\n",
    "    metrics = {\n",
    "        'accuracy': accuracy,\n",
    "        f'f1_micro': f1_micro,\n",
    "        f'f1_macro': f1_macro,\n",
    "        f'f1_samples': f1_samples,\n",
    "        f'f1_weighted': f1_weighted,\n",
    "        f'precision_micro': precision_micro,\n",
    "        f'recall_micro': recall_micro,\n",
    "        f'roc_auc_micro': roc_auc_micro}\n",
    "    return metrics\n",
    "\n",
    "\n",
    "def compute_metrics(p: EvalPrediction):\n",
    "    preds = p.predictions[0] if isinstance(p.predictions, tuple) else p.predictions\n",
    "    result = multi_label_metrics(\n",
    "        predictions=preds,\n",
    "        labels=p.label_ids)\n",
    "    return result"
   ],
   "execution_count": null,
   "outputs": []
  },
  {
   "cell_type": "markdown",
   "metadata": {
    "id": "f-X2brZcv0X6"
   },
   "source": [
    "# Train"
   ]
  },
  {
   "cell_type": "code",
   "metadata": {
    "id": "KXmFds8js6P8",
    "ExecuteTime": {
     "end_time": "2024-05-24T10:49:47.418670Z",
     "start_time": "2024-05-24T10:21:18.066341Z"
    },
    "executionInfo": {
     "status": "ok",
     "timestamp": 1717009204122,
     "user_tz": -60,
     "elapsed": 1492498,
     "user": {
      "displayName": "Paul Ryan",
      "userId": "17638617360224378678"
     }
    },
    "colab": {
     "base_uri": "https://localhost:8080/",
     "height": 1000
    },
    "outputId": "2694980a-aeec-491c-b2bc-b3d2dd5595b8"
   },
   "source": [
    "from transformers import TrainingArguments, Trainer, DataCollatorWithPadding, DataCollatorForSeq2Seq\n",
    "from huggingface_hub import HfFolder\n",
    "\n",
    "batch_size = 16\n",
    "gradient_accumulation_steps=4\n",
    "metric_name = \"f1_micro\"\n",
    "optimiser = 'paged_adamw_8bit'  # Use paged optimizer to save memory\n",
    "#learning_rate = 1e-5  # Use value slightly smaller than pretraining lr value & close to LoRA standard\n",
    "#learning_rate = 5e-5\n",
    "learning_rate = 1e-3\n",
    "epochs=10\n",
    "\n",
    "#model = model.cuda()\n",
    "\n",
    "args = TrainingArguments(\n",
    "    model_id,\n",
    "    evaluation_strategy=\"epoch\",\n",
    "    save_strategy=\"epoch\",\n",
    "    save_total_limit=3, #to prevent running out of disk space\n",
    "    learning_rate=learning_rate,\n",
    "    #optim=optimiser,\n",
    "    #lr_scheduler_type=\"cosine\",\n",
    "    per_device_train_batch_size=batch_size,\n",
    "    per_device_eval_batch_size=batch_size,\n",
    "    gradient_accumulation_steps=gradient_accumulation_steps,\n",
    "    num_train_epochs=epochs,\n",
    "    weight_decay=0.01,\n",
    "    #weight_decay=0.001,\n",
    "    load_best_model_at_end=True,\n",
    "    metric_for_best_model=metric_name,\n",
    "    fp16=use_fp16,\n",
    "    gradient_checkpointing=use_gradient_checkpointing,\n",
    "    #push_to_hub=True,\n",
    "    #output_dir=repository_id,\n",
    "    #logging_dir=f\"{model_id}/logs\",\n",
    "    #logging_strategy=\"steps\",\n",
    "    logging_steps=10,\n",
    "    #warmup_steps=500,\n",
    "    #warmup_ratio=0.1,\n",
    "    #max_grad_norm=0.3,\n",
    "    #save_total_limit=2,\n",
    "    #report_to=\"tensorboard\",\n",
    "    #push_to_hub=True,\n",
    "    #hub_strategy=\"every_save\",\n",
    "    #hub_model_id=hub_model_id,\n",
    "    #hub_token=HfFolder.get_token(),\n",
    ")\n",
    "\n",
    "#early_stop = transformers.EarlyStoppingCallback(10, 1.15)\n",
    "\n",
    "trainer = Trainer(\n",
    "    model=model,\n",
    "    args=args,\n",
    "    train_dataset=encoded_dataset[\"train\"],\n",
    "    eval_dataset=encoded_dataset[\"val\"],\n",
    "    # For padding a batch of examples to the maximum length seen in the batch\n",
    "    #data_collator=DataCollatorWithPadding(tokenizer=tokenizer),\n",
    "    data_collator = DataCollatorForSeq2Seq(tokenizer=tokenizer, model=model),\n",
    "    compute_metrics=compute_metrics,\n",
    "    #tokenizer=tokenizer,\n",
    "    #   callbacks=[early_stop]\n",
    ")\n",
    "\n",
    "model.config.use_cache = False  # Silence the warnings.\n",
    "model.config.pad_token_id = model.config.eos_token_id\n",
    "if not use_lora:\n",
    "    # Freeze the pre-trained model's parameters\n",
    "    for param in model.base_model.parameters():\n",
    "        param.requires_grad = False\n",
    "\n",
    "trainer.train()"
   ],
   "execution_count": null,
   "outputs": []
  },
  {
   "metadata": {
    "id": "O-kfVcpY_W7B"
   },
   "cell_type": "markdown",
   "source": [
    "# Evaluate"
   ]
  },
  {
   "cell_type": "code",
   "metadata": {
    "id": "cMlebJ83LRYG",
    "ExecuteTime": {
     "end_time": "2024-05-24T10:50:14.310393Z",
     "start_time": "2024-05-24T10:49:47.419402Z"
    },
    "executionInfo": {
     "status": "ok",
     "timestamp": 1717009216822,
     "user_tz": -60,
     "elapsed": 12711,
     "user": {
      "displayName": "Paul Ryan",
      "userId": "17638617360224378678"
     }
    },
    "colab": {
     "base_uri": "https://localhost:8080/",
     "height": 92
    },
    "outputId": "1760e623-f93b-49d9-e9d3-3e20e11f1542"
   },
   "source": [
    "test_results = trainer.evaluate(eval_dataset=encoded_dataset['test'])"
   ],
   "execution_count": null,
   "outputs": []
  },
  {
   "metadata": {
    "ExecuteTime": {
     "end_time": "2024-05-24T10:50:14.314565Z",
     "start_time": "2024-05-24T10:50:14.311974Z"
    },
    "id": "SkOpc_50_W7B",
    "executionInfo": {
     "status": "ok",
     "timestamp": 1717009216822,
     "user_tz": -60,
     "elapsed": 15,
     "user": {
      "displayName": "Paul Ryan",
      "userId": "17638617360224378678"
     }
    },
    "colab": {
     "base_uri": "https://localhost:8080/"
    },
    "outputId": "52dba5b2-8c9a-424e-db72-dd0187e8dd58"
   },
   "cell_type": "code",
   "source": [
    "print(f'evaluation (test) results: {test_results}')"
   ],
   "execution_count": null,
   "outputs": []
  },
  {
   "metadata": {
    "ExecuteTime": {
     "end_time": "2024-05-24T10:50:14.331642Z",
     "start_time": "2024-05-24T10:50:14.315272Z"
    },
    "id": "8XqYbI-h_W7F",
    "executionInfo": {
     "status": "ok",
     "timestamp": 1717009216822,
     "user_tz": -60,
     "elapsed": 12,
     "user": {
      "displayName": "Paul Ryan",
      "userId": "17638617360224378678"
     }
    },
    "colab": {
     "base_uri": "https://localhost:8080/"
    },
    "outputId": "bf84f492-3dd6-4595-cd7e-c4a91f56e435"
   },
   "cell_type": "code",
   "source": [
    "import pandas as pd\n",
    "df = pd.DataFrame(list(test_results.items()), columns=['Metric', 'Value'])\n",
    "print(df.to_string(index=False))"
   ],
   "execution_count": null,
   "outputs": []
  },
  {
   "cell_type": "code",
   "source": [
    "# Function to free up memory\n",
    "def free_up_memory():\n",
    "    torch.cuda.empty_cache()\n",
    "    torch.cuda.ipc_collect()\n",
    "    import gc\n",
    "    gc.collect()\n",
    "\n",
    "# Ensure model is in evaluation mode\n",
    "model.eval()\n",
    "\n",
    "# Move model to the appropriate device (GPU or CPU)\n",
    "device = torch.device('cuda' if torch.cuda.is_available() else 'cpu')\n",
    "model.to(device)\n",
    "\n",
    "# Free up memory\n",
    "free_up_memory()\n"
   ],
   "metadata": {
    "id": "ti-oia4YFcN8"
   },
   "execution_count": null,
   "outputs": []
  },
  {
   "cell_type": "code",
   "source": [
    "#The following contains age and disability bias\n",
    "text = \"Responsibilities: Oversee daily warehouse operations, including receiving, storing, and distributing products. Manage inventory control processes and ensure accurate record-keeping. Develop and implement warehouse policies and procedures to improve efficiency and safety. Lead and mentor a team of warehouse staff, fostering a positive and productive work environment. Coordinate with other departments to ensure smooth workflow and timely order fulfillment. Monitor performance metrics and prepare reports for senior management. Ensure compliance with health and safety regulations. Requirements: Bachelor's degree in logistics, supply chain management, or a related field. Minimum of 5 years of experience in warehouse management. Strong leadership and organizational skills. Excellent communication and interpersonal skills. Proficiency in warehouse management software and Microsoft Office Suite. Ability to work in a fast-paced environment and handle multiple tasks simultaneously. Must be under 40 years old to ensure a fit with our energetic and fast-paced team culture. Preferred Qualifications: Experience with lean warehouse operations and continuous improvement methodologies. Certification in warehouse management or related disciplines. Knowledge of industry-specific regulations and best practices. Physical Requirements: Ability to lift up to 50 pounds. Ability to stand and walk for extended periods. Young and dynamic individuals preferred to keep up with the physical demands of the job. Benefits: Health, dental, and vision insurance. Retirement savings plan with company match. Paid time off and holidays. Opportunities for professional development and career advancement. How to Apply: Interested candidates are invited to submit their resume and cover letter to [email@example.com]. ABC Logistics is an equal opportunity employer. We celebrate diversity and are committed to creating an inclusive environment for all employees.\"\n",
    "\n",
    "with torch.no_grad():\n",
    "    encoding = tokenizer(text, return_tensors=\"pt\")\n",
    "    encoding = {k: v.to(model.device) for k,v in encoding.items()}\n",
    "\n",
    "    outputs = model(**encoding)"
   ],
   "metadata": {
    "id": "b8b5eWL_NlXL"
   },
   "execution_count": null,
   "outputs": []
  },
  {
   "cell_type": "code",
   "source": [
    "logits = outputs.logits\n",
    "logits.shape\n",
    "sigmoid = torch.nn.Sigmoid()\n",
    "probs = sigmoid(logits.squeeze().cpu())\n",
    "predictions = np.zeros(probs.shape)\n",
    "predictions[np.where(probs >= 0.5)] = 1\n",
    "# turn predicted id's into actual label names\n",
    "predicted_labels = [id2label[idx] for idx, label in enumerate(predictions) if label == 1.0]\n",
    "print(predicted_labels)"
   ],
   "metadata": {
    "id": "MOpMVn6bPJfP",
    "executionInfo": {
     "status": "ok",
     "timestamp": 1717009217220,
     "user_tz": -60,
     "elapsed": 11,
     "user": {
      "displayName": "Paul Ryan",
      "userId": "17638617360224378678"
     }
    },
    "colab": {
     "base_uri": "https://localhost:8080/"
    },
    "outputId": "333164b0-f4b6-4f6f-d5dd-6141446ec25a"
   },
   "execution_count": null,
   "outputs": []
  }
 ]
}

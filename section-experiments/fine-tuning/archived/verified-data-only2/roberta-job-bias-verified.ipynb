{
 "cells": [
  {
   "cell_type": "markdown",
   "metadata": {},
   "source": [
    "# Setup"
   ]
  },
  {
   "cell_type": "code",
   "execution_count": 1,
   "metadata": {
    "ExecuteTime": {
     "end_time": "2024-07-01T17:25:58.631351Z",
     "start_time": "2024-07-01T17:25:58.625668Z"
    }
   },
   "outputs": [],
   "source": [
    "import warnings\n",
    "warnings.filterwarnings('ignore')\n",
    "\n",
    "# Base Model\n",
    "\n",
    "base_model_id = 'FacebookAI/roberta-base'\n",
    "\n",
    "\n",
    "seed = 2024\n",
    "\n",
    "# Training\n",
    "num_train_epochs=10\n",
    "batch_size = 32\n",
    "learning_rate = 5e-5\n",
    "\n",
    "# Regularisation\n",
    "hidden_dropout_prob=0.20\n",
    "attention_probs_dropout_prob=0.0\n",
    "weight_decay=0.001\n",
    "\n",
    "# Evaluation\n",
    "label_threshold=0.5\n",
    "\n",
    "use_gradient_checkpointing = True,  # Save some memory at the expense of training\n",
    "# See https://huggingface.co/docs/transformers/main/en/perf_train_gpu_one\n",
    "\n",
    "hf_site_id = '2024-mcm-everitt-ryan'\n",
    "dataset_id = f'{hf_site_id}/job-bias-synthetic-human-verified'\n",
    "\n",
    "#dataset_id = f'{hf_site_id}/job-bias-synthetic-human-verified'\n",
    "\n",
    "\n",
    "base_model_name = base_model_id.split('/')[-1]\n",
    "model_id = f'{base_model_name}-job-bias-mixed'\n",
    "hub_model_id = f'{hf_site_id}/{model_id}'"
   ]
  },
  {
   "cell_type": "code",
   "execution_count": 2,
   "metadata": {
    "ExecuteTime": {
     "end_time": "2024-05-24T10:21:12.596958Z",
     "start_time": "2024-05-24T10:21:10.188604Z"
    },
    "id": "4wxY3x-ZZz8h"
   },
   "outputs": [
    {
     "name": "stdout",
     "output_type": "stream",
     "text": [
      "\u001B[33mWARNING: Running pip as the 'root' user can result in broken permissions and conflicting behaviour with the system package manager. It is recommended to use a virtual environment instead: https://pip.pypa.io/warnings/venv\u001B[0m\u001B[33m\n",
      "\u001B[0m\n",
      "\u001B[1m[\u001B[0m\u001B[34;49mnotice\u001B[0m\u001B[1;39;49m]\u001B[0m\u001B[39;49m A new release of pip is available: \u001B[0m\u001B[31;49m24.0\u001B[0m\u001B[39;49m -> \u001B[0m\u001B[32;49m24.1.1\u001B[0m\n",
      "\u001B[1m[\u001B[0m\u001B[34;49mnotice\u001B[0m\u001B[1;39;49m]\u001B[0m\u001B[39;49m To update, run: \u001B[0m\u001B[32;49mpython -m pip install --upgrade pip\u001B[0m\n"
     ]
    }
   ],
   "source": [
    "!pip install -q transformers datasets sentencepiece accelerate evaluate hf_transfer huggingface_hub scikit-learn"
   ]
  },
  {
   "cell_type": "markdown",
   "metadata": {},
   "source": [
    "# Dataset"
   ]
  },
  {
   "cell_type": "code",
   "execution_count": 3,
   "metadata": {
    "ExecuteTime": {
     "end_time": "2024-07-01T17:26:10.595794Z",
     "start_time": "2024-07-01T17:26:01.240714Z"
    },
    "colab": {
     "base_uri": "https://localhost:8080/",
     "height": 86,
     "referenced_widgets": [
      "9a1aa9f2cc29473f9f8e5459d2641e76",
      "308fa6a7348140ec981a8d6c7d31f346",
      "8bc92587e35443488445e7521fbd0a13",
      "091f8220f33241f288faa0612853585f",
      "1045bb16e3694410898a73cf1b848917",
      "cb95e545fbdd4e99903bf634df694c9f",
      "5080d322a8034924b652b379c04667ed",
      "8b1899a0c4b144d7a5e6599f8afb8b65",
      "6111a73e684a47769bda7183a836ee91",
      "cd3570ddf67541d7818d97e236c54e54",
      "bbba60f793c14100934a268063f63d26"
     ]
    },
    "id": "sd1LiXGjZ420",
    "outputId": "1b5783cd-0e4e-4c92-c67c-57b9288f2381"
   },
   "outputs": [
    {
     "data": {
      "text/plain": [
       "DatasetDict({\n",
       "    train: Dataset({\n",
       "        features: ['id', 'label_age', 'label_disability', 'label_masculine', 'label_feminine', 'label_racial', 'label_sexuality', 'label_general', 'text'],\n",
       "        num_rows: 1256\n",
       "    })\n",
       "    val: Dataset({\n",
       "        features: ['id', 'label_age', 'label_disability', 'label_masculine', 'label_feminine', 'label_racial', 'label_sexuality', 'label_general', 'text'],\n",
       "        num_rows: 314\n",
       "    })\n",
       "    test: Dataset({\n",
       "        features: ['id', 'label_age', 'label_disability', 'label_masculine', 'label_feminine', 'label_racial', 'label_sexuality', 'label_general', 'text'],\n",
       "        num_rows: 1046\n",
       "    })\n",
       "})"
      ]
     },
     "execution_count": 3,
     "metadata": {},
     "output_type": "execute_result"
    }
   ],
   "source": [
    "from datasets import load_dataset\n",
    "\n",
    "dataset = load_dataset(dataset_id)\n",
    "column_names = dataset['train'].column_names\n",
    "\n",
    "\n",
    "text_col = 'text'\n",
    "label_cols = [col for col in column_names if col.startswith('label_')]\n",
    "\n",
    "labels = [label.replace(\"label_\", \"\") for label in label_cols]\n",
    "\n",
    "id2label = {idx: label for idx, label in enumerate(labels)}\n",
    "label2id = {label: idx for idx, label in enumerate(labels)}\n",
    "\n",
    "# Remove all columns apart from the two needed for multi-class classification\n",
    "keep_columns = ['id', text_col] + label_cols\n",
    "for split in [\"train\", \"val\", \"test\"]:\n",
    "    dataset[split] = dataset[split].remove_columns(\n",
    "        [col for col in dataset[split].column_names if col not in keep_columns])\n",
    "\n",
    "dataset"
   ]
  },
  {
   "cell_type": "code",
   "execution_count": 4,
   "metadata": {
    "ExecuteTime": {
     "end_time": "2024-07-01T17:28:51.475180Z",
     "start_time": "2024-07-01T17:28:51.439449Z"
    }
   },
   "outputs": [
    {
     "data": {
      "text/html": [
       "<div>\n",
       "<style scoped>\n",
       "    .dataframe tbody tr th:only-of-type {\n",
       "        vertical-align: middle;\n",
       "    }\n",
       "\n",
       "    .dataframe tbody tr th {\n",
       "        vertical-align: top;\n",
       "    }\n",
       "\n",
       "    .dataframe thead th {\n",
       "        text-align: right;\n",
       "    }\n",
       "</style>\n",
       "<table border=\"1\" class=\"dataframe\">\n",
       "  <thead>\n",
       "    <tr style=\"text-align: right;\">\n",
       "      <th></th>\n",
       "      <th>id</th>\n",
       "      <th>label_age</th>\n",
       "      <th>label_disability</th>\n",
       "      <th>label_masculine</th>\n",
       "      <th>label_feminine</th>\n",
       "      <th>label_racial</th>\n",
       "      <th>label_sexuality</th>\n",
       "      <th>label_general</th>\n",
       "      <th>text</th>\n",
       "    </tr>\n",
       "  </thead>\n",
       "  <tbody>\n",
       "    <tr>\n",
       "      <th>0</th>\n",
       "      <td>Synthetic:meta-llama:Meta-Llama-3-70B-Instruct...</td>\n",
       "      <td>False</td>\n",
       "      <td>False</td>\n",
       "      <td>False</td>\n",
       "      <td>False</td>\n",
       "      <td>False</td>\n",
       "      <td>False</td>\n",
       "      <td>False</td>\n",
       "      <td>Company: Lewis-Estrada\\nJob Title: Cashier\\n\\n...</td>\n",
       "    </tr>\n",
       "    <tr>\n",
       "      <th>1</th>\n",
       "      <td>Kaggle::techmap::61377d32f2fd7421561f6664::see...</td>\n",
       "      <td>True</td>\n",
       "      <td>False</td>\n",
       "      <td>False</td>\n",
       "      <td>False</td>\n",
       "      <td>False</td>\n",
       "      <td>False</td>\n",
       "      <td>False</td>\n",
       "      <td>Have you worked at 2Degrees, Slingshot, Skinny...</td>\n",
       "    </tr>\n",
       "    <tr>\n",
       "      <th>2</th>\n",
       "      <td>Kaggle::techmap::61427019a973d70733cfaec4::bri...</td>\n",
       "      <td>True</td>\n",
       "      <td>False</td>\n",
       "      <td>False</td>\n",
       "      <td>True</td>\n",
       "      <td>False</td>\n",
       "      <td>False</td>\n",
       "      <td>True</td>\n",
       "      <td>About the role\\n\\nAre you looking to join our ...</td>\n",
       "    </tr>\n",
       "  </tbody>\n",
       "</table>\n",
       "</div>"
      ],
      "text/plain": [
       "                                                  id  label_age  \\\n",
       "0  Synthetic:meta-llama:Meta-Llama-3-70B-Instruct...      False   \n",
       "1  Kaggle::techmap::61377d32f2fd7421561f6664::see...       True   \n",
       "2  Kaggle::techmap::61427019a973d70733cfaec4::bri...       True   \n",
       "\n",
       "   label_disability  label_masculine  label_feminine  label_racial  \\\n",
       "0             False            False           False         False   \n",
       "1             False            False           False         False   \n",
       "2             False            False            True         False   \n",
       "\n",
       "   label_sexuality  label_general  \\\n",
       "0            False          False   \n",
       "1            False          False   \n",
       "2            False           True   \n",
       "\n",
       "                                                text  \n",
       "0  Company: Lewis-Estrada\\nJob Title: Cashier\\n\\n...  \n",
       "1  Have you worked at 2Degrees, Slingshot, Skinny...  \n",
       "2  About the role\\n\\nAre you looking to join our ...  "
      ]
     },
     "execution_count": 4,
     "metadata": {},
     "output_type": "execute_result"
    }
   ],
   "source": [
    "import pandas as pd\n",
    "\n",
    "# Merge train,val, test into one dataframe\n",
    "df = pd.concat([\n",
    "    dataset['train'].to_pandas(),\n",
    "    dataset['val'].to_pandas(),\n",
    "    dataset['test'].to_pandas()])\n",
    "\n",
    "df.head(3)"
   ]
  },
  {
   "cell_type": "code",
   "execution_count": 5,
   "metadata": {
    "ExecuteTime": {
     "end_time": "2024-07-01T17:29:03.777886Z",
     "start_time": "2024-07-01T17:29:03.770686Z"
    }
   },
   "outputs": [
    {
     "data": {
      "text/plain": [
       "'Consumer, Business and Digital Banking – We work with our retail banking, business banking, consumer lending, mortgage, and digital banking businesses to define far-reaching technology strategies to evolve our customer experiences, to make us easier to do business with, and to deliver solutions that provide real value. This includes all core consumer deposit, loan, and payment processing and servicing platforms, all core channel systems for retail branches, ATMs, and call centers, custom-built online and mobile banking platforms, and mtb.com and marketing ecosystem capabilities.\\n\\nOverview:\\n- Manages the activities of several Technology Team Leaders or units and is responsible for each Team’s/unit’s development and systems support efforts.\\n- Provides day-to-day direction for the units and applications in line with the goals of the department and the clients they support.\\n- Responsible for managing client relations and expectations.\\n- Manages the project queue for their area.\\n- Strives to achieve individual and organizational objectives at minimum cost.\\n\\nPrimary Responsibilities:\\n- Manage and participate in consults with client management in the analysis of short-range business requirements and recommend innovations that anticipate the future impact of changing business requirements.\\n- Responsible for building a positive client relationship.\\n- Monitor the technology direction of the industry and vendor applications.\\n- Oversee application development, support testing efforts, technology infrastructure/project management, and other technology domains.\\n- Build rapport within the organization.\\n- Communicate and develop a professional level of communication and cooperation.\\n- Control the activities of the teams, assign personnel to various projects, and direct their activities.\\n- Ensure completion of schedules.\\n- Responsible for short-term staffing planning.\\n- Ensure adherence to all Department and Technology standards and procedures, including all documentation requirements.\\n- May translate requirements to assist staff in preparing detailed specifications for system enhancements.\\n- Manage recommended designs based on business and technology requirements.\\n- Identify issues and concerns.\\n- Manage monitoring project plans.\\n- May coordinate major project activities.\\n- Remain current on activities outside the team that may impact the team or client environment.\\n- Develop and manage multiple cost center budgets.\\n\\nEducation and Experience Required:\\n- Minimum of an Associate’s degree and 7 years’ technology or systems management/leadership experience, or in lieu of a degree a combined minimum of 9 years’ higher education and/or work experience, including a minimum of 7 years’ technology or systems management/leadership experience.\\n- Capable of working on multiple projects of a complex nature.\\n- Proficiency with project management, word processing, and spreadsheet applications.\\n- Complete understanding of the system development life cycle.\\n- Excellent problem-solving skills to assist in issue resolution.\\n- Familiar with application development software and hardware platforms.\\n- Excellent verbal and written communication skills.'"
      ]
     },
     "execution_count": 5,
     "metadata": {},
     "output_type": "execute_result"
    }
   ],
   "source": [
    "# Longest phrase\n",
    "longest_text = df[text_col].apply(lambda x: (len(x), x)).max()[1]\n",
    "longest_text"
   ]
  },
  {
   "cell_type": "code",
   "execution_count": 6,
   "metadata": {
    "ExecuteTime": {
     "end_time": "2024-07-01T17:30:00.135205Z",
     "start_time": "2024-07-01T17:29:59.993343Z"
    }
   },
   "outputs": [
    {
     "data": {
      "application/vnd.jupyter.widget-view+json": {
       "model_id": "ac792aedb1e04200a293e5308191d8bc",
       "version_major": 2,
       "version_minor": 0
      },
      "text/plain": [
       "tokenizer_config.json:   0%|          | 0.00/25.0 [00:00<?, ?B/s]"
      ]
     },
     "metadata": {},
     "output_type": "display_data"
    },
    {
     "data": {
      "application/vnd.jupyter.widget-view+json": {
       "model_id": "1fad7bfe0b7d4f9e91da67356b1a83ac",
       "version_major": 2,
       "version_minor": 0
      },
      "text/plain": [
       "config.json:   0%|          | 0.00/481 [00:00<?, ?B/s]"
      ]
     },
     "metadata": {},
     "output_type": "display_data"
    },
    {
     "data": {
      "application/vnd.jupyter.widget-view+json": {
       "model_id": "10c99aae4d294cd78c6e742fb7918998",
       "version_major": 2,
       "version_minor": 0
      },
      "text/plain": [
       "vocab.json:   0%|          | 0.00/899k [00:00<?, ?B/s]"
      ]
     },
     "metadata": {},
     "output_type": "display_data"
    },
    {
     "data": {
      "application/vnd.jupyter.widget-view+json": {
       "model_id": "9ac84bffb4324b7786dfa9e71525ae47",
       "version_major": 2,
       "version_minor": 0
      },
      "text/plain": [
       "merges.txt:   0%|          | 0.00/456k [00:00<?, ?B/s]"
      ]
     },
     "metadata": {},
     "output_type": "display_data"
    },
    {
     "data": {
      "application/vnd.jupyter.widget-view+json": {
       "model_id": "a84fe01beb984891b0295f3f9b81276c",
       "version_major": 2,
       "version_minor": 0
      },
      "text/plain": [
       "tokenizer.json:   0%|          | 0.00/1.36M [00:00<?, ?B/s]"
      ]
     },
     "metadata": {},
     "output_type": "display_data"
    },
    {
     "data": {
      "text/plain": [
       "RobertaTokenizerFast(name_or_path='FacebookAI/roberta-base', vocab_size=50265, model_max_length=512, is_fast=True, padding_side='right', truncation_side='right', special_tokens={'bos_token': '<s>', 'eos_token': '</s>', 'unk_token': '<unk>', 'sep_token': '</s>', 'pad_token': '<pad>', 'cls_token': '<s>', 'mask_token': '<mask>'}, clean_up_tokenization_spaces=True),  added_tokens_decoder={\n",
       "\t0: AddedToken(\"<s>\", rstrip=False, lstrip=False, single_word=False, normalized=True, special=True),\n",
       "\t1: AddedToken(\"<pad>\", rstrip=False, lstrip=False, single_word=False, normalized=True, special=True),\n",
       "\t2: AddedToken(\"</s>\", rstrip=False, lstrip=False, single_word=False, normalized=True, special=True),\n",
       "\t3: AddedToken(\"<unk>\", rstrip=False, lstrip=False, single_word=False, normalized=True, special=True),\n",
       "\t50264: AddedToken(\"<mask>\", rstrip=False, lstrip=True, single_word=False, normalized=False, special=True),\n",
       "}"
      ]
     },
     "execution_count": 6,
     "metadata": {},
     "output_type": "execute_result"
    }
   ],
   "source": [
    "from transformers import AutoTokenizer\n",
    "\n",
    "tokenizer = AutoTokenizer.from_pretrained(base_model_id, add_prefix_space=True)\n",
    "tokenizer"
   ]
  },
  {
   "cell_type": "code",
   "execution_count": 7,
   "metadata": {
    "ExecuteTime": {
     "end_time": "2024-07-01T17:30:06.795705Z",
     "start_time": "2024-07-01T17:30:06.789790Z"
    }
   },
   "outputs": [
    {
     "name": "stderr",
     "output_type": "stream",
     "text": [
      "Token indices sequence length is longer than the specified maximum sequence length for this model (600 > 512). Running this sequence through the model will result in indexing errors\n"
     ]
    },
    {
     "name": "stdout",
     "output_type": "stream",
     "text": [
      "Max characters: 3170\n",
      "Max words: 442\n",
      "Max tokens: 600\n"
     ]
    }
   ],
   "source": [
    "max_char = len(longest_text)\n",
    "max_words = len(longest_text.split())\n",
    "max_tokens = len(tokenizer.encode(longest_text))\n",
    "\n",
    "print(f'Max characters: {max_char}')\n",
    "print(f'Max words: {max_words}')\n",
    "print(f'Max tokens: {max_tokens}')"
   ]
  },
  {
   "cell_type": "code",
   "execution_count": 8,
   "metadata": {
    "ExecuteTime": {
     "end_time": "2024-07-01T17:30:15.745305Z",
     "start_time": "2024-07-01T17:30:15.742461Z"
    }
   },
   "outputs": [
    {
     "data": {
      "text/plain": [
       "512"
      ]
     },
     "execution_count": 8,
     "metadata": {},
     "output_type": "execute_result"
    }
   ],
   "source": [
    "tokenizer_max_length = min(max_tokens, tokenizer.model_max_length)\n",
    "tokenizer_max_length"
   ]
  },
  {
   "cell_type": "code",
   "execution_count": 9,
   "metadata": {
    "ExecuteTime": {
     "end_time": "2024-07-01T17:30:18.135860Z",
     "start_time": "2024-07-01T17:30:18.132132Z"
    },
    "id": "AFWlSsbZaRLc"
   },
   "outputs": [],
   "source": [
    "import numpy as np\n",
    "\n",
    "\n",
    "def preprocess_data(sample):\n",
    "    # take a batch of texts\n",
    "    text = sample[text_col]\n",
    "    # encode them\n",
    "    encoding = tokenizer(text, truncation=True, max_length=tokenizer_max_length, padding=\"max_length\")\n",
    "    #encoding = tokenizer(text, truncation=True, max_length=tokenizer_max_length, padding=True)\n",
    "    # add labels\n",
    "    labels_batch = {k: sample[k] for k in sample.keys() if k in label_cols}\n",
    "    # create numpy array of shape (batch_size, num_labels)\n",
    "    labels_matrix = np.zeros((len(text), len(label_cols)))\n",
    "    # fill numpy array\n",
    "    for idx, label in enumerate(label_cols):\n",
    "        labels_matrix[:, idx] = labels_batch[label]\n",
    "\n",
    "    encoding[\"labels\"] = labels_matrix.tolist()\n",
    "\n",
    "    return encoding"
   ]
  },
  {
   "cell_type": "code",
   "execution_count": 10,
   "metadata": {
    "ExecuteTime": {
     "end_time": "2024-07-01T17:30:24.593885Z",
     "start_time": "2024-07-01T17:30:22.070052Z"
    },
    "colab": {
     "base_uri": "https://localhost:8080/"
    },
    "id": "i4ENBTdulBEI",
    "outputId": "02554a1f-4961-461a-bf29-555b8debeabf"
   },
   "outputs": [
    {
     "data": {
      "application/vnd.jupyter.widget-view+json": {
       "model_id": "5a63f1cba64e48f588d6bcb8bb636834",
       "version_major": 2,
       "version_minor": 0
      },
      "text/plain": [
       "Map:   0%|          | 0/1256 [00:00<?, ? examples/s]"
      ]
     },
     "metadata": {},
     "output_type": "display_data"
    },
    {
     "data": {
      "application/vnd.jupyter.widget-view+json": {
       "model_id": "5494d0bc49384a12b568e8a89caece95",
       "version_major": 2,
       "version_minor": 0
      },
      "text/plain": [
       "Map:   0%|          | 0/314 [00:00<?, ? examples/s]"
      ]
     },
     "metadata": {},
     "output_type": "display_data"
    },
    {
     "data": {
      "application/vnd.jupyter.widget-view+json": {
       "model_id": "bafd523580f0476eaf8692fe1850395a",
       "version_major": 2,
       "version_minor": 0
      },
      "text/plain": [
       "Map:   0%|          | 0/1046 [00:00<?, ? examples/s]"
      ]
     },
     "metadata": {},
     "output_type": "display_data"
    }
   ],
   "source": [
    "#ds_train = ds_train.map(tokenize, batched=True, batch_size=len(ds_train))\n",
    "encoded_dataset = dataset.map(preprocess_data, batched=True, remove_columns=dataset['train'].column_names)\n",
    "encoded_dataset.set_format(\"torch\")"
   ]
  },
  {
   "cell_type": "markdown",
   "metadata": {
    "id": "w5qSmCgWefWs"
   },
   "source": [
    "# Model"
   ]
  },
  {
   "cell_type": "code",
   "execution_count": 11,
   "metadata": {
    "ExecuteTime": {
     "end_time": "2024-05-24T10:21:17.136876Z",
     "start_time": "2024-05-24T10:21:15.632343Z"
    },
    "colab": {
     "base_uri": "https://localhost:8080/"
    },
    "id": "6XPL1Z_RegBF",
    "outputId": "22994300-8c93-421e-faa4-678d6cc14aab"
   },
   "outputs": [
    {
     "data": {
      "application/vnd.jupyter.widget-view+json": {
       "model_id": "389d1275e2504bafbad7e7d6a599c94a",
       "version_major": 2,
       "version_minor": 0
      },
      "text/plain": [
       "model.safetensors:   0%|          | 0.00/499M [00:00<?, ?B/s]"
      ]
     },
     "metadata": {},
     "output_type": "display_data"
    },
    {
     "name": "stderr",
     "output_type": "stream",
     "text": [
      "Some weights of RobertaForSequenceClassification were not initialized from the model checkpoint at FacebookAI/roberta-base and are newly initialized: ['classifier.dense.bias', 'classifier.dense.weight', 'classifier.out_proj.bias', 'classifier.out_proj.weight']\n",
      "You should probably TRAIN this model on a down-stream task to be able to use it for predictions and inference.\n"
     ]
    },
    {
     "data": {
      "text/plain": [
       "RobertaForSequenceClassification(\n",
       "  (roberta): RobertaModel(\n",
       "    (embeddings): RobertaEmbeddings(\n",
       "      (word_embeddings): Embedding(50265, 768, padding_idx=1)\n",
       "      (position_embeddings): Embedding(514, 768, padding_idx=1)\n",
       "      (token_type_embeddings): Embedding(1, 768)\n",
       "      (LayerNorm): LayerNorm((768,), eps=1e-05, elementwise_affine=True)\n",
       "      (dropout): Dropout(p=0.2, inplace=False)\n",
       "    )\n",
       "    (encoder): RobertaEncoder(\n",
       "      (layer): ModuleList(\n",
       "        (0-11): 12 x RobertaLayer(\n",
       "          (attention): RobertaAttention(\n",
       "            (self): RobertaSelfAttention(\n",
       "              (query): Linear(in_features=768, out_features=768, bias=True)\n",
       "              (key): Linear(in_features=768, out_features=768, bias=True)\n",
       "              (value): Linear(in_features=768, out_features=768, bias=True)\n",
       "              (dropout): Dropout(p=0.1, inplace=False)\n",
       "            )\n",
       "            (output): RobertaSelfOutput(\n",
       "              (dense): Linear(in_features=768, out_features=768, bias=True)\n",
       "              (LayerNorm): LayerNorm((768,), eps=1e-05, elementwise_affine=True)\n",
       "              (dropout): Dropout(p=0.2, inplace=False)\n",
       "            )\n",
       "          )\n",
       "          (intermediate): RobertaIntermediate(\n",
       "            (dense): Linear(in_features=768, out_features=3072, bias=True)\n",
       "            (intermediate_act_fn): GELUActivation()\n",
       "          )\n",
       "          (output): RobertaOutput(\n",
       "            (dense): Linear(in_features=3072, out_features=768, bias=True)\n",
       "            (LayerNorm): LayerNorm((768,), eps=1e-05, elementwise_affine=True)\n",
       "            (dropout): Dropout(p=0.2, inplace=False)\n",
       "          )\n",
       "        )\n",
       "      )\n",
       "    )\n",
       "  )\n",
       "  (classifier): RobertaClassificationHead(\n",
       "    (dense): Linear(in_features=768, out_features=768, bias=True)\n",
       "    (dropout): Dropout(p=0.2, inplace=False)\n",
       "    (out_proj): Linear(in_features=768, out_features=7, bias=True)\n",
       "  )\n",
       ")"
      ]
     },
     "execution_count": 11,
     "metadata": {},
     "output_type": "execute_result"
    }
   ],
   "source": [
    "from transformers import AutoModelForSequenceClassification\n",
    "\n",
    "model = AutoModelForSequenceClassification.from_pretrained(base_model_id,\n",
    "                                                           problem_type=\"multi_label_classification\",\n",
    "                                                           num_labels=len(label_cols),\n",
    "                                                           id2label=id2label,\n",
    "                                                           label2id=label2id,\n",
    "                                                           hidden_dropout_prob=hidden_dropout_prob,\n",
    "                                                          # attention_probs_dropout_prob=attention_probs_dropout_prob\n",
    "                                                          )\n",
    "model"
   ]
  },
  {
   "cell_type": "code",
   "execution_count": 12,
   "metadata": {
    "ExecuteTime": {
     "end_time": "2024-05-24T10:21:17.142273Z",
     "start_time": "2024-05-24T10:21:17.138307Z"
    }
   },
   "outputs": [
    {
     "data": {
      "text/plain": [
       "RobertaConfig {\n",
       "  \"_name_or_path\": \"FacebookAI/roberta-base\",\n",
       "  \"architectures\": [\n",
       "    \"RobertaForMaskedLM\"\n",
       "  ],\n",
       "  \"attention_probs_dropout_prob\": 0.1,\n",
       "  \"bos_token_id\": 0,\n",
       "  \"classifier_dropout\": null,\n",
       "  \"eos_token_id\": 2,\n",
       "  \"hidden_act\": \"gelu\",\n",
       "  \"hidden_dropout_prob\": 0.2,\n",
       "  \"hidden_size\": 768,\n",
       "  \"id2label\": {\n",
       "    \"0\": \"age\",\n",
       "    \"1\": \"disability\",\n",
       "    \"2\": \"masculine\",\n",
       "    \"3\": \"feminine\",\n",
       "    \"4\": \"racial\",\n",
       "    \"5\": \"sexuality\",\n",
       "    \"6\": \"general\"\n",
       "  },\n",
       "  \"initializer_range\": 0.02,\n",
       "  \"intermediate_size\": 3072,\n",
       "  \"label2id\": {\n",
       "    \"age\": 0,\n",
       "    \"disability\": 1,\n",
       "    \"feminine\": 3,\n",
       "    \"general\": 6,\n",
       "    \"masculine\": 2,\n",
       "    \"racial\": 4,\n",
       "    \"sexuality\": 5\n",
       "  },\n",
       "  \"layer_norm_eps\": 1e-05,\n",
       "  \"max_position_embeddings\": 514,\n",
       "  \"model_type\": \"roberta\",\n",
       "  \"num_attention_heads\": 12,\n",
       "  \"num_hidden_layers\": 12,\n",
       "  \"pad_token_id\": 1,\n",
       "  \"position_embedding_type\": \"absolute\",\n",
       "  \"problem_type\": \"multi_label_classification\",\n",
       "  \"transformers_version\": \"4.42.3\",\n",
       "  \"type_vocab_size\": 1,\n",
       "  \"use_cache\": true,\n",
       "  \"vocab_size\": 50265\n",
       "}"
      ]
     },
     "execution_count": 12,
     "metadata": {},
     "output_type": "execute_result"
    }
   ],
   "source": [
    "model.config"
   ]
  },
  {
   "cell_type": "markdown",
   "metadata": {},
   "source": [
    "# Define Metrics"
   ]
  },
  {
   "cell_type": "code",
   "execution_count": 13,
   "metadata": {
    "ExecuteTime": {
     "end_time": "2024-05-24T10:21:18.065316Z",
     "start_time": "2024-05-24T10:21:17.752526Z"
    }
   },
   "outputs": [],
   "source": [
    "from sklearn.metrics import f1_score, precision_score, recall_score, roc_auc_score, accuracy_score, classification_report\n",
    "from transformers import EvalPrediction\n",
    "import torch\n",
    "\n",
    "\n",
    "# source: https://jesusleal.io/2021/04/21/Longformer-multilabel-classification/\n",
    "# added extras\n",
    "def multi_label_metrics(predictions, labels):\n",
    "    # first, apply sigmoid on predictions which are of shape (batch_size, num_labels)\n",
    "    sigmoid = torch.nn.Sigmoid()\n",
    "    probs = sigmoid(torch.Tensor(predictions))\n",
    "    # next, use threshold to turn them into integer predictions\n",
    "    y_pred = np.zeros(probs.shape)\n",
    "    y_pred[np.where(probs >= label_threshold)] = 1\n",
    "    # finally, compute metrics\n",
    "    y_true = labels\n",
    "\n",
    "    accuracy = accuracy_score(y_true=y_true, y_pred=y_pred)\n",
    "    \n",
    "    f1_micro = f1_score(y_true=y_true, y_pred=y_pred, average='micro')\n",
    "    f1_macro = f1_score(y_true=y_true, y_pred=y_pred, average='macro')\n",
    "    f1_samples = f1_score(y_true=y_true, y_pred=y_pred, average='samples')\n",
    "    f1_weighted = f1_score(y_true=y_true, y_pred=y_pred, average='weighted')\n",
    "\n",
    "    precision_micro = precision_score(y_true=y_true, y_pred=y_pred, average='micro')\n",
    "    recall_micro = recall_score(y_true=y_true, y_pred=y_pred, average='micro')\n",
    "    roc_auc_micro = roc_auc_score(y_true=y_true, y_score=y_pred, average='micro')\n",
    "\n",
    "    print(classification_report(y_true, y_pred, target_names=list(id2label.values())))\n",
    "    \n",
    "    # return as dictionary\n",
    "    metrics = {\n",
    "        'accuracy': accuracy,\n",
    "        f'f1_micro': f1_micro,\n",
    "        f'f1_macro': f1_macro,\n",
    "        f'f1_samples': f1_samples,\n",
    "        f'f1_weighted': f1_weighted,\n",
    "        f'precision_micro': precision_micro,\n",
    "        f'recall_micro': recall_micro,\n",
    "        f'roc_auc_micro': roc_auc_micro}\n",
    "    return metrics\n",
    "\n",
    "\n",
    "def compute_metrics(p: EvalPrediction):\n",
    "    preds = p.predictions[0] if isinstance(p.predictions, tuple) else p.predictions\n",
    "    result = multi_label_metrics(\n",
    "        predictions=preds,\n",
    "        labels=p.label_ids)\n",
    "    return result"
   ]
  },
  {
   "cell_type": "markdown",
   "metadata": {
    "id": "f-X2brZcv0X6"
   },
   "source": [
    "# Train"
   ]
  },
  {
   "cell_type": "code",
   "execution_count": 14,
   "metadata": {
    "ExecuteTime": {
     "end_time": "2024-05-24T10:49:47.418670Z",
     "start_time": "2024-05-24T10:21:18.066341Z"
    },
    "colab": {
     "base_uri": "https://localhost:8080/",
     "height": 1000
    },
    "id": "KXmFds8js6P8",
    "outputId": "66ebb2ab-f93f-48aa-a4dc-36f55f2f8559"
   },
   "outputs": [
    {
     "data": {
      "text/html": [
       "\n",
       "    <div>\n",
       "      \n",
       "      <progress value='400' max='400' style='width:300px; height:20px; vertical-align: middle;'></progress>\n",
       "      [400/400 02:49, Epoch 10/10]\n",
       "    </div>\n",
       "    <table border=\"1\" class=\"dataframe\">\n",
       "  <thead>\n",
       " <tr style=\"text-align: left;\">\n",
       "      <th>Epoch</th>\n",
       "      <th>Training Loss</th>\n",
       "      <th>Validation Loss</th>\n",
       "      <th>Accuracy</th>\n",
       "      <th>F1 Micro</th>\n",
       "      <th>F1 Macro</th>\n",
       "      <th>F1 Samples</th>\n",
       "      <th>F1 Weighted</th>\n",
       "      <th>Precision Micro</th>\n",
       "      <th>Recall Micro</th>\n",
       "      <th>Roc Auc Micro</th>\n",
       "    </tr>\n",
       "  </thead>\n",
       "  <tbody>\n",
       "    <tr>\n",
       "      <td>1</td>\n",
       "      <td>0.276800</td>\n",
       "      <td>0.272376</td>\n",
       "      <td>0.515924</td>\n",
       "      <td>0.000000</td>\n",
       "      <td>0.000000</td>\n",
       "      <td>0.000000</td>\n",
       "      <td>0.000000</td>\n",
       "      <td>0.000000</td>\n",
       "      <td>0.000000</td>\n",
       "      <td>0.500000</td>\n",
       "    </tr>\n",
       "    <tr>\n",
       "      <td>2</td>\n",
       "      <td>0.249700</td>\n",
       "      <td>0.273029</td>\n",
       "      <td>0.515924</td>\n",
       "      <td>0.000000</td>\n",
       "      <td>0.000000</td>\n",
       "      <td>0.000000</td>\n",
       "      <td>0.000000</td>\n",
       "      <td>0.000000</td>\n",
       "      <td>0.000000</td>\n",
       "      <td>0.500000</td>\n",
       "    </tr>\n",
       "    <tr>\n",
       "      <td>3</td>\n",
       "      <td>0.263800</td>\n",
       "      <td>0.268794</td>\n",
       "      <td>0.515924</td>\n",
       "      <td>0.000000</td>\n",
       "      <td>0.000000</td>\n",
       "      <td>0.000000</td>\n",
       "      <td>0.000000</td>\n",
       "      <td>0.000000</td>\n",
       "      <td>0.000000</td>\n",
       "      <td>0.500000</td>\n",
       "    </tr>\n",
       "    <tr>\n",
       "      <td>4</td>\n",
       "      <td>0.262100</td>\n",
       "      <td>0.245801</td>\n",
       "      <td>0.515924</td>\n",
       "      <td>0.000000</td>\n",
       "      <td>0.000000</td>\n",
       "      <td>0.000000</td>\n",
       "      <td>0.000000</td>\n",
       "      <td>0.000000</td>\n",
       "      <td>0.000000</td>\n",
       "      <td>0.500000</td>\n",
       "    </tr>\n",
       "    <tr>\n",
       "      <td>5</td>\n",
       "      <td>0.197600</td>\n",
       "      <td>0.194443</td>\n",
       "      <td>0.582803</td>\n",
       "      <td>0.222222</td>\n",
       "      <td>0.207792</td>\n",
       "      <td>0.066879</td>\n",
       "      <td>0.154237</td>\n",
       "      <td>0.954545</td>\n",
       "      <td>0.125749</td>\n",
       "      <td>0.562628</td>\n",
       "    </tr>\n",
       "    <tr>\n",
       "      <td>6</td>\n",
       "      <td>0.154100</td>\n",
       "      <td>0.181101</td>\n",
       "      <td>0.665605</td>\n",
       "      <td>0.488000</td>\n",
       "      <td>0.405338</td>\n",
       "      <td>0.189172</td>\n",
       "      <td>0.370270</td>\n",
       "      <td>0.734940</td>\n",
       "      <td>0.365269</td>\n",
       "      <td>0.677219</td>\n",
       "    </tr>\n",
       "    <tr>\n",
       "      <td>7</td>\n",
       "      <td>0.148200</td>\n",
       "      <td>0.162975</td>\n",
       "      <td>0.700637</td>\n",
       "      <td>0.562963</td>\n",
       "      <td>0.509926</td>\n",
       "      <td>0.236943</td>\n",
       "      <td>0.483902</td>\n",
       "      <td>0.737864</td>\n",
       "      <td>0.455090</td>\n",
       "      <td>0.720898</td>\n",
       "    </tr>\n",
       "    <tr>\n",
       "      <td>8</td>\n",
       "      <td>0.108600</td>\n",
       "      <td>0.152523</td>\n",
       "      <td>0.722930</td>\n",
       "      <td>0.609023</td>\n",
       "      <td>0.566820</td>\n",
       "      <td>0.249151</td>\n",
       "      <td>0.539296</td>\n",
       "      <td>0.818182</td>\n",
       "      <td>0.485030</td>\n",
       "      <td>0.738084</td>\n",
       "    </tr>\n",
       "    <tr>\n",
       "      <td>9</td>\n",
       "      <td>0.087100</td>\n",
       "      <td>0.151484</td>\n",
       "      <td>0.729299</td>\n",
       "      <td>0.635379</td>\n",
       "      <td>0.599463</td>\n",
       "      <td>0.271444</td>\n",
       "      <td>0.576110</td>\n",
       "      <td>0.800000</td>\n",
       "      <td>0.526946</td>\n",
       "      <td>0.758057</td>\n",
       "    </tr>\n",
       "    <tr>\n",
       "      <td>10</td>\n",
       "      <td>0.102600</td>\n",
       "      <td>0.147488</td>\n",
       "      <td>0.735669</td>\n",
       "      <td>0.655172</td>\n",
       "      <td>0.638806</td>\n",
       "      <td>0.292144</td>\n",
       "      <td>0.620144</td>\n",
       "      <td>0.772358</td>\n",
       "      <td>0.568862</td>\n",
       "      <td>0.777538</td>\n",
       "    </tr>\n",
       "  </tbody>\n",
       "</table><p>"
      ],
      "text/plain": [
       "<IPython.core.display.HTML object>"
      ]
     },
     "metadata": {},
     "output_type": "display_data"
    },
    {
     "name": "stdout",
     "output_type": "stream",
     "text": [
      "              precision    recall  f1-score   support\n",
      "\n",
      "         age       0.00      0.00      0.00        25\n",
      "  disability       0.00      0.00      0.00        26\n",
      "   masculine       0.00      0.00      0.00        27\n",
      "    feminine       0.00      0.00      0.00        20\n",
      "      racial       0.00      0.00      0.00        15\n",
      "   sexuality       0.00      0.00      0.00        27\n",
      "     general       0.00      0.00      0.00        27\n",
      "\n",
      "   micro avg       0.00      0.00      0.00       167\n",
      "   macro avg       0.00      0.00      0.00       167\n",
      "weighted avg       0.00      0.00      0.00       167\n",
      " samples avg       0.00      0.00      0.00       167\n",
      "\n",
      "----------------------------------------------------------\n",
      "              precision    recall  f1-score   support\n",
      "\n",
      "         age       0.00      0.00      0.00        25\n",
      "  disability       0.00      0.00      0.00        26\n",
      "   masculine       0.00      0.00      0.00        27\n",
      "    feminine       0.00      0.00      0.00        20\n",
      "      racial       0.00      0.00      0.00        15\n",
      "   sexuality       0.00      0.00      0.00        27\n",
      "     general       0.00      0.00      0.00        27\n",
      "\n",
      "   micro avg       0.00      0.00      0.00       167\n",
      "   macro avg       0.00      0.00      0.00       167\n",
      "weighted avg       0.00      0.00      0.00       167\n",
      " samples avg       0.00      0.00      0.00       167\n",
      "\n",
      "----------------------------------------------------------\n",
      "              precision    recall  f1-score   support\n",
      "\n",
      "         age       0.00      0.00      0.00        25\n",
      "  disability       0.00      0.00      0.00        26\n",
      "   masculine       0.00      0.00      0.00        27\n",
      "    feminine       0.00      0.00      0.00        20\n",
      "      racial       0.00      0.00      0.00        15\n",
      "   sexuality       0.00      0.00      0.00        27\n",
      "     general       0.00      0.00      0.00        27\n",
      "\n",
      "   micro avg       0.00      0.00      0.00       167\n",
      "   macro avg       0.00      0.00      0.00       167\n",
      "weighted avg       0.00      0.00      0.00       167\n",
      " samples avg       0.00      0.00      0.00       167\n",
      "\n",
      "----------------------------------------------------------\n",
      "              precision    recall  f1-score   support\n",
      "\n",
      "         age       0.00      0.00      0.00        25\n",
      "  disability       0.00      0.00      0.00        26\n",
      "   masculine       0.00      0.00      0.00        27\n",
      "    feminine       0.00      0.00      0.00        20\n",
      "      racial       0.00      0.00      0.00        15\n",
      "   sexuality       0.00      0.00      0.00        27\n",
      "     general       0.00      0.00      0.00        27\n",
      "\n",
      "   micro avg       0.00      0.00      0.00       167\n",
      "   macro avg       0.00      0.00      0.00       167\n",
      "weighted avg       0.00      0.00      0.00       167\n",
      " samples avg       0.00      0.00      0.00       167\n",
      "\n",
      "----------------------------------------------------------\n",
      "              precision    recall  f1-score   support\n",
      "\n",
      "         age       0.00      0.00      0.00        25\n",
      "  disability       0.00      0.00      0.00        26\n",
      "   masculine       0.00      0.00      0.00        27\n",
      "    feminine       1.00      0.65      0.79        20\n",
      "      racial       0.89      0.53      0.67        15\n",
      "   sexuality       0.00      0.00      0.00        27\n",
      "     general       0.00      0.00      0.00        27\n",
      "\n",
      "   micro avg       0.95      0.13      0.22       167\n",
      "   macro avg       0.27      0.17      0.21       167\n",
      "weighted avg       0.20      0.13      0.15       167\n",
      " samples avg       0.07      0.07      0.07       167\n",
      "\n",
      "----------------------------------------------------------\n",
      "              precision    recall  f1-score   support\n",
      "\n",
      "         age       0.67      0.08      0.14        25\n",
      "  disability       1.00      0.23      0.38        26\n",
      "   masculine       0.00      0.00      0.00        27\n",
      "    feminine       0.68      0.95      0.79        20\n",
      "      racial       0.77      0.67      0.71        15\n",
      "   sexuality       0.75      0.89      0.81        27\n",
      "     general       0.00      0.00      0.00        27\n",
      "\n",
      "   micro avg       0.73      0.37      0.49       167\n",
      "   macro avg       0.55      0.40      0.41       167\n",
      "weighted avg       0.53      0.37      0.37       167\n",
      " samples avg       0.19      0.19      0.19       167\n",
      "\n",
      "----------------------------------------------------------\n",
      "              precision    recall  f1-score   support\n",
      "\n",
      "         age       0.67      0.08      0.14        25\n",
      "  disability       0.86      0.46      0.60        26\n",
      "   masculine       0.33      0.07      0.12        27\n",
      "    feminine       0.64      0.90      0.75        20\n",
      "      racial       0.85      0.73      0.79        15\n",
      "   sexuality       0.79      0.96      0.87        27\n",
      "     general       0.83      0.19      0.30        27\n",
      "\n",
      "   micro avg       0.74      0.46      0.56       167\n",
      "   macro avg       0.71      0.49      0.51       167\n",
      "weighted avg       0.70      0.46      0.48       167\n",
      " samples avg       0.24      0.24      0.24       167\n",
      "\n",
      "----------------------------------------------------------\n",
      "              precision    recall  f1-score   support\n",
      "\n",
      "         age       0.80      0.16      0.27        25\n",
      "  disability       0.75      0.58      0.65        26\n",
      "   masculine       0.71      0.19      0.29        27\n",
      "    feminine       0.85      0.85      0.85        20\n",
      "      racial       0.86      0.80      0.83        15\n",
      "   sexuality       0.83      0.93      0.88        27\n",
      "     general       1.00      0.11      0.20        27\n",
      "\n",
      "   micro avg       0.82      0.49      0.61       167\n",
      "   macro avg       0.83      0.52      0.57       167\n",
      "weighted avg       0.83      0.49      0.54       167\n",
      " samples avg       0.26      0.25      0.25       167\n",
      "\n",
      "----------------------------------------------------------\n",
      "              precision    recall  f1-score   support\n",
      "\n",
      "         age       1.00      0.16      0.28        25\n",
      "  disability       0.67      0.62      0.64        26\n",
      "   masculine       0.67      0.22      0.33        27\n",
      "    feminine       0.86      0.90      0.88        20\n",
      "      racial       0.76      0.87      0.81        15\n",
      "   sexuality       0.86      0.93      0.89        27\n",
      "     general       1.00      0.22      0.36        27\n",
      "\n",
      "   micro avg       0.80      0.53      0.64       167\n",
      "   macro avg       0.83      0.56      0.60       167\n",
      "weighted avg       0.83      0.53      0.58       167\n",
      " samples avg       0.28      0.27      0.27       167\n",
      "\n",
      "----------------------------------------------------------\n",
      "              precision    recall  f1-score   support\n",
      "\n",
      "         age       0.60      0.24      0.34        25\n",
      "  disability       0.60      0.58      0.59        26\n",
      "   masculine       0.77      0.37      0.50        27\n",
      "    feminine       0.86      0.90      0.88        20\n",
      "      racial       0.76      0.87      0.81        15\n",
      "   sexuality       0.86      0.93      0.89        27\n",
      "     general       1.00      0.30      0.46        27\n",
      "\n",
      "   micro avg       0.77      0.57      0.66       167\n",
      "   macro avg       0.78      0.60      0.64       167\n",
      "weighted avg       0.78      0.57      0.62       167\n",
      " samples avg       0.30      0.29      0.29       167\n",
      "\n",
      "----------------------------------------------------------\n"
     ]
    },
    {
     "data": {
      "text/plain": [
       "TrainOutput(global_step=400, training_loss=0.1948506025969982, metrics={'train_runtime': 169.9069, 'train_samples_per_second': 73.923, 'train_steps_per_second': 2.354, 'total_flos': 3304823212032000.0, 'train_loss': 0.1948506025969982, 'epoch': 10.0})"
      ]
     },
     "execution_count": 14,
     "metadata": {},
     "output_type": "execute_result"
    }
   ],
   "source": [
    "from transformers import TrainingArguments, Trainer, DataCollatorWithPadding,TrainerCallback\n",
    "from huggingface_hub import HfFolder\n",
    "\n",
    "metric_name = 'loss' #\"f1_micro\"\n",
    "\n",
    "args = TrainingArguments(\n",
    "    model_id,\n",
    "    evaluation_strategy=\"epoch\",\n",
    "    learning_rate=learning_rate,\n",
    "    #optim=optimiser,\n",
    "    #lr_scheduler_type=\"cosine\",\n",
    "    per_device_train_batch_size=batch_size,\n",
    "    per_device_eval_batch_size=batch_size,\n",
    "    num_train_epochs=num_train_epochs,\n",
    "    weight_decay=weight_decay,\n",
    "    save_strategy=\"epoch\",\n",
    "    load_best_model_at_end=True,\n",
    "    metric_for_best_model=metric_name,\n",
    "    fp16=True,\n",
    "    gradient_checkpointing=use_gradient_checkpointing,\n",
    "    overwrite_output_dir=True,\n",
    "    #push_to_hub=True,\n",
    "    #output_dir=repository_id,\n",
    "    #logging_dir=f\"{model_id}/logs\",\n",
    "    logging_strategy=\"steps\",\n",
    "    logging_steps=10,\n",
    "    #warmup_steps=500,\n",
    "    #warmup_ratio=0.1,\n",
    "    #max_grad_norm=0.3,\n",
    "    save_total_limit=3,\n",
    "    #report_to=\"tensorboard\",\n",
    "    #push_to_hub=True,\n",
    "    #hub_strategy=\"every_save\",\n",
    "    #hub_model_id=hub_model_id,\n",
    "    #hub_token=HfFolder.get_token(),\n",
    ")\n",
    "\n",
    "#early_stop = transformers.EarlyStoppingCallback(10, 1.15)\n",
    "class PrintClassificationCallback(TrainerCallback):\n",
    "    def on_evaluate(self, args, state, control, logs=None, **kwargs):\n",
    "        print(\"----------------------------------------------------------\")\n",
    "\n",
    "\n",
    "trainer = Trainer(\n",
    "    model=model,\n",
    "    args=args,\n",
    "    train_dataset=encoded_dataset[\"train\"],\n",
    "    eval_dataset=encoded_dataset[\"val\"],\n",
    "    # For padding a batch of examples to the maximum length seen in the batch\n",
    "    data_collator=DataCollatorWithPadding(tokenizer=tokenizer),\n",
    "    compute_metrics=compute_metrics,\n",
    "    callbacks=[PrintClassificationCallback]\n",
    "    #tokenizer=tokenizer,\n",
    "    #   callbacks=[early_stop]\n",
    ")\n",
    "\n",
    "model.config.use_cache = False  # Silence the warnings.\n",
    "trainer.train()"
   ]
  },
  {
   "cell_type": "markdown",
   "metadata": {},
   "source": [
    "# Evaluate"
   ]
  },
  {
   "cell_type": "code",
   "execution_count": 18,
   "metadata": {},
   "outputs": [
    {
     "name": "stdout",
     "output_type": "stream",
     "text": [
      "              precision    recall  f1-score   support\n",
      "\n",
      "         age       0.65      0.21      0.32        81\n",
      "  disability       0.68      0.62      0.65        81\n",
      "   masculine       0.90      0.33      0.48        79\n",
      "    feminine       0.88      0.93      0.90        76\n",
      "      racial       0.70      0.79      0.74        78\n",
      "   sexuality       0.85      0.90      0.87        81\n",
      "     general       0.83      0.18      0.30        82\n",
      "\n",
      "   micro avg       0.78      0.56      0.65       558\n",
      "   macro avg       0.78      0.57      0.61       558\n",
      "weighted avg       0.78      0.56      0.61       558\n",
      " samples avg       0.30      0.29      0.30       558\n",
      "\n",
      "----------------------------------------------------------\n"
     ]
    },
    {
     "data": {
      "text/plain": [
       "{'eval_loss': 0.1428500860929489,\n",
       " 'eval_accuracy': 0.7523900573613767,\n",
       " 'eval_f1_micro': 0.6534859521331946,\n",
       " 'eval_f1_macro': 0.6093749781345484,\n",
       " 'eval_f1_samples': 0.2953154875717017,\n",
       " 'eval_f1_weighted': 0.605919017447161,\n",
       " 'eval_precision_micro': 0.7791563275434243,\n",
       " 'eval_recall_micro': 0.5627240143369175,\n",
       " 'eval_roc_auc_micro': 0.7747830598000377,\n",
       " 'eval_runtime': 2.715,\n",
       " 'eval_samples_per_second': 385.266,\n",
       " 'eval_steps_per_second': 12.155,\n",
       " 'epoch': 10.0}"
      ]
     },
     "execution_count": 18,
     "metadata": {},
     "output_type": "execute_result"
    }
   ],
   "source": [
    "test_results = trainer.evaluate(eval_dataset=encoded_dataset['test'])\n",
    "test_results"
   ]
  },
  {
   "cell_type": "code",
   "execution_count": 19,
   "metadata": {
    "ExecuteTime": {
     "end_time": "2024-05-24T10:50:14.331642Z",
     "start_time": "2024-05-24T10:50:14.315272Z"
    }
   },
   "outputs": [
    {
     "name": "stdout",
     "output_type": "stream",
     "text": [
      "                 Metric      Value\n",
      "              eval_loss   0.142850\n",
      "          eval_accuracy   0.752390\n",
      "          eval_f1_micro   0.653486\n",
      "          eval_f1_macro   0.609375\n",
      "        eval_f1_samples   0.295315\n",
      "       eval_f1_weighted   0.605919\n",
      "   eval_precision_micro   0.779156\n",
      "      eval_recall_micro   0.562724\n",
      "     eval_roc_auc_micro   0.774783\n",
      "           eval_runtime   2.715000\n",
      "eval_samples_per_second 385.266000\n",
      "  eval_steps_per_second  12.155000\n",
      "                  epoch  10.000000\n"
     ]
    }
   ],
   "source": [
    "import pandas as pd\n",
    "df = pd.DataFrame(list(test_results.items()), columns=['Metric', 'Value'])\n",
    "print(df.to_string(index=False))"
   ]
  },
  {
   "cell_type": "markdown",
   "metadata": {},
   "source": [
    "# Push to Hugging Face"
   ]
  },
  {
   "cell_type": "code",
   "execution_count": 17,
   "metadata": {},
   "outputs": [
    {
     "data": {
      "application/vnd.jupyter.widget-view+json": {
       "model_id": "adcbe1c94dae45b2b3a2d401eec716ec",
       "version_major": 2,
       "version_minor": 0
      },
      "text/plain": [
       "VBox(children=(HTML(value='<center> <img\\nsrc=https://huggingface.co/front/assets/huggingface_logo-noborder.sv…"
      ]
     },
     "metadata": {},
     "output_type": "display_data"
    }
   ],
   "source": [
    "from huggingface_hub import notebook_login\n",
    "notebook_login()"
   ]
  },
  {
   "cell_type": "code",
   "execution_count": 20,
   "metadata": {},
   "outputs": [
    {
     "data": {
      "application/vnd.jupyter.widget-view+json": {
       "model_id": "e061a0d50819456fa2d0fa2fa5f1c4ba",
       "version_major": 2,
       "version_minor": 0
      },
      "text/plain": [
       "README.md:   0%|          | 0.00/9.12k [00:00<?, ?B/s]"
      ]
     },
     "metadata": {},
     "output_type": "display_data"
    },
    {
     "data": {
      "text/plain": [
       "CommitInfo(commit_url='https://huggingface.co/2024-mcm-everitt-ryan/roberta-base-job-bias-mixed/commit/2dbc66ab8d357c55ef24832b306fcaf040197f4c', commit_message='Upload README.md with huggingface_hub', commit_description='', oid='2dbc66ab8d357c55ef24832b306fcaf040197f4c', pr_url=None, pr_revision=None, pr_num=None)"
      ]
     },
     "execution_count": 20,
     "metadata": {},
     "output_type": "execute_result"
    }
   ],
   "source": [
    "\n",
    "from huggingface_hub import ModelCard, EvalResult, ModelCardData\n",
    "import platform\n",
    "import sys\n",
    "import os\n",
    "\n",
    "model.push_to_hub(repo_id=hub_model_id, token=HfFolder.get_token())\n",
    "tokenizer.push_to_hub(repo_id=hub_model_id, token=HfFolder.get_token())\n",
    "\n",
    "###### Update Model Card ######\n",
    "\n",
    "eval_results = []\n",
    "for k, v in test_results.items():\n",
    "    eval_results.append(EvalResult(\n",
    "        task_type='multi_label_classification',\n",
    "        dataset_type='mix_human-eval_synthetic',\n",
    "        dataset_name=dataset_id,\n",
    "        metric_type=k.replace(\"eval_\", \"\", 1),\n",
    "        metric_value=v))\n",
    "\n",
    "direct_use = \"\"\"\n",
    "    ```python\n",
    "    from transformers import pipeline\n",
    "\n",
    "    pipe = pipeline(\"text-classification\", model=\"${hub_model_id}\", return_all_scores=True)\n",
    "\n",
    "    results = pipe(\"Join our dynamic and fast-paced team as a Junior Marketing Specialist. We seek a tech-savvy and energetic individual who thrives in a vibrant environment. Ideal candidates are digital natives with a fresh perspective, ready to adapt quickly to new trends. You should have recent experience in social media strategies and a strong understanding of current digital marketing tools. We're looking for someone with a youthful mindset, eager to bring innovative ideas to our young and ambitious team. If you're a recent graduate or early in your career, this opportunity is perfect for you!\")\n",
    "    print(results)\n",
    "    ```\n",
    "    >> [[\n",
    "    {'label': 'age', 'score': 0.9883460402488708}, \n",
    "    {'label': 'disability', 'score': 0.00787709467113018}, \n",
    "    {'label': 'feminine', 'score': 0.007224376779049635}, \n",
    "    {'label': 'general', 'score': 0.09967829287052155}, \n",
    "    {'label': 'masculine', 'score': 0.0035264550242573023}, \n",
    "    {'label': 'racial', 'score': 0.014618005603551865}, \n",
    "    {'label': 'sexuality', 'score': 0.005568435415625572}\n",
    "    ]]\n",
    "    \"\"\"\n",
    "direct_use = direct_use.replace('${hub_model_id}', hub_model_id, -1)\n",
    "\n",
    "card_data = ModelCardData(\n",
    "    model_id=model_id,\n",
    "    model_name=model_id,\n",
    "    model_description=\"The model is a multi-label classifier designed to detect various types of bias within job descriptions.\",\n",
    "    base_model=base_model_id,\n",
    "    language='en',\n",
    "    license='apache-2.0',\n",
    "    developers=\"Tristan Everitt and Paul Ryan\",\n",
    "    model_card_authors='See developers',\n",
    "    model_card_contact='See developers',\n",
    "    repo=\"https://gitlab.computing.dcu.ie/everitt2/2024-mcm-everitt-ryan\",\n",
    "    eval_results=eval_results,\n",
    "    compute_infrastructure=f'{platform.system()} {platform.release()} {platform.processor()}',\n",
    "    # hardware_requirements=f\"CPUs: {psutil.cpu_count()}, Memory: {psutil.virtual_memory().total} bytes\",\n",
    "    software=f'Python {platform.python_version()}',\n",
    "    hardware_type=platform.machine(),\n",
    "    hours_used='N/A',\n",
    "    cloud_provider='N/A',\n",
    "    cloud_region='N/A',\n",
    "    co2_emitted='N/A',\n",
    "    datasets=[dataset_id],\n",
    "    direct_use=direct_use\n",
    ")\n",
    "\n",
    "card = ModelCard.from_template(card_data)\n",
    "\n",
    "card.push_to_hub(repo_id=hub_model_id, token=HfFolder.get_token())"
   ]
  },
  {
   "cell_type": "code",
   "execution_count": null,
   "metadata": {},
   "outputs": [],
   "source": []
  }
 ],
 "metadata": {
  "accelerator": "GPU",
  "colab": {
   "authorship_tag": "ABX9TyMiblo1Ci0GTlAbbA5wB3mn",
   "collapsed_sections": [],
   "include_colab_link": true,
   "name": "Fine-tuning BERT (and friends) for multi-label text classification.ipynb",
   "provenance": []
  },
  "kernelspec": {
   "display_name": "Python 3 (ipykernel)",
   "language": "python",
   "name": "python3"
  },
  "language_info": {
   "codemirror_mode": {
    "name": "ipython",
    "version": 3
   },
   "file_extension": ".py",
   "mimetype": "text/x-python",
   "name": "python",
   "nbconvert_exporter": "python",
   "pygments_lexer": "ipython3",
   "version": "3.10.12"
  },
  "widgets": {
   "application/vnd.jupyter.widget-state+json": {
    "091f8220f33241f288faa0612853585f": {
     "model_module": "@jupyter-widgets/controls",
     "model_module_version": "1.5.0",
     "model_name": "FloatProgressModel",
     "state": {
      "_dom_classes": [],
      "_model_module": "@jupyter-widgets/controls",
      "_model_module_version": "1.5.0",
      "_model_name": "FloatProgressModel",
      "_view_count": null,
      "_view_module": "@jupyter-widgets/controls",
      "_view_module_version": "1.5.0",
      "_view_name": "ProgressView",
      "bar_style": "success",
      "description": "",
      "description_tooltip": null,
      "layout": "IPY_MODEL_6111a73e684a47769bda7183a836ee91",
      "max": 3,
      "min": 0,
      "orientation": "horizontal",
      "style": "IPY_MODEL_8b1899a0c4b144d7a5e6599f8afb8b65",
      "value": 3
     }
    },
    "1045bb16e3694410898a73cf1b848917": {
     "model_module": "@jupyter-widgets/controls",
     "model_module_version": "1.5.0",
     "model_name": "HTMLModel",
     "state": {
      "_dom_classes": [],
      "_model_module": "@jupyter-widgets/controls",
      "_model_module_version": "1.5.0",
      "_model_name": "HTMLModel",
      "_view_count": null,
      "_view_module": "@jupyter-widgets/controls",
      "_view_module_version": "1.5.0",
      "_view_name": "HTMLView",
      "description": "",
      "description_tooltip": null,
      "layout": "IPY_MODEL_bbba60f793c14100934a268063f63d26",
      "placeholder": "​",
      "style": "IPY_MODEL_cd3570ddf67541d7818d97e236c54e54",
      "value": " 3/3 [00:00&lt;00:00, 75.93it/s]"
     }
    },
    "308fa6a7348140ec981a8d6c7d31f346": {
     "model_module": "@jupyter-widgets/base",
     "model_module_version": "1.2.0",
     "model_name": "LayoutModel",
     "state": {
      "_model_module": "@jupyter-widgets/base",
      "_model_module_version": "1.2.0",
      "_model_name": "LayoutModel",
      "_view_count": null,
      "_view_module": "@jupyter-widgets/base",
      "_view_module_version": "1.2.0",
      "_view_name": "LayoutView",
      "align_content": null,
      "align_items": null,
      "align_self": null,
      "border": null,
      "bottom": null,
      "display": null,
      "flex": null,
      "flex_flow": null,
      "grid_area": null,
      "grid_auto_columns": null,
      "grid_auto_flow": null,
      "grid_auto_rows": null,
      "grid_column": null,
      "grid_gap": null,
      "grid_row": null,
      "grid_template_areas": null,
      "grid_template_columns": null,
      "grid_template_rows": null,
      "height": null,
      "justify_content": null,
      "justify_items": null,
      "left": null,
      "margin": null,
      "max_height": null,
      "max_width": null,
      "min_height": null,
      "min_width": null,
      "object_fit": null,
      "object_position": null,
      "order": null,
      "overflow": null,
      "overflow_x": null,
      "overflow_y": null,
      "padding": null,
      "right": null,
      "top": null,
      "visibility": null,
      "width": null
     }
    },
    "5080d322a8034924b652b379c04667ed": {
     "model_module": "@jupyter-widgets/base",
     "model_module_version": "1.2.0",
     "model_name": "LayoutModel",
     "state": {
      "_model_module": "@jupyter-widgets/base",
      "_model_module_version": "1.2.0",
      "_model_name": "LayoutModel",
      "_view_count": null,
      "_view_module": "@jupyter-widgets/base",
      "_view_module_version": "1.2.0",
      "_view_name": "LayoutView",
      "align_content": null,
      "align_items": null,
      "align_self": null,
      "border": null,
      "bottom": null,
      "display": null,
      "flex": null,
      "flex_flow": null,
      "grid_area": null,
      "grid_auto_columns": null,
      "grid_auto_flow": null,
      "grid_auto_rows": null,
      "grid_column": null,
      "grid_gap": null,
      "grid_row": null,
      "grid_template_areas": null,
      "grid_template_columns": null,
      "grid_template_rows": null,
      "height": null,
      "justify_content": null,
      "justify_items": null,
      "left": null,
      "margin": null,
      "max_height": null,
      "max_width": null,
      "min_height": null,
      "min_width": null,
      "object_fit": null,
      "object_position": null,
      "order": null,
      "overflow": null,
      "overflow_x": null,
      "overflow_y": null,
      "padding": null,
      "right": null,
      "top": null,
      "visibility": null,
      "width": null
     }
    },
    "6111a73e684a47769bda7183a836ee91": {
     "model_module": "@jupyter-widgets/base",
     "model_module_version": "1.2.0",
     "model_name": "LayoutModel",
     "state": {
      "_model_module": "@jupyter-widgets/base",
      "_model_module_version": "1.2.0",
      "_model_name": "LayoutModel",
      "_view_count": null,
      "_view_module": "@jupyter-widgets/base",
      "_view_module_version": "1.2.0",
      "_view_name": "LayoutView",
      "align_content": null,
      "align_items": null,
      "align_self": null,
      "border": null,
      "bottom": null,
      "display": null,
      "flex": null,
      "flex_flow": null,
      "grid_area": null,
      "grid_auto_columns": null,
      "grid_auto_flow": null,
      "grid_auto_rows": null,
      "grid_column": null,
      "grid_gap": null,
      "grid_row": null,
      "grid_template_areas": null,
      "grid_template_columns": null,
      "grid_template_rows": null,
      "height": null,
      "justify_content": null,
      "justify_items": null,
      "left": null,
      "margin": null,
      "max_height": null,
      "max_width": null,
      "min_height": null,
      "min_width": null,
      "object_fit": null,
      "object_position": null,
      "order": null,
      "overflow": null,
      "overflow_x": null,
      "overflow_y": null,
      "padding": null,
      "right": null,
      "top": null,
      "visibility": null,
      "width": null
     }
    },
    "8b1899a0c4b144d7a5e6599f8afb8b65": {
     "model_module": "@jupyter-widgets/controls",
     "model_module_version": "1.5.0",
     "model_name": "ProgressStyleModel",
     "state": {
      "_model_module": "@jupyter-widgets/controls",
      "_model_module_version": "1.5.0",
      "_model_name": "ProgressStyleModel",
      "_view_count": null,
      "_view_module": "@jupyter-widgets/base",
      "_view_module_version": "1.2.0",
      "_view_name": "StyleView",
      "bar_color": null,
      "description_width": ""
     }
    },
    "8bc92587e35443488445e7521fbd0a13": {
     "model_module": "@jupyter-widgets/controls",
     "model_module_version": "1.5.0",
     "model_name": "HTMLModel",
     "state": {
      "_dom_classes": [],
      "_model_module": "@jupyter-widgets/controls",
      "_model_module_version": "1.5.0",
      "_model_name": "HTMLModel",
      "_view_count": null,
      "_view_module": "@jupyter-widgets/controls",
      "_view_module_version": "1.5.0",
      "_view_name": "HTMLView",
      "description": "",
      "description_tooltip": null,
      "layout": "IPY_MODEL_5080d322a8034924b652b379c04667ed",
      "placeholder": "​",
      "style": "IPY_MODEL_cb95e545fbdd4e99903bf634df694c9f",
      "value": "100%"
     }
    },
    "9a1aa9f2cc29473f9f8e5459d2641e76": {
     "model_module": "@jupyter-widgets/controls",
     "model_module_version": "1.5.0",
     "model_name": "HBoxModel",
     "state": {
      "_dom_classes": [],
      "_model_module": "@jupyter-widgets/controls",
      "_model_module_version": "1.5.0",
      "_model_name": "HBoxModel",
      "_view_count": null,
      "_view_module": "@jupyter-widgets/controls",
      "_view_module_version": "1.5.0",
      "_view_name": "HBoxView",
      "box_style": "",
      "children": [
       "IPY_MODEL_8bc92587e35443488445e7521fbd0a13",
       "IPY_MODEL_091f8220f33241f288faa0612853585f",
       "IPY_MODEL_1045bb16e3694410898a73cf1b848917"
      ],
      "layout": "IPY_MODEL_308fa6a7348140ec981a8d6c7d31f346"
     }
    },
    "bbba60f793c14100934a268063f63d26": {
     "model_module": "@jupyter-widgets/base",
     "model_module_version": "1.2.0",
     "model_name": "LayoutModel",
     "state": {
      "_model_module": "@jupyter-widgets/base",
      "_model_module_version": "1.2.0",
      "_model_name": "LayoutModel",
      "_view_count": null,
      "_view_module": "@jupyter-widgets/base",
      "_view_module_version": "1.2.0",
      "_view_name": "LayoutView",
      "align_content": null,
      "align_items": null,
      "align_self": null,
      "border": null,
      "bottom": null,
      "display": null,
      "flex": null,
      "flex_flow": null,
      "grid_area": null,
      "grid_auto_columns": null,
      "grid_auto_flow": null,
      "grid_auto_rows": null,
      "grid_column": null,
      "grid_gap": null,
      "grid_row": null,
      "grid_template_areas": null,
      "grid_template_columns": null,
      "grid_template_rows": null,
      "height": null,
      "justify_content": null,
      "justify_items": null,
      "left": null,
      "margin": null,
      "max_height": null,
      "max_width": null,
      "min_height": null,
      "min_width": null,
      "object_fit": null,
      "object_position": null,
      "order": null,
      "overflow": null,
      "overflow_x": null,
      "overflow_y": null,
      "padding": null,
      "right": null,
      "top": null,
      "visibility": null,
      "width": null
     }
    },
    "cb95e545fbdd4e99903bf634df694c9f": {
     "model_module": "@jupyter-widgets/controls",
     "model_module_version": "1.5.0",
     "model_name": "DescriptionStyleModel",
     "state": {
      "_model_module": "@jupyter-widgets/controls",
      "_model_module_version": "1.5.0",
      "_model_name": "DescriptionStyleModel",
      "_view_count": null,
      "_view_module": "@jupyter-widgets/base",
      "_view_module_version": "1.2.0",
      "_view_name": "StyleView",
      "description_width": ""
     }
    },
    "cd3570ddf67541d7818d97e236c54e54": {
     "model_module": "@jupyter-widgets/controls",
     "model_module_version": "1.5.0",
     "model_name": "DescriptionStyleModel",
     "state": {
      "_model_module": "@jupyter-widgets/controls",
      "_model_module_version": "1.5.0",
      "_model_name": "DescriptionStyleModel",
      "_view_count": null,
      "_view_module": "@jupyter-widgets/base",
      "_view_module_version": "1.2.0",
      "_view_name": "StyleView",
      "description_width": ""
     }
    }
   }
  }
 },
 "nbformat": 4,
 "nbformat_minor": 4
}
